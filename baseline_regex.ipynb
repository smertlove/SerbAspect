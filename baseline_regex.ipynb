{
 "cells": [
  {
   "cell_type": "code",
   "execution_count": 10,
   "metadata": {},
   "outputs": [],
   "source": [
    "import pandas as pd\n",
    "from sklearn.metrics import classification_report\n",
    "import re\n",
    "\n",
    "import pathlib"
   ]
  },
  {
   "cell_type": "code",
   "execution_count": 18,
   "metadata": {},
   "outputs": [],
   "source": [
    "class RulesAspectClassifier:\n",
    "\n",
    "    perf_suf_tmpl = re.compile(\"^(po|pro|na|iz|za|s|u|do|raz|od)\")\n",
    "    imp_suf_tmpl  = re.compile(\"(iva|ava|ova|uva)$\")\n",
    "\n",
    "    def __init__(self, biase:str=\"imp\"):\n",
    "        self.biase = biase\n",
    "\n",
    "    def predict_(self, x: str) -> int:\n",
    "\n",
    "        x = x.lower()\n",
    "\n",
    "        if self.perf_suf_tmpl.match(x):\n",
    "            return \"perf\"\n",
    "\n",
    "        elif self.imp_suf_tmpl.search(x):\n",
    "            return \"imp\"\n",
    "\n",
    "        elif x.endswith(\"ti\"):\n",
    "            return \"imp\"\n",
    "\n",
    "        ##  Если ничего не найдено, возвращаем предубеждение\n",
    "        else:\n",
    "            return self.biase\n",
    "\n",
    "    def predict(self, X:list[str]) -> list[str]:\n",
    "        return [\n",
    "            self.predict_(x)\n",
    "            for x\n",
    "            in X\n",
    "        ]"
   ]
  },
  {
   "cell_type": "code",
   "execution_count": 12,
   "metadata": {},
   "outputs": [],
   "source": [
    "data_path = pathlib.Path.cwd() / \"data\" / \"forms2sents.csv\""
   ]
  },
  {
   "cell_type": "code",
   "execution_count": 14,
   "metadata": {},
   "outputs": [
    {
     "data": {
      "text/html": [
       "<div>\n",
       "<style scoped>\n",
       "    .dataframe tbody tr th:only-of-type {\n",
       "        vertical-align: middle;\n",
       "    }\n",
       "\n",
       "    .dataframe tbody tr th {\n",
       "        vertical-align: top;\n",
       "    }\n",
       "\n",
       "    .dataframe thead th {\n",
       "        text-align: right;\n",
       "    }\n",
       "</style>\n",
       "<table border=\"1\" class=\"dataframe\">\n",
       "  <thead>\n",
       "    <tr style=\"text-align: right;\">\n",
       "      <th></th>\n",
       "      <th>lemma</th>\n",
       "      <th>word</th>\n",
       "      <th>aspect</th>\n",
       "      <th>feats</th>\n",
       "      <th>nsubj</th>\n",
       "      <th>obj</th>\n",
       "      <th>iobj</th>\n",
       "      <th>obl</th>\n",
       "      <th>rel</th>\n",
       "      <th>text</th>\n",
       "    </tr>\n",
       "  </thead>\n",
       "  <tbody>\n",
       "    <tr>\n",
       "      <th>3013</th>\n",
       "      <td>bacati</td>\n",
       "      <td>bacali</td>\n",
       "      <td>imp</td>\n",
       "      <td>Gender=Masc|Number=Plur|Tense=Past|VerbForm=Pa...</td>\n",
       "      <td>šlepovi,NOUN,Case=Nom|Gender=Masc|Number=Plur</td>\n",
       "      <td>ga,PRON,Case=Acc|Gender=Masc|Number=Sing|Perso...</td>\n",
       "      <td>NaN</td>\n",
       "      <td>obale,NOUN,Case=Gen|Gender=Fem|Number=Sing</td>\n",
       "      <td>root</td>\n",
       "      <td>\"Umesto da bacaju mulj 25-30 km prema pučini, ...</td>\n",
       "    </tr>\n",
       "    <tr>\n",
       "      <th>4147</th>\n",
       "      <td>bacati</td>\n",
       "      <td>bacaju</td>\n",
       "      <td>imp</td>\n",
       "      <td>Mood=Ind|Number=Plur|Person=3|Tense=Pres|VerbF...</td>\n",
       "      <td>razgovori,NOUN,Case=Nom|Gender=Masc|Number=Plur</td>\n",
       "      <td>senku,NOUN,Case=Acc|Gender=Fem|Number=Sing</td>\n",
       "      <td>NaN</td>\n",
       "      <td>ekonomiju,NOUN,Case=Acc|Gender=Fem|Number=Sing</td>\n",
       "      <td>root</td>\n",
       "      <td>Blokirani razgovori sa MMF bacaju senku na nek...</td>\n",
       "    </tr>\n",
       "  </tbody>\n",
       "</table>\n",
       "</div>"
      ],
      "text/plain": [
       "       lemma    word  ...   rel                                               text\n",
       "3013  bacati  bacali  ...  root  \"Umesto da bacaju mulj 25-30 km prema pučini, ...\n",
       "4147  bacati  bacaju  ...  root  Blokirani razgovori sa MMF bacaju senku na nek...\n",
       "\n",
       "[2 rows x 10 columns]"
      ]
     },
     "execution_count": 14,
     "metadata": {},
     "output_type": "execute_result"
    }
   ],
   "source": [
    "df = pd.read_csv(data_path, sep=\"\\t\", index_col=0)\n",
    "df.head(2)"
   ]
  },
  {
   "cell_type": "code",
   "execution_count": 15,
   "metadata": {},
   "outputs": [],
   "source": [
    "X = df[\"word\"]\n",
    "y = df[\"aspect\"]"
   ]
  },
  {
   "cell_type": "code",
   "execution_count": 19,
   "metadata": {},
   "outputs": [],
   "source": [
    "rules_model_imp_biase  = RulesAspectClassifier(biase=\"imp\")\n",
    "rules_model_perf_biase = RulesAspectClassifier(biase=\"perf\")\n",
    "rules_model_both_biase = RulesAspectClassifier(biase=\"both\")"
   ]
  },
  {
   "cell_type": "code",
   "execution_count": 20,
   "metadata": {},
   "outputs": [],
   "source": [
    "y_imp_pred  = rules_model_imp_biase.predict(X)\n",
    "y_perf_pred = rules_model_perf_biase.predict(X)\n",
    "y_both_pred = rules_model_both_biase.predict(X)"
   ]
  },
  {
   "cell_type": "code",
   "execution_count": 25,
   "metadata": {},
   "outputs": [
    {
     "name": "stdout",
     "output_type": "stream",
     "text": [
      "              precision    recall  f1-score   support\n",
      "\n",
      "        both       0.00      0.00      0.00       212\n",
      "         imp       0.60      0.66      0.63      2348\n",
      "        perf       0.66      0.65      0.66      2448\n",
      "\n",
      "    accuracy                           0.63      5008\n",
      "   macro avg       0.42      0.44      0.43      5008\n",
      "weighted avg       0.60      0.63      0.62      5008\n",
      "\n"
     ]
    }
   ],
   "source": [
    "print(classification_report(y, y_imp_pred, zero_division=0.0))"
   ]
  },
  {
   "cell_type": "code",
   "execution_count": 28,
   "metadata": {},
   "outputs": [
    {
     "name": "stdout",
     "output_type": "stream",
     "text": [
      "              precision    recall  f1-score   support\n",
      "\n",
      "        both       0.00      0.00      0.00       212\n",
      "         imp       0.56      0.05      0.08      2348\n",
      "        perf       0.49      0.97      0.65      2448\n",
      "\n",
      "    accuracy                           0.49      5008\n",
      "   macro avg       0.35      0.34      0.25      5008\n",
      "weighted avg       0.50      0.49      0.36      5008\n",
      "\n"
     ]
    }
   ],
   "source": [
    "print(classification_report(y, y_perf_pred, zero_division=0.0))"
   ]
  },
  {
   "cell_type": "code",
   "execution_count": 29,
   "metadata": {},
   "outputs": [
    {
     "name": "stdout",
     "output_type": "stream",
     "text": [
      "              precision    recall  f1-score   support\n",
      "\n",
      "        both       0.08      0.89      0.14       212\n",
      "         imp       0.56      0.05      0.08      2348\n",
      "        perf       0.66      0.65      0.66      2448\n",
      "\n",
      "    accuracy                           0.38      5008\n",
      "   macro avg       0.43      0.53      0.30      5008\n",
      "weighted avg       0.59      0.38      0.37      5008\n",
      "\n"
     ]
    }
   ],
   "source": [
    "print(classification_report(y, y_both_pred, zero_division=0.0))"
   ]
  },
  {
   "cell_type": "code",
   "execution_count": null,
   "metadata": {},
   "outputs": [],
   "source": []
  }
 ],
 "metadata": {
  "kernelspec": {
   "display_name": ".venv",
   "language": "python",
   "name": "python3"
  },
  "language_info": {
   "codemirror_mode": {
    "name": "ipython",
    "version": 3
   },
   "file_extension": ".py",
   "mimetype": "text/x-python",
   "name": "python",
   "nbconvert_exporter": "python",
   "pygments_lexer": "ipython3",
   "version": "3.10.12"
  }
 },
 "nbformat": 4,
 "nbformat_minor": 2
}
