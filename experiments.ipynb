{
 "cells": [
  {
   "cell_type": "markdown",
   "id": "19c40af1",
   "metadata": {},
   "source": [
    "# Предсказание вида (аспекта) сербских глаголов\n",
    "## _На материалах UD_Serbian-SET_\n",
    "### Импорты, настройки, глобальные переменные"
   ]
  },
  {
   "cell_type": "code",
   "execution_count": 1,
   "id": "65f92236",
   "metadata": {},
   "outputs": [],
   "source": [
    "import pandas as pd\n",
    "import csv\n",
    "from pathlib import Path\n",
    "\n",
    "from sklearn.model_selection import train_test_split, cross_val_score\n",
    "from sklearn.preprocessing import LabelEncoder, OneHotEncoder\n",
    "from sklearn.metrics import classification_report, confusion_matrix, f1_score\n",
    "\n",
    "from sklearn.linear_model import LogisticRegression\n",
    "from lightgbm import LGBMClassifier\n",
    "from sklearn.tree import DecisionTreeClassifier\n",
    "\n",
    "import matplotlib.pyplot as plt\n",
    "import seaborn as sns\n",
    "from yellowbrick.model_selection import FeatureImportances\n",
    "\n",
    "import numpy as np\n",
    "\n",
    "import re\n",
    "\n",
    "import torch\n",
    "import torch.nn as nn\n",
    "import torch.optim as optim\n",
    "from torch.utils.data import DataLoader, TensorDataset\n",
    "from sklearn.preprocessing import StandardScaler\n",
    "from sklearn.model_selection import train_test_split\n",
    "import numpy as np"
   ]
  },
  {
   "cell_type": "code",
   "execution_count": 2,
   "id": "43aed449",
   "metadata": {},
   "outputs": [],
   "source": [
    "class Log:\n",
    "\n",
    "    cols = [\"experiment_name\", \"model_name\", \"F1\"]\n",
    "\n",
    "    def __init__(self, fname: Path, sep: str):\n",
    "\n",
    "        self.fname = fname\n",
    "        self.sep = sep\n",
    "\n",
    "        if not self.fname.exists():\n",
    "            with open(fname, \"w\", encoding=\"utf-8\") as file:\n",
    "                file.write(self.sep.join(self.cols) + \"\\n\")\n",
    "\n",
    "    def write(self, vals):\n",
    "        with open(self.fname, \"a+\", encoding=\"utf-8\") as file:\n",
    "            file.write(self.sep.join(vals) + \"\\n\")"
   ]
  },
  {
   "cell_type": "code",
   "execution_count": 3,
   "id": "6cb443c0",
   "metadata": {},
   "outputs": [],
   "source": [
    "PAD_TOK = \"[PAD]\"\n",
    "RANDOM_STATE = 42\n",
    "\n",
    "DATAPATH = Path.cwd() / \"data\" / \"datasetForAnalysis.csv\"\n",
    "LOGPATH = Path.cwd() / \"data\" / \"models_results.csv\"\n",
    "\n",
    "SEP = \"\\t\"\n",
    "\n",
    "LOG = Log(LOGPATH, SEP)\n",
    "\n",
    "%matplotlib inline\n",
    "\n",
    "import warnings\n",
    "warnings.filterwarnings(\"ignore\")"
   ]
  },
  {
   "cell_type": "markdown",
   "id": "6f4ef18c",
   "metadata": {},
   "source": [
    "### Загрузка и подготовка датасета"
   ]
  },
  {
   "cell_type": "code",
   "execution_count": 4,
   "id": "dfc595f3",
   "metadata": {},
   "outputs": [],
   "source": [
    "df = pd.read_csv(\n",
    "    DATAPATH,\n",
    "    sep=\"\\t\",\n",
    "    quoting=csv.QUOTE_NONE,\n",
    "    index_col=0,\n",
    "    dtype=str\n",
    ")"
   ]
  },
  {
   "cell_type": "code",
   "execution_count": 5,
   "id": "30e8b5c6",
   "metadata": {},
   "outputs": [],
   "source": [
    "df = df.drop([\"POS\", \"db_id\"], axis=1)"
   ]
  },
  {
   "cell_type": "code",
   "execution_count": 6,
   "id": "951ea8c8",
   "metadata": {},
   "outputs": [],
   "source": [
    "df = df.fillna(PAD_TOK)"
   ]
  },
  {
   "cell_type": "code",
   "execution_count": 7,
   "id": "641506cc",
   "metadata": {},
   "outputs": [
    {
     "name": "stdout",
     "output_type": "stream",
     "text": [
      "<class 'pandas.core.frame.DataFrame'>\n",
      "Index: 4959 entries, 0 to 4958\n",
      "Data columns (total 34 columns):\n",
      " #   Column         Non-Null Count  Dtype \n",
      "---  ------         --------------  ----- \n",
      " 0   lemma          4959 non-null   object\n",
      " 1   word           4959 non-null   object\n",
      " 2   aspect         4959 non-null   object\n",
      " 3   disambig       4959 non-null   object\n",
      " 4   text           4959 non-null   object\n",
      " 5   Gender         4959 non-null   object\n",
      " 6   Mood           4959 non-null   object\n",
      " 7   Number         4959 non-null   object\n",
      " 8   Person         4959 non-null   object\n",
      " 9   Tense          4959 non-null   object\n",
      " 10  VerbForm       4959 non-null   object\n",
      " 11  Voice          4959 non-null   object\n",
      " 12  l_tok_3        4959 non-null   object\n",
      " 13  l_tok_2        4959 non-null   object\n",
      " 14  l_tok_1        4959 non-null   object\n",
      " 15  r_tok_1        4959 non-null   object\n",
      " 16  r_tok_2        4959 non-null   object\n",
      " 17  r_tok_3        4959 non-null   object\n",
      " 18  l_gr_1         4959 non-null   object\n",
      " 19  l_gr_2         4959 non-null   object\n",
      " 20  l_gr_3         4959 non-null   object\n",
      " 21  r_gr_1         4959 non-null   object\n",
      " 22  r_gr_2         4959 non-null   object\n",
      " 23  r_gr_3         4959 non-null   object\n",
      " 24  nsubj          4959 non-null   object\n",
      " 25  nsubj_count    4959 non-null   object\n",
      " 26  obj            4959 non-null   object\n",
      " 27  obj_count      4959 non-null   object\n",
      " 28  obl            4959 non-null   object\n",
      " 29  obl_count      4959 non-null   object\n",
      " 30  advmod         4959 non-null   object\n",
      " 31  advmod_count   4959 non-null   object\n",
      " 32  polarity       4959 non-null   object\n",
      " 33  polarity_word  4959 non-null   object\n",
      "dtypes: object(34)\n",
      "memory usage: 1.3+ MB\n"
     ]
    }
   ],
   "source": [
    "df.info()"
   ]
  },
  {
   "cell_type": "code",
   "execution_count": 8,
   "id": "b45f1ef8",
   "metadata": {},
   "outputs": [
    {
     "data": {
      "text/plain": [
       "lemma             311\n",
       "word             1451\n",
       "aspect              3\n",
       "disambig            3\n",
       "text             2605\n",
       "Gender              4\n",
       "Mood                3\n",
       "Number              3\n",
       "Person              4\n",
       "Tense               4\n",
       "VerbForm            3\n",
       "Voice               2\n",
       "l_tok_3          2048\n",
       "l_tok_2          2060\n",
       "l_tok_1          1611\n",
       "r_tok_1          1550\n",
       "r_tok_2          2330\n",
       "r_tok_3          2267\n",
       "l_gr_1             21\n",
       "l_gr_2             25\n",
       "l_gr_3             28\n",
       "r_gr_1              7\n",
       "r_gr_2             24\n",
       "r_gr_3             25\n",
       "nsubj              91\n",
       "nsubj_count         2\n",
       "obj                54\n",
       "obj_count           2\n",
       "obl               141\n",
       "obl_count           5\n",
       "advmod             52\n",
       "advmod_count        4\n",
       "polarity            2\n",
       "polarity_word      10\n",
       "dtype: int64"
      ]
     },
     "execution_count": 8,
     "metadata": {},
     "output_type": "execute_result"
    }
   ],
   "source": [
    "df.nunique()"
   ]
  },
  {
   "cell_type": "code",
   "execution_count": 9,
   "id": "930ff574",
   "metadata": {},
   "outputs": [],
   "source": [
    "target_vars = [\n",
    "    \"aspect\",\n",
    "    \"disambig\",\n",
    "]\n",
    "\n",
    "dict_vars = [\n",
    "    \"lemma\",\n",
    "    \"word\",\n",
    "]\n",
    "\n",
    "grapheme_vars = [\n",
    "    \"l_gr_1\",\n",
    "    \"l_gr_2\",\n",
    "    \"l_gr_3\",\n",
    "    \"r_gr_1\",\n",
    "    \"r_gr_2\",\n",
    "    \"r_gr_3\",\n",
    "]\n",
    "\n",
    "grammar_vars = [\n",
    "    \"Gender\",\n",
    "    \"Mood\",\n",
    "    \"Number\",\n",
    "    \"Person\",\n",
    "    \"Tense\",\n",
    "    \"VerbForm\",\n",
    "    \"Voice\",\n",
    "    \"nsubj_count\",\n",
    "    \"obj_count\",\n",
    "    \"obl_count\",\n",
    "    \"advmod_count\",\n",
    "    \"polarity\",\n",
    "]\n",
    "\n",
    "text_vars = [\n",
    "    \"lemma\",\n",
    "    \"word\",\n",
    "    \"text\",\n",
    "    \"l_tok_3\",\n",
    "    \"l_tok_2\",\n",
    "    \"l_tok_1\",\n",
    "    \"r_tok_1\",\n",
    "    \"r_tok_2\",\n",
    "    \"r_tok_3\",\n",
    "    \"nsubj\",\n",
    "    \"obj\",\n",
    "    \"obl\",\n",
    "    \"advmod\",\n",
    "    \"polarity_word\",\n",
    "]"
   ]
  },
  {
   "cell_type": "code",
   "execution_count": 10,
   "id": "9e5d87f7",
   "metadata": {},
   "outputs": [],
   "source": [
    "X = df.drop(target_vars, axis=1)\n",
    "y = df[target_vars]"
   ]
  },
  {
   "cell_type": "markdown",
   "id": "e237ee01",
   "metadata": {},
   "source": [
    "Возьмем обучающую, тестовую и валидационную выборку методом Holdout"
   ]
  },
  {
   "cell_type": "code",
   "execution_count": 11,
   "id": "8f4ae391",
   "metadata": {},
   "outputs": [],
   "source": [
    "X_train, X_test, y_train, y_test = train_test_split(\n",
    "    X,\n",
    "    y,\n",
    "    test_size=0.2,\n",
    "    random_state=RANDOM_STATE,\n",
    "    shuffle=True\n",
    ")"
   ]
  },
  {
   "cell_type": "code",
   "execution_count": 12,
   "id": "b3061789",
   "metadata": {},
   "outputs": [],
   "source": [
    "X_train, X_valid, y_train, y_valid = train_test_split(\n",
    "    X_train,\n",
    "    y_train,\n",
    "    test_size=0.25,\n",
    "    random_state=RANDOM_STATE,\n",
    "    shuffle=True\n",
    ")"
   ]
  },
  {
   "cell_type": "code",
   "execution_count": 13,
   "id": "20bef01a",
   "metadata": {},
   "outputs": [
    {
     "data": {
      "text/plain": [
       "((2975, 32), (992, 32), (992, 32), (2975, 2), (992, 2), (992, 2))"
      ]
     },
     "execution_count": 13,
     "metadata": {},
     "output_type": "execute_result"
    }
   ],
   "source": [
    "X_train.shape, X_test.shape, X_valid.shape, y_train.shape, y_test.shape, y_valid.shape"
   ]
  },
  {
   "cell_type": "markdown",
   "id": "caf3cedd",
   "metadata": {},
   "source": [
    "### Вспомогательные функции"
   ]
  },
  {
   "cell_type": "code",
   "execution_count": 14,
   "id": "36a71979",
   "metadata": {},
   "outputs": [],
   "source": [
    "def plot_corr(X: pd.DataFrame):\n",
    "\n",
    "    X_cpy = X.copy(deep=True)\n",
    "\n",
    "    label_encoder = LabelEncoder()\n",
    "    for column in X_cpy.columns:\n",
    "        X_cpy[column] = label_encoder.fit_transform(X_cpy[column])\n",
    "\n",
    "    corr= X_cpy.corr()\n",
    "\n",
    "    plt.figure(figsize=(8,6))\n",
    "    sns.heatmap(\n",
    "        corr,\n",
    "        mask=np.abs(corr) < 0.33,\n",
    "        annot=True,\n",
    "        fmt=\".2f\",\n",
    "        cmap=\"coolwarm\",\n",
    "        vmin=-1,\n",
    "        vmax=1\n",
    "    )\n",
    "    plt.title(\"Correlation Matrix\")\n",
    "    plt.show()"
   ]
  },
  {
   "cell_type": "code",
   "execution_count": 15,
   "id": "7cb23426",
   "metadata": {},
   "outputs": [],
   "source": [
    "def one_hot_encode(X_train, X_test, X_valid):\n",
    "\n",
    "    X_train_cpy = X_train.copy(deep=True)\n",
    "    X_test_cpy = X_test.copy(deep=True)\n",
    "    X_valid_cpy = X_valid.copy(deep=True)\n",
    "\n",
    "    encoder = OneHotEncoder(handle_unknown='warn', sparse_output=False)\n",
    "\n",
    "    pandas_columns = X_train_cpy.columns\n",
    "\n",
    "    X_train_cpy = pd.DataFrame(encoder.fit_transform(X_train_cpy))\n",
    "    X_test_cpy  = pd.DataFrame(encoder.transform(X_test_cpy))\n",
    "    X_valid_cpy  = pd.DataFrame(encoder.transform(X_valid_cpy))\n",
    "\n",
    "    new_columns = encoder.get_feature_names_out(pandas_columns)\n",
    "    new_columns = [re.sub(r'\\[|\\]', '_', col) for col in new_columns]\n",
    "\n",
    "    X_train_cpy.columns = new_columns\n",
    "    X_test_cpy.columns = new_columns\n",
    "    X_valid_cpy.columns = new_columns\n",
    "\n",
    "    return X_train_cpy, X_test_cpy, X_valid_cpy"
   ]
  },
  {
   "cell_type": "code",
   "execution_count": 16,
   "id": "f0a11102",
   "metadata": {},
   "outputs": [],
   "source": [
    "def experiment(experiment_name, get_model, X_train, X_test, y_train, y_test, log=LOG):\n",
    "\n",
    "    model = get_model()\n",
    "    model_name = model.__class__.__name__\n",
    "\n",
    "    model.fit(X_train, y_train)\n",
    "    preds = model.predict(X_test)\n",
    "    cv_scores = cross_val_score(\n",
    "        model,\n",
    "        X_train,\n",
    "        y_train,\n",
    "        cv=5,\n",
    "        scoring=\"f1_weighted\"\n",
    "    )\n",
    "\n",
    "    confusions = confusion_matrix(y_test, preds)\n",
    "    report = classification_report(\n",
    "        y_test,\n",
    "        preds,\n",
    "        zero_division=1.0\n",
    "    )\n",
    "\n",
    "    cv_f1 = np.mean(cv_scores)\n",
    "\n",
    "    to_print = [\n",
    "        f\"\\n--- {model_name} ---\\n\",\n",
    "        f\"CV F1: {cv_f1:.3f}\",\n",
    "        confusions,\n",
    "        report\n",
    "    ]\n",
    "\n",
    "    list(\n",
    "        map(lambda string: print(string, \"\\n\"), to_print)\n",
    "    )\n",
    "\n",
    "    # viz = FeatureImportances(model, relative=False, topn=25)\n",
    "    # viz.fit(X_train, y_train)\n",
    "    # viz.show()\n",
    "\n",
    "    log.write(\n",
    "        [\n",
    "            experiment_name,\n",
    "            model_name,\n",
    "            str(np.round(cv_f1, decimals=3)),\n",
    "        ]\n",
    "    )"
   ]
  },
  {
   "cell_type": "markdown",
   "id": "d1f1f611",
   "metadata": {},
   "source": [
    "### Модели"
   ]
  },
  {
   "cell_type": "code",
   "execution_count": 17,
   "id": "b57df1c2",
   "metadata": {},
   "outputs": [],
   "source": [
    "get_regression = lambda: LogisticRegression()\n",
    "get_lgbm = lambda: LGBMClassifier(random_state=RANDOM_STATE)\n",
    "get_dt = lambda: DecisionTreeClassifier(random_state=RANDOM_STATE)"
   ]
  },
  {
   "cell_type": "code",
   "execution_count": 18,
   "id": "cbb6d57d",
   "metadata": {},
   "outputs": [],
   "source": [
    "class NNClassifier(nn.Module):\n",
    "\n",
    "    def __init__(self, device, lr=0.001, inpt_dim=10, outpt_dim=2):\n",
    "        super().__init__()\n",
    "        self.device = device\n",
    "\n",
    "        self.fc1 = nn.Linear(inpt_dim, 64)\n",
    "        self.dropout1 = nn.Dropout(0.3)\n",
    "        self.fc2 = nn.Linear(64, 32)\n",
    "        self.dropout2 = nn.Dropout(0.3)\n",
    "        self.fc3 = nn.Linear(32, outpt_dim)\n",
    "\n",
    "        self.criterion = nn.CrossEntropyLoss()\n",
    "        self.optimizer = optim.Adam(self.parameters(), lr=lr)\n",
    "\n",
    "    def forward(self, x):\n",
    "        x = torch.relu(self.fc1(x))\n",
    "        x = self.dropout1(x)\n",
    "        x = torch.relu(self.fc2(x))\n",
    "        x = self.dropout2(x)\n",
    "        x = self.fc3(x)  # logits, без активации — CrossEntropyLoss включает softmax\n",
    "        return x\n",
    "\n",
    "    def fit(self, X_train, X_valid, y_train, y_valid, num_epochs=10):\n",
    "\n",
    "        train_loader = DataLoader(\n",
    "                TensorDataset(\n",
    "                torch.tensor(X_train, dtype=torch.float32),\n",
    "                torch.tensor(y_train, dtype=torch.float32)\n",
    "            )\n",
    "        )\n",
    "\n",
    "        val_loader = DataLoader(\n",
    "            TensorDataset(\n",
    "                torch.tensor(X_valid, dtype=torch.float32),\n",
    "                torch.tensor(y_valid, dtype=torch.float32)\n",
    "            )\n",
    "        )\n",
    "\n",
    "        for epoch in range(num_epochs):\n",
    "            self.train()\n",
    "            running_loss = 0.0\n",
    "            correct = 0\n",
    "            total = 0\n",
    "\n",
    "            for inputs, labels in train_loader:\n",
    "                self.optimizer.zero_grad()\n",
    "                outputs = self(inputs)\n",
    "                loss = self.criterion(outputs, labels)\n",
    "                loss.backward()\n",
    "                self.optimizer.step()\n",
    "\n",
    "                running_loss += loss.item() * inputs.size(0)\n",
    "                _, predicted = torch.max(outputs, 1)\n",
    "                total += labels.size(0)\n",
    "                correct += (predicted == labels).sum().item()\n",
    "\n",
    "            train_loss = running_loss / total\n",
    "            train_acc = correct / total\n",
    "\n",
    "            # Валидация\n",
    "            self.eval()\n",
    "            val_loss = 0.0\n",
    "            val_correct = 0\n",
    "            val_total = 0\n",
    "\n",
    "            with torch.no_grad():\n",
    "                for inputs, labels in val_loader:\n",
    "                    outputs = self(inputs)\n",
    "                    loss = self.criterion(outputs, labels)\n",
    "                    val_loss += loss.item() * inputs.size(0)\n",
    "                    _, predicted = torch.max(outputs, 1)\n",
    "                    val_total += labels.size(0)\n",
    "                    val_correct += (predicted == labels).sum().item()\n",
    "\n",
    "            val_loss /= val_total\n",
    "            val_acc = val_correct / val_total\n",
    "\n",
    "            print(f\"Epoch {epoch+1}/{num_epochs} | \"\n",
    "                f\"Train Loss: {train_loss:.4f}, Train Acc: {train_acc:.4f} | \"\n",
    "                f\"Val Loss: {val_loss:.4f}, Val Acc: {val_acc:.4f}\")\n"
   ]
  },
  {
   "cell_type": "code",
   "execution_count": null,
   "id": "953a26cc",
   "metadata": {},
   "outputs": [],
   "source": []
  },
  {
   "cell_type": "markdown",
   "id": "5fafc7fc",
   "metadata": {},
   "source": [
    "### Эксперименты графемами"
   ]
  },
  {
   "cell_type": "code",
   "execution_count": 19,
   "id": "4b6acac5",
   "metadata": {},
   "outputs": [
    {
     "data": {
      "text/html": [
       "<div>\n",
       "<style scoped>\n",
       "    .dataframe tbody tr th:only-of-type {\n",
       "        vertical-align: middle;\n",
       "    }\n",
       "\n",
       "    .dataframe tbody tr th {\n",
       "        vertical-align: top;\n",
       "    }\n",
       "\n",
       "    .dataframe thead th {\n",
       "        text-align: right;\n",
       "    }\n",
       "</style>\n",
       "<table border=\"1\" class=\"dataframe\">\n",
       "  <thead>\n",
       "    <tr style=\"text-align: right;\">\n",
       "      <th></th>\n",
       "      <th>l_gr_1</th>\n",
       "      <th>l_gr_2</th>\n",
       "      <th>l_gr_3</th>\n",
       "      <th>r_gr_1</th>\n",
       "      <th>r_gr_2</th>\n",
       "      <th>r_gr_3</th>\n",
       "    </tr>\n",
       "  </thead>\n",
       "  <tbody>\n",
       "    <tr>\n",
       "      <th>1027</th>\n",
       "      <td>k</td>\n",
       "      <td>a</td>\n",
       "      <td>ž</td>\n",
       "      <td>e</td>\n",
       "      <td>ž</td>\n",
       "      <td>a</td>\n",
       "    </tr>\n",
       "    <tr>\n",
       "      <th>611</th>\n",
       "      <td>i</td>\n",
       "      <td>m</td>\n",
       "      <td>a</td>\n",
       "      <td>o</td>\n",
       "      <td>m</td>\n",
       "      <td>a</td>\n",
       "    </tr>\n",
       "    <tr>\n",
       "      <th>2396</th>\n",
       "      <td>p</td>\n",
       "      <td>o</td>\n",
       "      <td>d</td>\n",
       "      <td>i</td>\n",
       "      <td>ć</td>\n",
       "      <td>a</td>\n",
       "    </tr>\n",
       "    <tr>\n",
       "      <th>4420</th>\n",
       "      <td>u</td>\n",
       "      <td>s</td>\n",
       "      <td>p</td>\n",
       "      <td>a</td>\n",
       "      <td>l</td>\n",
       "      <td>e</td>\n",
       "    </tr>\n",
       "    <tr>\n",
       "      <th>4274</th>\n",
       "      <td>u</td>\n",
       "      <td>k</td>\n",
       "      <td>a</td>\n",
       "      <td>a</td>\n",
       "      <td>l</td>\n",
       "      <td>a</td>\n",
       "    </tr>\n",
       "  </tbody>\n",
       "</table>\n",
       "</div>"
      ],
      "text/plain": [
       "     l_gr_1 l_gr_2 l_gr_3 r_gr_1 r_gr_2 r_gr_3\n",
       "1027      k      a      ž      e      ž      a\n",
       "611       i      m      a      o      m      a\n",
       "2396      p      o      d      i      ć      a\n",
       "4420      u      s      p      a      l      e\n",
       "4274      u      k      a      a      l      a"
      ]
     },
     "execution_count": 19,
     "metadata": {},
     "output_type": "execute_result"
    }
   ],
   "source": [
    "X_train_graphemes = X_train[grapheme_vars]\n",
    "X_test_graphemes = X_test[grapheme_vars]\n",
    "X_valid_graphemes = X_valid[grapheme_vars]\n",
    "\n",
    "X_train_graphemes.head()"
   ]
  },
  {
   "cell_type": "code",
   "execution_count": 20,
   "id": "e684854c",
   "metadata": {},
   "outputs": [
    {
     "data": {
      "text/html": [
       "<div>\n",
       "<style scoped>\n",
       "    .dataframe tbody tr th:only-of-type {\n",
       "        vertical-align: middle;\n",
       "    }\n",
       "\n",
       "    .dataframe tbody tr th {\n",
       "        vertical-align: top;\n",
       "    }\n",
       "\n",
       "    .dataframe thead th {\n",
       "        text-align: right;\n",
       "    }\n",
       "</style>\n",
       "<table border=\"1\" class=\"dataframe\">\n",
       "  <thead>\n",
       "    <tr style=\"text-align: right;\">\n",
       "      <th></th>\n",
       "      <th>l_gr_1</th>\n",
       "      <th>l_gr_2</th>\n",
       "      <th>r_gr_1</th>\n",
       "      <th>r_gr_2</th>\n",
       "    </tr>\n",
       "  </thead>\n",
       "  <tbody>\n",
       "    <tr>\n",
       "      <th>1027</th>\n",
       "      <td>k</td>\n",
       "      <td>a</td>\n",
       "      <td>e</td>\n",
       "      <td>ž</td>\n",
       "    </tr>\n",
       "    <tr>\n",
       "      <th>611</th>\n",
       "      <td>i</td>\n",
       "      <td>m</td>\n",
       "      <td>o</td>\n",
       "      <td>m</td>\n",
       "    </tr>\n",
       "    <tr>\n",
       "      <th>2396</th>\n",
       "      <td>p</td>\n",
       "      <td>o</td>\n",
       "      <td>i</td>\n",
       "      <td>ć</td>\n",
       "    </tr>\n",
       "    <tr>\n",
       "      <th>4420</th>\n",
       "      <td>u</td>\n",
       "      <td>s</td>\n",
       "      <td>a</td>\n",
       "      <td>l</td>\n",
       "    </tr>\n",
       "    <tr>\n",
       "      <th>4274</th>\n",
       "      <td>u</td>\n",
       "      <td>k</td>\n",
       "      <td>a</td>\n",
       "      <td>l</td>\n",
       "    </tr>\n",
       "  </tbody>\n",
       "</table>\n",
       "</div>"
      ],
      "text/plain": [
       "     l_gr_1 l_gr_2 r_gr_1 r_gr_2\n",
       "1027      k      a      e      ž\n",
       "611       i      m      o      m\n",
       "2396      p      o      i      ć\n",
       "4420      u      s      a      l\n",
       "4274      u      k      a      l"
      ]
     },
     "execution_count": 20,
     "metadata": {},
     "output_type": "execute_result"
    }
   ],
   "source": [
    "X_train_graphemes_2 = X_train_graphemes.drop([\"l_gr_3\", \"r_gr_3\"], axis=1)\n",
    "X_test_graphemes_2 = X_test_graphemes.drop([\"l_gr_3\", \"r_gr_3\"], axis=1)\n",
    "X_valid_graphemes_2 = X_valid_graphemes.drop([\"l_gr_3\", \"r_gr_3\"], axis=1)\n",
    "\n",
    "X_train_graphemes_2.head()"
   ]
  },
  {
   "cell_type": "code",
   "execution_count": 21,
   "id": "57361117",
   "metadata": {},
   "outputs": [
    {
     "data": {
      "text/html": [
       "<div>\n",
       "<style scoped>\n",
       "    .dataframe tbody tr th:only-of-type {\n",
       "        vertical-align: middle;\n",
       "    }\n",
       "\n",
       "    .dataframe tbody tr th {\n",
       "        vertical-align: top;\n",
       "    }\n",
       "\n",
       "    .dataframe thead th {\n",
       "        text-align: right;\n",
       "    }\n",
       "</style>\n",
       "<table border=\"1\" class=\"dataframe\">\n",
       "  <thead>\n",
       "    <tr style=\"text-align: right;\">\n",
       "      <th></th>\n",
       "      <th>l_gr_1</th>\n",
       "      <th>r_gr_1</th>\n",
       "    </tr>\n",
       "  </thead>\n",
       "  <tbody>\n",
       "    <tr>\n",
       "      <th>1027</th>\n",
       "      <td>k</td>\n",
       "      <td>e</td>\n",
       "    </tr>\n",
       "    <tr>\n",
       "      <th>611</th>\n",
       "      <td>i</td>\n",
       "      <td>o</td>\n",
       "    </tr>\n",
       "    <tr>\n",
       "      <th>2396</th>\n",
       "      <td>p</td>\n",
       "      <td>i</td>\n",
       "    </tr>\n",
       "    <tr>\n",
       "      <th>4420</th>\n",
       "      <td>u</td>\n",
       "      <td>a</td>\n",
       "    </tr>\n",
       "    <tr>\n",
       "      <th>4274</th>\n",
       "      <td>u</td>\n",
       "      <td>a</td>\n",
       "    </tr>\n",
       "  </tbody>\n",
       "</table>\n",
       "</div>"
      ],
      "text/plain": [
       "     l_gr_1 r_gr_1\n",
       "1027      k      e\n",
       "611       i      o\n",
       "2396      p      i\n",
       "4420      u      a\n",
       "4274      u      a"
      ]
     },
     "execution_count": 21,
     "metadata": {},
     "output_type": "execute_result"
    }
   ],
   "source": [
    "X_train_graphemes_1 = X_train_graphemes_2.drop([\"l_gr_2\", \"r_gr_2\"], axis=1)\n",
    "X_test_graphemes_1 = X_test_graphemes_2.drop([\"l_gr_2\", \"r_gr_2\"], axis=1)\n",
    "X_valid_graphemes_1 = X_valid_graphemes_2.drop([\"l_gr_2\", \"r_gr_2\"], axis=1)\n",
    "\n",
    "X_train_graphemes_1.head()"
   ]
  },
  {
   "cell_type": "code",
   "execution_count": 22,
   "id": "80f33ee6",
   "metadata": {},
   "outputs": [
    {
     "data": {
      "text/html": [
       "<div>\n",
       "<style scoped>\n",
       "    .dataframe tbody tr th:only-of-type {\n",
       "        vertical-align: middle;\n",
       "    }\n",
       "\n",
       "    .dataframe tbody tr th {\n",
       "        vertical-align: top;\n",
       "    }\n",
       "\n",
       "    .dataframe thead th {\n",
       "        text-align: right;\n",
       "    }\n",
       "</style>\n",
       "<table border=\"1\" class=\"dataframe\">\n",
       "  <thead>\n",
       "    <tr style=\"text-align: right;\">\n",
       "      <th></th>\n",
       "      <th>pref</th>\n",
       "      <th>suf</th>\n",
       "    </tr>\n",
       "  </thead>\n",
       "  <tbody>\n",
       "    <tr>\n",
       "      <th>1027</th>\n",
       "      <td>kaž</td>\n",
       "      <td>eža</td>\n",
       "    </tr>\n",
       "    <tr>\n",
       "      <th>611</th>\n",
       "      <td>ima</td>\n",
       "      <td>oma</td>\n",
       "    </tr>\n",
       "    <tr>\n",
       "      <th>2396</th>\n",
       "      <td>pod</td>\n",
       "      <td>ića</td>\n",
       "    </tr>\n",
       "    <tr>\n",
       "      <th>4420</th>\n",
       "      <td>usp</td>\n",
       "      <td>ale</td>\n",
       "    </tr>\n",
       "    <tr>\n",
       "      <th>4274</th>\n",
       "      <td>uka</td>\n",
       "      <td>ala</td>\n",
       "    </tr>\n",
       "  </tbody>\n",
       "</table>\n",
       "</div>"
      ],
      "text/plain": [
       "     pref  suf\n",
       "1027  kaž  eža\n",
       "611   ima  oma\n",
       "2396  pod  ića\n",
       "4420  usp  ale\n",
       "4274  uka  ala"
      ]
     },
     "execution_count": 22,
     "metadata": {},
     "output_type": "execute_result"
    }
   ],
   "source": [
    "X_train_sufs = pd.DataFrame()\n",
    "X_test_sufs = pd.DataFrame()\n",
    "X_valid_sufs = pd.DataFrame()\n",
    "\n",
    "X_train_sufs[\"pref\"] = X_train_graphemes[\"l_gr_1\"] + X_train_graphemes[\"l_gr_2\"] + X_train_graphemes[\"l_gr_3\"]\n",
    "X_train_sufs[\"suf\"] = X_train_graphemes[\"r_gr_1\"] + X_train_graphemes[\"r_gr_2\"] + X_train_graphemes[\"r_gr_3\"]\n",
    "\n",
    "X_test_sufs[\"pref\"] = X_test_graphemes[\"l_gr_1\"] + X_test_graphemes[\"l_gr_2\"] + X_test_graphemes[\"l_gr_3\"]\n",
    "X_test_sufs[\"suf\"] = X_test_graphemes[\"r_gr_1\"] + X_test_graphemes[\"r_gr_2\"] + X_test_graphemes[\"r_gr_3\"]\n",
    "\n",
    "X_valid_sufs[\"pref\"] = X_valid_graphemes[\"l_gr_1\"] + X_valid_graphemes[\"l_gr_2\"] + X_valid_graphemes[\"l_gr_3\"]\n",
    "X_valid_sufs[\"suf\"] = X_valid_graphemes[\"r_gr_1\"] + X_valid_graphemes[\"r_gr_2\"] + X_valid_graphemes[\"r_gr_3\"]\n",
    "\n",
    "X_train_sufs.head()"
   ]
  },
  {
   "cell_type": "code",
   "execution_count": 23,
   "id": "719ffa66",
   "metadata": {},
   "outputs": [
    {
     "data": {
      "text/plain": [
       "pref    211\n",
       "suf     243\n",
       "dtype: int64"
      ]
     },
     "execution_count": 23,
     "metadata": {},
     "output_type": "execute_result"
    }
   ],
   "source": [
    "X_train_sufs.nunique()"
   ]
  },
  {
   "cell_type": "code",
   "execution_count": 24,
   "id": "780e93fe",
   "metadata": {},
   "outputs": [
    {
     "data": {
      "image/png": "[encoded data removed]",
      "text/plain": [
       "<Figure size 800x600 with 2 Axes>"
      ]
     },
     "metadata": {},
     "output_type": "display_data"
    }
   ],
   "source": [
    "plot_corr(X_train_graphemes)"
   ]
  },
  {
   "cell_type": "code",
   "execution_count": 25,
   "id": "5c0d186d",
   "metadata": {},
   "outputs": [
    {
     "data": {
      "image/png": "[encoded data removed]",
      "text/plain": [
       "<Figure size 800x600 with 2 Axes>"
      ]
     },
     "metadata": {},
     "output_type": "display_data"
    }
   ],
   "source": [
    "plot_corr(X_train_sufs)"
   ]
  },
  {
   "cell_type": "code",
   "execution_count": 26,
   "id": "9101ac88",
   "metadata": {},
   "outputs": [],
   "source": [
    "X_train_graphemes, X_test_graphemes, X_valid_graphemes = one_hot_encode(\n",
    "    X_train_graphemes,\n",
    "    X_test_graphemes,\n",
    "    X_valid_graphemes,\n",
    ")"
   ]
  },
  {
   "cell_type": "code",
   "execution_count": 27,
   "id": "5a750ded",
   "metadata": {},
   "outputs": [
    {
     "data": {
      "text/plain": [
       "((2975, 127), (992, 127), (992, 127))"
      ]
     },
     "execution_count": 27,
     "metadata": {},
     "output_type": "execute_result"
    }
   ],
   "source": [
    "X_train_graphemes.shape, X_test_graphemes.shape, X_valid_graphemes.shape"
   ]
  },
  {
   "cell_type": "code",
   "execution_count": 28,
   "id": "be9d87c1",
   "metadata": {},
   "outputs": [],
   "source": [
    "X_train_sufs, X_test_sufs, X_valid_sufs = one_hot_encode(\n",
    "    X_train_sufs,\n",
    "    X_test_sufs,\n",
    "    X_valid_sufs,\n",
    ")"
   ]
  },
  {
   "cell_type": "code",
   "execution_count": 29,
   "id": "7a7653f8",
   "metadata": {},
   "outputs": [
    {
     "data": {
      "text/plain": [
       "((2975, 454), (992, 454), (992, 454))"
      ]
     },
     "execution_count": 29,
     "metadata": {},
     "output_type": "execute_result"
    }
   ],
   "source": [
    "X_train_sufs.shape, X_test_sufs.shape, X_valid_sufs.shape"
   ]
  },
  {
   "cell_type": "code",
   "execution_count": 30,
   "id": "635345c9",
   "metadata": {},
   "outputs": [],
   "source": [
    "X_train_graphemes_2, X_test_graphemes_2, X_valid_graphemes_2 = one_hot_encode(\n",
    "    X_train_graphemes_2,\n",
    "    X_test_graphemes_2,\n",
    "    X_valid_graphemes_2,\n",
    ")"
   ]
  },
  {
   "cell_type": "code",
   "execution_count": 31,
   "id": "88465067",
   "metadata": {},
   "outputs": [],
   "source": [
    "X_train_graphemes_1, X_test_graphemes_1, X_valid_graphemes_1 = one_hot_encode(\n",
    "    X_train_graphemes_1,\n",
    "    X_test_graphemes_1,\n",
    "    X_valid_graphemes_1,\n",
    ")"
   ]
  },
  {
   "cell_type": "code",
   "execution_count": 32,
   "id": "269a16c8",
   "metadata": {},
   "outputs": [
    {
     "name": "stdout",
     "output_type": "stream",
     "text": [
      "\n",
      "--- LogisticRegression ---\n",
      " \n",
      "\n",
      "CV F1: 0.882 \n",
      "\n",
      "[[ 32   5   4]\n",
      " [  0 404  62]\n",
      " [  0  47 438]] \n",
      "\n",
      "              precision    recall  f1-score   support\n",
      "\n",
      "        both       1.00      0.78      0.88        41\n",
      "         imp       0.89      0.87      0.88       466\n",
      "        perf       0.87      0.90      0.89       485\n",
      "\n",
      "    accuracy                           0.88       992\n",
      "   macro avg       0.92      0.85      0.88       992\n",
      "weighted avg       0.88      0.88      0.88       992\n",
      " \n",
      "\n"
     ]
    }
   ],
   "source": [
    "experiment(\n",
    "    \"all_graphemes\",\n",
    "    lambda: LogisticRegression(),\n",
    "    X_train_graphemes,\n",
    "    X_test_graphemes,\n",
    "    y_train[\"aspect\"],\n",
    "    y_test[\"aspect\"]\n",
    ")"
   ]
  },
  {
   "cell_type": "code",
   "execution_count": 33,
   "id": "33a6ec0e",
   "metadata": {},
   "outputs": [
    {
     "name": "stdout",
     "output_type": "stream",
     "text": [
      "\n",
      "--- LGBMClassifier ---\n",
      " \n",
      "\n",
      "CV F1: 0.958 \n",
      "\n",
      "[[ 41   0   0]\n",
      " [  0 443  23]\n",
      " [  0  10 475]] \n",
      "\n",
      "              precision    recall  f1-score   support\n",
      "\n",
      "        both       1.00      1.00      1.00        41\n",
      "         imp       0.98      0.95      0.96       466\n",
      "        perf       0.95      0.98      0.97       485\n",
      "\n",
      "    accuracy                           0.97       992\n",
      "   macro avg       0.98      0.98      0.98       992\n",
      "weighted avg       0.97      0.97      0.97       992\n",
      " \n",
      "\n"
     ]
    }
   ],
   "source": [
    "experiment(\n",
    "    \"all_graphemes\",\n",
    "    lambda: LGBMClassifier(verbose=-1),\n",
    "    X_train_graphemes,\n",
    "    X_test_graphemes,\n",
    "    y_train[\"aspect\"],\n",
    "    y_test[\"aspect\"]\n",
    ")"
   ]
  },
  {
   "cell_type": "code",
   "execution_count": 34,
   "id": "315c71d4",
   "metadata": {},
   "outputs": [
    {
     "name": "stdout",
     "output_type": "stream",
     "text": [
      "\n",
      "--- DecisionTreeClassifier ---\n",
      " \n",
      "\n",
      "CV F1: 0.929 \n",
      "\n",
      "[[ 41   0   0]\n",
      " [  0 435  31]\n",
      " [  0  22 463]] \n",
      "\n",
      "              precision    recall  f1-score   support\n",
      "\n",
      "        both       1.00      1.00      1.00        41\n",
      "         imp       0.95      0.93      0.94       466\n",
      "        perf       0.94      0.95      0.95       485\n",
      "\n",
      "    accuracy                           0.95       992\n",
      "   macro avg       0.96      0.96      0.96       992\n",
      "weighted avg       0.95      0.95      0.95       992\n",
      " \n",
      "\n"
     ]
    }
   ],
   "source": [
    "experiment(\n",
    "    \"all_graphemes\",\n",
    "    lambda: DecisionTreeClassifier(random_state=RANDOM_STATE),\n",
    "    X_train_graphemes,\n",
    "    X_test_graphemes,\n",
    "    y_train[\"aspect\"],\n",
    "    y_test[\"aspect\"]\n",
    ")"
   ]
  },
  {
   "cell_type": "code",
   "execution_count": 35,
   "id": "888c41c7",
   "metadata": {},
   "outputs": [
    {
     "name": "stdout",
     "output_type": "stream",
     "text": [
      "\n",
      "--- LogisticRegression ---\n",
      " \n",
      "\n",
      "CV F1: 0.939 \n",
      "\n",
      "[[ 37   3   1]\n",
      " [  0 435  31]\n",
      " [  0  18 467]] \n",
      "\n",
      "              precision    recall  f1-score   support\n",
      "\n",
      "        both       1.00      0.90      0.95        41\n",
      "         imp       0.95      0.93      0.94       466\n",
      "        perf       0.94      0.96      0.95       485\n",
      "\n",
      "    accuracy                           0.95       992\n",
      "   macro avg       0.96      0.93      0.95       992\n",
      "weighted avg       0.95      0.95      0.95       992\n",
      " \n",
      "\n"
     ]
    }
   ],
   "source": [
    "experiment(\n",
    "    \"sufs\",\n",
    "    lambda: LogisticRegression(),\n",
    "    X_train_sufs,\n",
    "    X_test_sufs,\n",
    "    y_train[\"aspect\"],\n",
    "    y_test[\"aspect\"]\n",
    ")"
   ]
  },
  {
   "cell_type": "code",
   "execution_count": 36,
   "id": "30d1be5e",
   "metadata": {},
   "outputs": [
    {
     "name": "stdout",
     "output_type": "stream",
     "text": [
      "\n",
      "--- LGBMClassifier ---\n",
      " \n",
      "\n",
      "CV F1: 0.753 \n",
      "\n",
      "[[ 30   6   5]\n",
      " [  0 278 188]\n",
      " [  0  32 453]] \n",
      "\n",
      "              precision    recall  f1-score   support\n",
      "\n",
      "        both       1.00      0.73      0.85        41\n",
      "         imp       0.88      0.60      0.71       466\n",
      "        perf       0.70      0.93      0.80       485\n",
      "\n",
      "    accuracy                           0.77       992\n",
      "   macro avg       0.86      0.75      0.79       992\n",
      "weighted avg       0.80      0.77      0.76       992\n",
      " \n",
      "\n"
     ]
    }
   ],
   "source": [
    "experiment(\n",
    "    \"sufs\",\n",
    "    lambda: LGBMClassifier(random_state=RANDOM_STATE),\n",
    "    X_train_sufs,\n",
    "    X_test_sufs,\n",
    "    y_train[\"aspect\"],\n",
    "    y_test[\"aspect\"]\n",
    ")"
   ]
  },
  {
   "cell_type": "code",
   "execution_count": 37,
   "id": "7eeaf029",
   "metadata": {},
   "outputs": [
    {
     "name": "stdout",
     "output_type": "stream",
     "text": [
      "\n",
      "--- DecisionTreeClassifier ---\n",
      " \n",
      "\n",
      "CV F1: 0.950 \n",
      "\n",
      "[[ 39   2   0]\n",
      " [  0 439  27]\n",
      " [  0  20 465]] \n",
      "\n",
      "              precision    recall  f1-score   support\n",
      "\n",
      "        both       1.00      0.95      0.97        41\n",
      "         imp       0.95      0.94      0.95       466\n",
      "        perf       0.95      0.96      0.95       485\n",
      "\n",
      "    accuracy                           0.95       992\n",
      "   macro avg       0.97      0.95      0.96       992\n",
      "weighted avg       0.95      0.95      0.95       992\n",
      " \n",
      "\n"
     ]
    }
   ],
   "source": [
    "experiment(\n",
    "    \"sufs\",\n",
    "    lambda: DecisionTreeClassifier(random_state=RANDOM_STATE),\n",
    "    X_train_sufs,\n",
    "    X_test_sufs,\n",
    "    y_train[\"aspect\"],\n",
    "    y_test[\"aspect\"]\n",
    ")"
   ]
  },
  {
   "cell_type": "code",
   "execution_count": 38,
   "id": "88bf85d4",
   "metadata": {},
   "outputs": [
    {
     "name": "stdout",
     "output_type": "stream",
     "text": [
      "\n",
      "--- LogisticRegression ---\n",
      " \n",
      "\n",
      "CV F1: 0.856 \n",
      "\n",
      "[[ 33   4   4]\n",
      " [  0 392  74]\n",
      " [  1  58 426]] \n",
      "\n",
      "              precision    recall  f1-score   support\n",
      "\n",
      "        both       0.97      0.80      0.88        41\n",
      "         imp       0.86      0.84      0.85       466\n",
      "        perf       0.85      0.88      0.86       485\n",
      "\n",
      "    accuracy                           0.86       992\n",
      "   macro avg       0.89      0.84      0.86       992\n",
      "weighted avg       0.86      0.86      0.86       992\n",
      " \n",
      "\n"
     ]
    }
   ],
   "source": [
    "experiment(\n",
    "    \"2_graphemes\",\n",
    "    lambda: LogisticRegression(),\n",
    "    X_train_graphemes_2,\n",
    "    X_test_graphemes_2,\n",
    "    y_train[\"aspect\"],\n",
    "    y_test[\"aspect\"]\n",
    ")"
   ]
  },
  {
   "cell_type": "code",
   "execution_count": 39,
   "id": "6e8624c5",
   "metadata": {},
   "outputs": [
    {
     "name": "stdout",
     "output_type": "stream",
     "text": [
      "\n",
      "--- LGBMClassifier ---\n",
      " \n",
      "\n",
      "CV F1: 0.904 \n",
      "\n",
      "[[ 40   1   0]\n",
      " [  0 420  46]\n",
      " [  1  33 451]] \n",
      "\n",
      "              precision    recall  f1-score   support\n",
      "\n",
      "        both       0.98      0.98      0.98        41\n",
      "         imp       0.93      0.90      0.91       466\n",
      "        perf       0.91      0.93      0.92       485\n",
      "\n",
      "    accuracy                           0.92       992\n",
      "   macro avg       0.94      0.94      0.94       992\n",
      "weighted avg       0.92      0.92      0.92       992\n",
      " \n",
      "\n"
     ]
    }
   ],
   "source": [
    "experiment(\n",
    "    \"2_graphemes\",\n",
    "    lambda: LGBMClassifier(random_state=RANDOM_STATE),\n",
    "    X_train_graphemes_2,\n",
    "    X_test_graphemes_2,\n",
    "    y_train[\"aspect\"],\n",
    "    y_test[\"aspect\"]\n",
    ")"
   ]
  },
  {
   "cell_type": "code",
   "execution_count": 40,
   "id": "75bb5183",
   "metadata": {},
   "outputs": [
    {
     "name": "stdout",
     "output_type": "stream",
     "text": [
      "\n",
      "--- DecisionTreeClassifier ---\n",
      " \n",
      "\n",
      "CV F1: 0.892 \n",
      "\n",
      "[[ 40   1   0]\n",
      " [  0 420  46]\n",
      " [  1  30 454]] \n",
      "\n",
      "              precision    recall  f1-score   support\n",
      "\n",
      "        both       0.98      0.98      0.98        41\n",
      "         imp       0.93      0.90      0.92       466\n",
      "        perf       0.91      0.94      0.92       485\n",
      "\n",
      "    accuracy                           0.92       992\n",
      "   macro avg       0.94      0.94      0.94       992\n",
      "weighted avg       0.92      0.92      0.92       992\n",
      " \n",
      "\n"
     ]
    }
   ],
   "source": [
    "experiment(\n",
    "    \"2_graphemes\",\n",
    "    lambda: DecisionTreeClassifier(random_state=RANDOM_STATE),\n",
    "    X_train_graphemes_2,\n",
    "    X_test_graphemes_2,\n",
    "    y_train[\"aspect\"],\n",
    "    y_test[\"aspect\"]\n",
    ")"
   ]
  },
  {
   "cell_type": "code",
   "execution_count": 41,
   "id": "a45851fe",
   "metadata": {},
   "outputs": [
    {
     "name": "stdout",
     "output_type": "stream",
     "text": [
      "\n",
      "--- LogisticRegression ---\n",
      " \n",
      "\n",
      "CV F1: 0.731 \n",
      "\n",
      "[[ 32   4   5]\n",
      " [  8 292 166]\n",
      " [  3  78 404]] \n",
      "\n",
      "              precision    recall  f1-score   support\n",
      "\n",
      "        both       0.74      0.78      0.76        41\n",
      "         imp       0.78      0.63      0.70       466\n",
      "        perf       0.70      0.83      0.76       485\n",
      "\n",
      "    accuracy                           0.73       992\n",
      "   macro avg       0.74      0.75      0.74       992\n",
      "weighted avg       0.74      0.73      0.73       992\n",
      " \n",
      "\n"
     ]
    }
   ],
   "source": [
    "experiment(\n",
    "    \"1_grapheme\",\n",
    "    lambda: LogisticRegression(),\n",
    "    X_train_graphemes_1,\n",
    "    X_test_graphemes_1,\n",
    "    y_train[\"aspect\"],\n",
    "    y_test[\"aspect\"]\n",
    ")"
   ]
  },
  {
   "cell_type": "code",
   "execution_count": 42,
   "id": "2c4dc3e0",
   "metadata": {},
   "outputs": [
    {
     "name": "stdout",
     "output_type": "stream",
     "text": [
      "\n",
      "--- LGBMClassifier ---\n",
      " \n",
      "\n",
      "CV F1: 0.732 \n",
      "\n",
      "[[ 32   4   5]\n",
      " [  3 325 138]\n",
      " [  0 110 375]] \n",
      "\n",
      "              precision    recall  f1-score   support\n",
      "\n",
      "        both       0.91      0.78      0.84        41\n",
      "         imp       0.74      0.70      0.72       466\n",
      "        perf       0.72      0.77      0.75       485\n",
      "\n",
      "    accuracy                           0.74       992\n",
      "   macro avg       0.79      0.75      0.77       992\n",
      "weighted avg       0.74      0.74      0.74       992\n",
      " \n",
      "\n"
     ]
    }
   ],
   "source": [
    "experiment(\n",
    "    \"1_grapheme\",\n",
    "    lambda: LGBMClassifier(random_state=RANDOM_STATE),\n",
    "    X_train_graphemes_1,\n",
    "    X_test_graphemes_1,\n",
    "    y_train[\"aspect\"],\n",
    "    y_test[\"aspect\"]\n",
    ")"
   ]
  },
  {
   "cell_type": "code",
   "execution_count": 43,
   "id": "3026854f",
   "metadata": {},
   "outputs": [
    {
     "name": "stdout",
     "output_type": "stream",
     "text": [
      "\n",
      "--- DecisionTreeClassifier ---\n",
      " \n",
      "\n",
      "CV F1: 0.732 \n",
      "\n",
      "[[ 32   4   5]\n",
      " [  3 325 138]\n",
      " [  0 108 377]] \n",
      "\n",
      "              precision    recall  f1-score   support\n",
      "\n",
      "        both       0.91      0.78      0.84        41\n",
      "         imp       0.74      0.70      0.72       466\n",
      "        perf       0.72      0.78      0.75       485\n",
      "\n",
      "    accuracy                           0.74       992\n",
      "   macro avg       0.79      0.75      0.77       992\n",
      "weighted avg       0.74      0.74      0.74       992\n",
      " \n",
      "\n"
     ]
    }
   ],
   "source": [
    "experiment(\n",
    "    \"1_grapheme\",\n",
    "    lambda: DecisionTreeClassifier(random_state=RANDOM_STATE),\n",
    "    X_train_graphemes_1,\n",
    "    X_test_graphemes_1,\n",
    "    y_train[\"aspect\"],\n",
    "    y_test[\"aspect\"]\n",
    ")"
   ]
  },
  {
   "cell_type": "code",
   "execution_count": null,
   "id": "952b33c7",
   "metadata": {},
   "outputs": [],
   "source": []
  },
  {
   "cell_type": "code",
   "execution_count": 44,
   "id": "1d046560",
   "metadata": {},
   "outputs": [],
   "source": [
    "y_onehot = one_hot_encode(\n",
    "    y_train[[\"aspect\"]],\n",
    "    y_test[[\"aspect\"]],\n",
    "    y_valid[[\"aspect\"]]\n",
    ")"
   ]
  },
  {
   "cell_type": "code",
   "execution_count": 45,
   "id": "915f6569",
   "metadata": {},
   "outputs": [],
   "source": [
    "m = NNClassifier(\"cuda\", inpt_dim=X_train_graphemes.shape[1], outpt_dim=y_onehot[0].shape[1])"
   ]
  },
  {
   "cell_type": "code",
   "execution_count": null,
   "id": "5444c768",
   "metadata": {},
   "outputs": [
    {
     "name": "stdout",
     "output_type": "stream",
     "text": [
      "Epoch 1/10 | Train Loss: 0.4625, Train Acc: 0.4968 | Val Loss: 0.2963, Val Acc: 0.4819\n",
      "Epoch 2/10 | Train Loss: 0.2586, Train Acc: 0.5170 | Val Loss: 0.2227, Val Acc: 0.5212\n",
      "Epoch 3/10 | Train Loss: 0.1946, Train Acc: 0.5244 | Val Loss: 0.1972, Val Acc: 0.5302\n",
      "Epoch 4/10 | Train Loss: 0.1585, Train Acc: 0.5308 | Val Loss: 0.1825, Val Acc: 0.5514\n",
      "Epoch 5/10 | Train Loss: 0.1327, Train Acc: 0.5281 | Val Loss: 0.1755, Val Acc: 0.5655\n",
      "Epoch 6/10 | Train Loss: 0.1158, Train Acc: 0.5338 | Val Loss: 0.1710, Val Acc: 0.5534\n",
      "Epoch 7/10 | Train Loss: 0.1023, Train Acc: 0.5308 | Val Loss: 0.1752, Val Acc: 0.5665\n",
      "Epoch 8/10 | Train Loss: 0.0906, Train Acc: 0.5321 | Val Loss: 0.1830, Val Acc: 0.5766\n",
      "Epoch 9/10 | Train Loss: 0.0876, Train Acc: 0.5358 | Val Loss: 0.1932, Val Acc: 0.5726\n",
      "Epoch 10/10 | Train Loss: 0.0733, Train Acc: 0.5365 | Val Loss: 0.2012, Val Acc: 0.5726\n"
     ]
    }
   ],
   "source": [
    "m.fit(\n",
    "    X_train_graphemes.to_numpy(dtype=np.int8),\n",
    "    X_valid_graphemes.to_numpy(dtype=np.int8),\n",
    "   y_onehot[0].to_numpy(dtype=np.int8),\n",
    "   y_onehot[-1].to_numpy(dtype=np.int8),\n",
    "   num_epochs=6\n",
    ")"
   ]
  },
  {
   "cell_type": "code",
   "execution_count": null,
   "id": "3a8c85b3",
   "metadata": {},
   "outputs": [],
   "source": [
    "def experiment(experiment_name, get_model, X_train, X_test, y_train, y_test, log=LOG):\n",
    "\n",
    "    model = get_model()\n",
    "    model_name = model.__class__.__name__\n",
    "\n",
    "    model.fit(X_train, y_train)\n",
    "    preds = model.predict(X_test)\n",
    "    cv_scores = cross_val_score(\n",
    "        model,\n",
    "        X_train,\n",
    "        y_train,\n",
    "        cv=5,\n",
    "        scoring=\"f1_weighted\"\n",
    "    )\n",
    "\n",
    "    confusions = confusion_matrix(y_test, preds)\n",
    "    report = classification_report(\n",
    "        y_test,\n",
    "        preds,\n",
    "        zero_division=1.0\n",
    "    )\n",
    "\n",
    "    cv_f1 = np.mean(cv_scores)\n",
    "\n",
    "    to_print = [\n",
    "        f\"\\n--- {model_name} ---\\n\",\n",
    "        f\"CV F1: {cv_f1:.3f}\",\n",
    "        confusions,\n",
    "        report\n",
    "    ]\n",
    "\n",
    "    list(\n",
    "        map(lambda string: print(string, \"\\n\"), to_print)\n",
    "    )\n",
    "\n",
    "    # viz = FeatureImportances(model, relative=False, topn=25)\n",
    "    # viz.fit(X_train, y_train)\n",
    "    # viz.show()\n",
    "\n",
    "    log.write(\n",
    "        [\n",
    "            experiment_name,\n",
    "            model_name,\n",
    "            str(np.round(cv_f1, decimals=3)),\n",
    "        ]\n",
    "    )"
   ]
  }
 ],
 "metadata": {
  "kernelspec": {
   "display_name": ".venv",
   "language": "python",
   "name": "python3"
  },
  "language_info": {
   "codemirror_mode": {
    "name": "ipython",
    "version": 3
   },
   "file_extension": ".py",
   "mimetype": "text/x-python",
   "name": "python",
   "nbconvert_exporter": "python",
   "pygments_lexer": "ipython3",
   "version": "3.10.12"
  }
 },
 "nbformat": 4,
 "nbformat_minor": 5
}
