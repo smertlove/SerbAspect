{
 "cells": [
  {
   "cell_type": "markdown",
   "id": "19c40af1",
   "metadata": {},
   "source": [
    "# Предсказание вида (аспекта) сербских глаголов\n",
    "## _На материалах UD_Serbian-SET_\n",
    "\n",
    "Основная идея: в _UD_Serbian-SET_ не размечен глагольный вид, но существующих данных и инструментов достаточно, чтобы можно было разметить небольшое количество данных и обучить модель высокоточно предсказывать (почти) всю генеральную совокупность.\n",
    "\n",
    "### Импорты, настройки, глобальные переменные"
   ]
  },
  {
   "cell_type": "code",
   "execution_count": 1,
   "id": "65f92236",
   "metadata": {},
   "outputs": [],
   "source": [
    "import pandas as pd\n",
    "import csv\n",
    "from pathlib import Path\n",
    "\n",
    "from sklearn.model_selection import train_test_split, cross_val_score, KFold, GridSearchCV\n",
    "from sklearn.preprocessing import LabelEncoder, OneHotEncoder\n",
    "from sklearn.metrics import classification_report, confusion_matrix, f1_score\n",
    "\n",
    "from sklearn.linear_model import LogisticRegression\n",
    "from lightgbm import LGBMClassifier\n",
    "from sklearn.tree import DecisionTreeClassifier\n",
    "from sklearn.neural_network import MLPClassifier\n",
    "\n",
    "import matplotlib.pyplot as plt\n",
    "import seaborn as sns\n",
    "from yellowbrick.model_selection import FeatureImportances\n",
    "\n",
    "import numpy as np\n",
    "from gensim.models import Word2Vec\n",
    "\n",
    "import torch\n",
    "from itertools import product\n",
    "from tqdm import tqdm\n",
    "import re\n",
    "\n",
    "from sklearn.model_selection import train_test_split\n",
    "import numpy as np\n",
    "\n",
    "import datetime\n",
    "from nltk import word_tokenize"
   ]
  },
  {
   "cell_type": "code",
   "execution_count": 2,
   "id": "43aed449",
   "metadata": {},
   "outputs": [],
   "source": [
    "class Log:\n",
    "\n",
    "    cols = [\"experiment_name\", \"experiment_group\", \"model_name\", \"PCA\", \"F1_cv\", \"F1_holdout\", \"F1_unkn\"]\n",
    "\n",
    "    def __init__(self, fname: Path, sep: str):\n",
    "\n",
    "        self.fname = fname\n",
    "        self.sep = sep\n",
    "\n",
    "        if not self.fname.exists():\n",
    "            with open(fname, \"w\", encoding=\"utf-8\") as file:\n",
    "                file.write(self.sep.join(self.cols) + \"\\n\")\n",
    "\n",
    "    def write(self, vals):\n",
    "        with open(self.fname, \"a+\", encoding=\"utf-8\") as file:\n",
    "            file.write(self.sep.join(vals) + \"\\n\")"
   ]
  },
  {
   "cell_type": "code",
   "execution_count": 3,
   "id": "6cb443c0",
   "metadata": {},
   "outputs": [],
   "source": [
    "PAD_TOK = \"[PAD]\"\n",
    "RANDOM_STATE = 42\n",
    "\n",
    "DATADIR = Path.cwd() / \"data\"\n",
    "DATAPATH = DATADIR / \"datasetForAnalysis.csv\"\n",
    "\n",
    "LOGNAME_TMPL = datetime.datetime.now().strftime(\"%I-%M%p on %B %d %Y.csv\")\n",
    "SEP = \"\\t\"\n",
    "\n",
    "%matplotlib inline\n",
    "SNS_COLOR = \"coolwarm\"\n",
    "\n",
    "torch.manual_seed(RANDOM_STATE)\n",
    "np.random.seed(RANDOM_STATE)\n",
    "\n",
    "import warnings\n",
    "warnings.filterwarnings(\"ignore\")"
   ]
  },
  {
   "cell_type": "code",
   "execution_count": 4,
   "id": "dcf26658",
   "metadata": {},
   "outputs": [],
   "source": [
    "LOG = Log(DATADIR / LOGNAME_TMPL, SEP)"
   ]
  },
  {
   "cell_type": "markdown",
   "id": "6f4ef18c",
   "metadata": {},
   "source": [
    "### Загрузка и подготовка датасета"
   ]
  },
  {
   "cell_type": "code",
   "execution_count": 5,
   "id": "dfc595f3",
   "metadata": {},
   "outputs": [],
   "source": [
    "df = pd.read_csv(\n",
    "    DATAPATH,\n",
    "    sep=\"\\t\",\n",
    "    quoting=csv.QUOTE_NONE,\n",
    "    index_col=0,\n",
    "    dtype=str\n",
    ")"
   ]
  },
  {
   "cell_type": "code",
   "execution_count": 6,
   "id": "30e8b5c6",
   "metadata": {},
   "outputs": [],
   "source": [
    "df = df.drop([\"POS\", \"db_id\"], axis=1)"
   ]
  },
  {
   "cell_type": "code",
   "execution_count": 7,
   "id": "951ea8c8",
   "metadata": {},
   "outputs": [],
   "source": [
    "df = df.fillna(PAD_TOK)"
   ]
  },
  {
   "cell_type": "code",
   "execution_count": 8,
   "id": "930ff574",
   "metadata": {},
   "outputs": [],
   "source": [
    "target_vars = [\n",
    "    \"aspect\",\n",
    "    \"disambig\",\n",
    "]\n",
    "\n",
    "dict_vars = [\n",
    "    \"lemma\",\n",
    "    \"word\",\n",
    "]\n",
    "\n",
    "grapheme_vars = [\n",
    "    \"l_gr_1\",\n",
    "    \"l_gr_2\",\n",
    "    \"l_gr_3\",\n",
    "    \"r_gr_1\",\n",
    "    \"r_gr_2\",\n",
    "    \"r_gr_3\",\n",
    "]\n",
    "\n",
    "grammar_vars = [\n",
    "    \"Gender\",\n",
    "    \"Mood\",\n",
    "    \"Number\",\n",
    "    \"Person\",\n",
    "    \"Tense\",\n",
    "    \"VerbForm\",\n",
    "    \"Voice\",\n",
    "    \"nsubj_count\",\n",
    "    \"obj_count\",\n",
    "    \"obl_count\",\n",
    "    \"advmod_count\",\n",
    "    \"polarity\",\n",
    "]\n",
    "\n",
    "text_vars = [\n",
    "    \"lemma\",\n",
    "    \"word\",\n",
    "    \"text\",\n",
    "    \"l_tok_3\",\n",
    "    \"l_tok_2\",\n",
    "    \"l_tok_1\",\n",
    "    \"r_tok_1\",\n",
    "    \"r_tok_2\",\n",
    "    \"r_tok_3\",\n",
    "    \"nsubj\",\n",
    "    \"obj\",\n",
    "    \"obl\",\n",
    "    \"advmod\",\n",
    "    \"polarity_word\",\n",
    "]"
   ]
  },
  {
   "cell_type": "code",
   "execution_count": 9,
   "id": "e2496320",
   "metadata": {},
   "outputs": [
    {
     "data": {
      "text/plain": [
       "((281,), (30,))"
      ]
     },
     "execution_count": 9,
     "metadata": {},
     "output_type": "execute_result"
    }
   ],
   "source": [
    "# Выборка лемм, про которые классификатор не будет знать\n",
    "lemmas_train, lemmas_test = train_test_split(\n",
    "    df[\"lemma\"].unique(),\n",
    "    test_size=0.094,\n",
    "    random_state=RANDOM_STATE,\n",
    "    shuffle=True\n",
    ")\n",
    "lemmas_train.shape, lemmas_test.shape"
   ]
  },
  {
   "cell_type": "code",
   "execution_count": 10,
   "id": "f4c51c8b",
   "metadata": {},
   "outputs": [
    {
     "data": {
      "text/plain": [
       "((4409, 34), (550, 34))"
      ]
     },
     "execution_count": 10,
     "metadata": {},
     "output_type": "execute_result"
    }
   ],
   "source": [
    "train_df      = df[df[\"lemma\"].isin(lemmas_train)]\n",
    "test_df_unkn  = df[df[\"lemma\"].isin(lemmas_test )]\n",
    "train_df.shape, test_df_unkn.shape"
   ]
  },
  {
   "cell_type": "code",
   "execution_count": 11,
   "id": "fba01b90",
   "metadata": {},
   "outputs": [
    {
     "data": {
      "text/plain": [
       "((550, 32), (550, 2))"
      ]
     },
     "execution_count": 11,
     "metadata": {},
     "output_type": "execute_result"
    }
   ],
   "source": [
    "y_test_unkn = test_df_unkn[target_vars]\n",
    "X_test_unkn = test_df_unkn.drop(target_vars, axis=1)\n",
    "X_test_unkn.shape, y_test_unkn.shape"
   ]
  },
  {
   "cell_type": "code",
   "execution_count": 12,
   "id": "749914da",
   "metadata": {},
   "outputs": [
    {
     "data": {
      "text/plain": [
       "((3859, 32), (550, 32), (3859, 2), (550, 2))"
      ]
     },
     "execution_count": 12,
     "metadata": {},
     "output_type": "execute_result"
    }
   ],
   "source": [
    "X_train, X_test_holdout, y_train, y_test_holdout = train_test_split(\n",
    "    train_df.drop(target_vars, axis=1),\n",
    "    train_df[target_vars],\n",
    "    test_size=0.1247,\n",
    "    random_state=RANDOM_STATE,\n",
    "    shuffle=True\n",
    ")\n",
    "X_train.shape, X_test_holdout.shape, y_train.shape, y_test_holdout.shape"
   ]
  },
  {
   "cell_type": "markdown",
   "id": "bd412417",
   "metadata": {},
   "source": [
    "### Модели"
   ]
  },
  {
   "cell_type": "code",
   "execution_count": 13,
   "id": "d3f46b18",
   "metadata": {},
   "outputs": [],
   "source": [
    "get_lgbm = lambda: LGBMClassifier(\n",
    "    random_state = RANDOM_STATE,\n",
    "    learning_rate = 0.1,\n",
    "    n_estimators = 100,\n",
    "    max_depth = 7,\n",
    "    num_leaves = 30,\n",
    "    subsample = 0.6,\n",
    "    verbose = -1\n",
    ")\n",
    "\n",
    "get_nn = lambda: MLPClassifier(\n",
    "    random_state=RANDOM_STATE,\n",
    "    hidden_layer_sizes=(100, 50, 25),\n",
    "    alpha=0.0001,\n",
    "    warm_start=False,\n",
    "    max_iter=200,\n",
    ")\n"
   ]
  },
  {
   "cell_type": "markdown",
   "id": "b3f89c66",
   "metadata": {},
   "source": [
    "### Текстовые фичи"
   ]
  },
  {
   "cell_type": "code",
   "execution_count": 14,
   "id": "9e227a0b",
   "metadata": {},
   "outputs": [],
   "source": [
    "class Encoder:\n",
    "\n",
    "    def __init__(self, path_to_model):\n",
    "        self.model = Word2Vec.load(path_to_model)\n",
    "        self.ndim = self.model.wv.word_vec(\"krastavac\").shape[0]\n",
    "\n",
    "    def encode(self, text: str):\n",
    "        tokens = word_tokenize(text)\n",
    "\n",
    "        vecs = [\n",
    "            self.model.wv.word_vec(token)\n",
    "            for token\n",
    "            in tokens\n",
    "            if token in self.model.wv.key_to_index\n",
    "        ]\n",
    "\n",
    "        if vecs:\n",
    "            return np.mean(vecs, axis=0)\n",
    "        else:\n",
    "            return np.zeros((self.ndim,))\n"
   ]
  },
  {
   "cell_type": "code",
   "execution_count": 15,
   "id": "47fa71de",
   "metadata": {},
   "outputs": [],
   "source": [
    "encoder = Encoder(str(Path.cwd() / \"SrW2V\" / \"TeslaW2V\"))"
   ]
  },
  {
   "cell_type": "code",
   "execution_count": 16,
   "id": "3bcf3892",
   "metadata": {},
   "outputs": [],
   "source": [
    "X_train_words_and_ctx_encoded = [\n",
    "    np.append(\n",
    "        encoder.encode(row[\"word\"]),\n",
    "        encoder.encode(\n",
    "            \" \".join([row[\"l_tok_3\"], row[\"l_tok_2\"], row[\"l_tok_1\"], row[\"r_tok_1\"], row[\"r_tok_2\"], row[\"r_tok_3\"],])\n",
    "        )\n",
    "    )\n",
    "    for _, row\n",
    "    in X_train.iterrows()\n",
    "]\n",
    "\n",
    "X_test_holdout_words_and_ctx_encoded = [\n",
    "    np.append(\n",
    "        encoder.encode(row[\"word\"]),\n",
    "        encoder.encode(\n",
    "            \" \".join([row[\"l_tok_3\"], row[\"l_tok_2\"], row[\"l_tok_1\"], row[\"r_tok_1\"], row[\"r_tok_2\"], row[\"r_tok_3\"],])\n",
    "        )\n",
    "    )\n",
    "    for _, row\n",
    "    in X_test_holdout.iterrows()\n",
    "]\n",
    "\n",
    "X_test_unkn_words_and_ctx_encoded = [\n",
    "    np.append(\n",
    "        encoder.encode(row[\"word\"]),\n",
    "        encoder.encode(\n",
    "            \" \".join([row[\"l_tok_3\"], row[\"l_tok_2\"], row[\"l_tok_1\"], row[\"r_tok_1\"], row[\"r_tok_2\"], row[\"r_tok_3\"],])\n",
    "        )\n",
    "    )\n",
    "    for _, row\n",
    "    in X_test_unkn.iterrows()\n",
    "]"
   ]
  },
  {
   "cell_type": "code",
   "execution_count": 17,
   "id": "d7a1118d",
   "metadata": {},
   "outputs": [],
   "source": [
    "import timeit\n",
    "from pprint import pprint\n",
    "from tqdm import tqdm"
   ]
  },
  {
   "cell_type": "code",
   "execution_count": 18,
   "id": "585f7036",
   "metadata": {},
   "outputs": [],
   "source": [
    "def time_stuff(get_model, training_data, y, testing_data, reps=15):\n",
    "    train_times = []\n",
    "    infer_times = []\n",
    "\n",
    "    for rep in tqdm(range(reps)):\n",
    "        model = get_model()\n",
    "        time_train = timeit.timeit(\n",
    "            lambda: model.fit(\n",
    "                training_data,\n",
    "                y\n",
    "            ),\n",
    "            number=1\n",
    "        )\n",
    "\n",
    "        time_test = timeit.timeit(\n",
    "            lambda: model.predict(\n",
    "                testing_data,\n",
    "            ),\n",
    "            number=1\n",
    "        )\n",
    "\n",
    "        train_times.append(time_train)\n",
    "        infer_times.append(time_test)\n",
    "\n",
    "    return np.mean(train_times), sum(train_times), np.mean(infer_times), sum(infer_times), train_times, infer_times\n"
   ]
  },
  {
   "cell_type": "code",
   "execution_count": 19,
   "id": "1fc096a7",
   "metadata": {},
   "outputs": [
    {
     "name": "stderr",
     "output_type": "stream",
     "text": [
      "100%|██████████| 15/15 [00:23<00:00,  1.56s/it]\n"
     ]
    },
    {
     "data": {
      "text/plain": [
       "(1.5564234760666296,\n",
       " 23.346352140999443,\n",
       " 0.00498708953333941,\n",
       " 0.07480634300009115,\n",
       " [0.7217053109998233,\n",
       "  0.6762737249991915,\n",
       "  0.6897834709998278,\n",
       "  0.7088830280008551,\n",
       "  0.7081631349992676,\n",
       "  0.6819829989999562,\n",
       "  0.6703786260004563,\n",
       "  0.6680941309987247,\n",
       "  1.033948424999835,\n",
       "  2.1370755749994714,\n",
       "  2.4300957750001544,\n",
       "  3.3352648680011043,\n",
       "  3.7130213950003963,\n",
       "  2.6186007790001895,\n",
       "  2.5530808980001893],\n",
       " [0.003052003999982844,\n",
       "  0.0025176130002364516,\n",
       "  0.0028608060001715785,\n",
       "  0.0026571369999146555,\n",
       "  0.0027851130016642855,\n",
       "  0.0025215839996235445,\n",
       "  0.002404286999080796,\n",
       "  0.0024199540002882713,\n",
       "  0.004498251999393688,\n",
       "  0.005900101999941398,\n",
       "  0.007587379001051886,\n",
       "  0.007326885999646038,\n",
       "  0.010154820000025211,\n",
       "  0.008883163000064087,\n",
       "  0.009237242999006412])"
      ]
     },
     "execution_count": 19,
     "metadata": {},
     "output_type": "execute_result"
    }
   ],
   "source": [
    "time_stuff(\n",
    "    get_lgbm,\n",
    "    X_train_words_and_ctx_encoded + X_test_holdout_words_and_ctx_encoded,\n",
    "    y_train[\"aspect\"].to_list()  + y_test_holdout[\"aspect\"].to_list(),\n",
    "    X_test_unkn_words_and_ctx_encoded,\n",
    ")"
   ]
  },
  {
   "cell_type": "code",
   "execution_count": 20,
   "id": "c7ba60c5",
   "metadata": {},
   "outputs": [
    {
     "name": "stderr",
     "output_type": "stream",
     "text": [
      "100%|██████████| 15/15 [01:11<00:00,  4.74s/it]\n"
     ]
    },
    {
     "data": {
      "text/plain": [
       "(4.732104733000475,\n",
       " 70.98157099500713,\n",
       " 0.0063410403334273726,\n",
       " 0.09511560500141059,\n",
       " [12.640707497999756,\n",
       "  4.109504706000735,\n",
       "  3.413406706000387,\n",
       "  4.324687326999992,\n",
       "  3.4708761680012685,\n",
       "  3.5583505110007536,\n",
       "  3.5405135310011246,\n",
       "  3.354182158000185,\n",
       "  3.6469912600005046,\n",
       "  3.7632809639999323,\n",
       "  4.080342920000476,\n",
       "  5.417400376001751,\n",
       "  5.784636194000996,\n",
       "  4.80293185499977,\n",
       "  5.073758820999501],\n",
       " [0.03155961800075602,\n",
       "  0.0030735479995200876,\n",
       "  0.003265133000240894,\n",
       "  0.0031120410003495635,\n",
       "  0.0032880660000955686,\n",
       "  0.004299366999475751,\n",
       "  0.0039892570002848515,\n",
       "  0.006010225999489194,\n",
       "  0.0030599170004279586,\n",
       "  0.0031263689998013433,\n",
       "  0.007180803000665037,\n",
       "  0.005294742999467417,\n",
       "  0.002995589999045478,\n",
       "  0.004972328000803827,\n",
       "  0.009888599000987597])"
      ]
     },
     "execution_count": 20,
     "metadata": {},
     "output_type": "execute_result"
    }
   ],
   "source": [
    "time_stuff(\n",
    "    get_nn,\n",
    "    X_train_words_and_ctx_encoded + X_test_holdout_words_and_ctx_encoded,\n",
    "    y_train[\"aspect\"].to_list()  + y_test_holdout[\"aspect\"].to_list(),\n",
    "    X_test_unkn_words_and_ctx_encoded,\n",
    ")"
   ]
  },
  {
   "cell_type": "code",
   "execution_count": 21,
   "id": "121573bc",
   "metadata": {},
   "outputs": [
    {
     "ename": "ValueError",
     "evalue": "",
     "output_type": "error",
     "traceback": [
      "\u001b[0;31m---------------------------------------------------------------------------\u001b[0m",
      "\u001b[0;31mValueError\u001b[0m                                Traceback (most recent call last)",
      "Cell \u001b[0;32mIn[21], line 1\u001b[0m\n\u001b[0;32m----> 1\u001b[0m \u001b[38;5;28;01mraise\u001b[39;00m \u001b[38;5;167;01mValueError\u001b[39;00m\n",
      "\u001b[0;31mValueError\u001b[0m: "
     ]
    }
   ],
   "source": [
    "raise ValueError"
   ]
  },
  {
   "cell_type": "code",
   "execution_count": null,
   "id": "5baa5fae",
   "metadata": {},
   "outputs": [],
   "source": []
  }
 ],
 "metadata": {
  "kernelspec": {
   "display_name": ".venv",
   "language": "python",
   "name": "python3"
  },
  "language_info": {
   "codemirror_mode": {
    "name": "ipython",
    "version": 3
   },
   "file_extension": ".py",
   "mimetype": "text/x-python",
   "name": "python",
   "nbconvert_exporter": "python",
   "pygments_lexer": "ipython3",
   "version": "3.10.12"
  }
 },
 "nbformat": 4,
 "nbformat_minor": 5
}
