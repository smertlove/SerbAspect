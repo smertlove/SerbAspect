{
 "cells": [
  {
   "cell_type": "markdown",
   "metadata": {},
   "source": [
    "#### Загрузка conllu датасета"
   ]
  },
  {
   "cell_type": "code",
   "execution_count": 1,
   "metadata": {},
   "outputs": [],
   "source": [
    "from pathlib import Path\n",
    "import requests"
   ]
  },
  {
   "cell_type": "code",
   "execution_count": 2,
   "metadata": {},
   "outputs": [],
   "source": [
    "data_dir = Path.cwd() / \"data\"\n",
    "serb_train = data_dir / \"sr_set-ud-train.conllu\"\n",
    "\n",
    "if not data_dir.exists():\n",
    "    data_dir.mkdir()\n",
    "\n",
    "if not serb_train.exists():\n",
    "\n",
    "    url = r\"https://raw.githubusercontent.com/UniversalDependencies/UD_Serbian-SET/refs/heads/master/sr_set-ud-train.conllu\"\n",
    "\n",
    "    try:\n",
    "        response = requests.get(url, timeout=15)\n",
    "        response.raise_for_status()\n",
    "\n",
    "    except requests.exceptions.RequestException as e:\n",
    "        print(f\"Download failed: {e}\")\n",
    "\n",
    "    else:\n",
    "        with open(serb_train, \"w\", encoding=\"utf-8\") as file:\n",
    "            file.write(response.text)\n"
   ]
  },
  {
   "cell_type": "markdown",
   "metadata": {},
   "source": [
    "### Подготовка данных\n",
    "#### Парсинг conllu"
   ]
  },
  {
   "cell_type": "code",
   "execution_count": 3,
   "metadata": {},
   "outputs": [],
   "source": [
    "from nltk.parse import DependencyGraph\n",
    "import warnings\n",
    "warnings.filterwarnings('ignore')\n",
    "\n",
    "from tools.custom_types import ConlluDbRow"
   ]
  },
  {
   "cell_type": "code",
   "execution_count": 4,
   "metadata": {},
   "outputs": [],
   "source": [
    "with open(serb_train, \"r\", encoding=\"utf-8\") as file:\n",
    "    data = file.read()"
   ]
  },
  {
   "cell_type": "code",
   "execution_count": 5,
   "metadata": {},
   "outputs": [],
   "source": [
    "sents = [sent for sent in data.split(\"\\n\\n\") if sent.strip()]"
   ]
  },
  {
   "cell_type": "code",
   "execution_count": 6,
   "metadata": {},
   "outputs": [
    {
     "data": {
      "text/plain": [
       "3328"
      ]
     },
     "execution_count": 6,
     "metadata": {},
     "output_type": "execute_result"
    }
   ],
   "source": [
    "len(sents)"
   ]
  },
  {
   "cell_type": "code",
   "execution_count": 7,
   "metadata": {},
   "outputs": [],
   "source": [
    "marker = \"# sent_id = \"\n",
    "ids = [\n",
    "    \"\\n\".join(\n",
    "        filter(\n",
    "            lambda line: line.strip().startswith(marker),\n",
    "            sent.split(\"\\n\")\n",
    "        )\n",
    "    )[len(marker):]\n",
    "    for sent\n",
    "    in sents\n",
    "]"
   ]
  },
  {
   "cell_type": "code",
   "execution_count": 8,
   "metadata": {},
   "outputs": [],
   "source": [
    "marker = \"# text = \"\n",
    "raw_texts = [\n",
    "    \"\\n\".join(\n",
    "        filter(\n",
    "            lambda line: line.strip().startswith(marker),\n",
    "            sent.split(\"\\n\")\n",
    "        )\n",
    "    )[len(marker):]\n",
    "    for sent\n",
    "    in sents\n",
    "]"
   ]
  },
  {
   "cell_type": "code",
   "execution_count": 9,
   "metadata": {},
   "outputs": [],
   "source": [
    "sents = [\n",
    "    \"\\n\".join(\n",
    "        filter(\n",
    "            lambda line: line.strip()[0] != \"#\",\n",
    "            sent.split(\"\\n\")\n",
    "        )\n",
    "    )\n",
    "    for sent\n",
    "    in sents\n",
    "]\n"
   ]
  },
  {
   "cell_type": "code",
   "execution_count": 10,
   "metadata": {},
   "outputs": [],
   "source": [
    "trees = [\n",
    "    DependencyGraph(sent)\n",
    "    for sent\n",
    "    in sents\n",
    "]"
   ]
  },
  {
   "cell_type": "code",
   "execution_count": 11,
   "metadata": {},
   "outputs": [
    {
     "data": {
      "text/plain": [
       "(3328, 3328, 3328)"
      ]
     },
     "execution_count": 11,
     "metadata": {},
     "output_type": "execute_result"
    }
   ],
   "source": [
    "len(raw_texts), len(ids), len(trees)"
   ]
  },
  {
   "cell_type": "code",
   "execution_count": 12,
   "metadata": {},
   "outputs": [],
   "source": [
    "#  На id отсюда мяпятся db_id из нашего датасета\n",
    "\n",
    "CONLLU_DB: dict[\n",
    "    str,\n",
    "    ConlluDbRow\n",
    "] = {\n",
    "    ids[i] : {\n",
    "        \"text\": raw_texts[i],\n",
    "        \"tree\": trees[i]\n",
    "    }\n",
    "    for i in range(len(ids))\n",
    "}"
   ]
  },
  {
   "cell_type": "markdown",
   "metadata": {},
   "source": [
    "#### Загрузка авторского датасета"
   ]
  },
  {
   "cell_type": "code",
   "execution_count": 13,
   "metadata": {},
   "outputs": [],
   "source": [
    "import pandas as pd\n",
    "import csv"
   ]
  },
  {
   "cell_type": "code",
   "execution_count": 14,
   "metadata": {},
   "outputs": [],
   "source": [
    "df = pd.read_csv(\"./data/forms2sents.csv\", sep=\"\\t\", quoting=csv.QUOTE_NONE, index_col=0)"
   ]
  },
  {
   "cell_type": "code",
   "execution_count": 15,
   "metadata": {},
   "outputs": [
    {
     "data": {
      "text/html": [
       "<div>\n",
       "<style scoped>\n",
       "    .dataframe tbody tr th:only-of-type {\n",
       "        vertical-align: middle;\n",
       "    }\n",
       "\n",
       "    .dataframe tbody tr th {\n",
       "        vertical-align: top;\n",
       "    }\n",
       "\n",
       "    .dataframe thead th {\n",
       "        text-align: right;\n",
       "    }\n",
       "</style>\n",
       "<table border=\"1\" class=\"dataframe\">\n",
       "  <thead>\n",
       "    <tr style=\"text-align: right;\">\n",
       "      <th></th>\n",
       "      <th>lemma</th>\n",
       "      <th>word</th>\n",
       "      <th>aspect</th>\n",
       "      <th>disambig</th>\n",
       "      <th>db_id</th>\n",
       "    </tr>\n",
       "  </thead>\n",
       "  <tbody>\n",
       "    <tr>\n",
       "      <th>0</th>\n",
       "      <td>bacati</td>\n",
       "      <td>baca</td>\n",
       "      <td>imp</td>\n",
       "      <td>imp</td>\n",
       "      <td>set-s2762</td>\n",
       "    </tr>\n",
       "    <tr>\n",
       "      <th>1</th>\n",
       "      <td>bacati</td>\n",
       "      <td>bacaju</td>\n",
       "      <td>imp</td>\n",
       "      <td>imp</td>\n",
       "      <td>set-s693</td>\n",
       "    </tr>\n",
       "    <tr>\n",
       "      <th>2</th>\n",
       "      <td>bacati</td>\n",
       "      <td>bacaju</td>\n",
       "      <td>imp</td>\n",
       "      <td>imp</td>\n",
       "      <td>set-s2765</td>\n",
       "    </tr>\n",
       "    <tr>\n",
       "      <th>3</th>\n",
       "      <td>bacati</td>\n",
       "      <td>bacaju</td>\n",
       "      <td>imp</td>\n",
       "      <td>imp</td>\n",
       "      <td>set-s3624</td>\n",
       "    </tr>\n",
       "    <tr>\n",
       "      <th>4</th>\n",
       "      <td>bacati</td>\n",
       "      <td>bacala</td>\n",
       "      <td>imp</td>\n",
       "      <td>imp</td>\n",
       "      <td>set-s2360</td>\n",
       "    </tr>\n",
       "  </tbody>\n",
       "</table>\n",
       "</div>"
      ],
      "text/plain": [
       "    lemma    word aspect disambig      db_id\n",
       "0  bacati    baca    imp      imp  set-s2762\n",
       "1  bacati  bacaju    imp      imp   set-s693\n",
       "2  bacati  bacaju    imp      imp  set-s2765\n",
       "3  bacati  bacaju    imp      imp  set-s3624\n",
       "4  bacati  bacala    imp      imp  set-s2360"
      ]
     },
     "execution_count": 15,
     "metadata": {},
     "output_type": "execute_result"
    }
   ],
   "source": [
    "df.head()"
   ]
  },
  {
   "cell_type": "code",
   "execution_count": 16,
   "metadata": {},
   "outputs": [
    {
     "data": {
      "text/plain": [
       "4959"
      ]
     },
     "execution_count": 16,
     "metadata": {},
     "output_type": "execute_result"
    }
   ],
   "source": [
    "# Всего записей\n",
    "len(df)"
   ]
  },
  {
   "cell_type": "code",
   "execution_count": 17,
   "metadata": {},
   "outputs": [
    {
     "data": {
      "text/plain": [
       "311"
      ]
     },
     "execution_count": 17,
     "metadata": {},
     "output_type": "execute_result"
    }
   ],
   "source": [
    "# Кол-во лемм\n",
    "len(set(df[\"lemma\"]))"
   ]
  },
  {
   "cell_type": "code",
   "execution_count": 18,
   "metadata": {},
   "outputs": [
    {
     "data": {
      "text/plain": [
       "1398"
      ]
     },
     "execution_count": 18,
     "metadata": {},
     "output_type": "execute_result"
    }
   ],
   "source": [
    "# Кол-во уникальных форм\n",
    "len(set(map(str.lower, df[\"word\"])))"
   ]
  },
  {
   "cell_type": "code",
   "execution_count": 19,
   "metadata": {},
   "outputs": [
    {
     "data": {
      "text/plain": [
       "2605"
      ]
     },
     "execution_count": 19,
     "metadata": {},
     "output_type": "execute_result"
    }
   ],
   "source": [
    "# Кол-во уникальных предложений.\n",
    "len(set(df[\"db_id\"]))"
   ]
  },
  {
   "cell_type": "code",
   "execution_count": 20,
   "metadata": {},
   "outputs": [
    {
     "data": {
      "text/plain": [
       "[('reći', 285),\n",
       " ('moći', 171),\n",
       " ('imati', 154),\n",
       " ('kazati', 143),\n",
       " ('trebati', 111),\n",
       " ('morati', 95),\n",
       " ('izjaviti', 90),\n",
       " ('dobiti', 61),\n",
       " ('postati', 61),\n",
       " ('želeti', 53)]"
      ]
     },
     "execution_count": 20,
     "metadata": {},
     "output_type": "execute_result"
    }
   ],
   "source": [
    "# Самые частотные леммы\n",
    "from collections import Counter\n",
    "Counter(df[\"lemma\"].values).most_common(10)"
   ]
  },
  {
   "cell_type": "code",
   "execution_count": 21,
   "metadata": {},
   "outputs": [
    {
     "data": {
      "text/plain": [
       "lemma          bacati\n",
       "word             baca\n",
       "aspect            imp\n",
       "disambig          imp\n",
       "db_id       set-s2762\n",
       "Name: 0, dtype: object"
      ]
     },
     "execution_count": 21,
     "metadata": {},
     "output_type": "execute_result"
    }
   ],
   "source": [
    "test_row = df.iloc[0]\n",
    "test_row"
   ]
  },
  {
   "cell_type": "code",
   "execution_count": 22,
   "metadata": {},
   "outputs": [],
   "source": [
    "test_entry = CONLLU_DB[test_row[\"db_id\"]]"
   ]
  },
  {
   "cell_type": "code",
   "execution_count": 23,
   "metadata": {},
   "outputs": [
    {
     "data": {
      "text/plain": [
       "'Otpad iz šest priobalnih zemalja, kao i država u njegovom slivu, ulazi u more uglavnom preko reka, a ponekad se jednostavno baca u vodu.'"
      ]
     },
     "execution_count": 23,
     "metadata": {},
     "output_type": "execute_result"
    }
   ],
   "source": [
    "test_entry[\"text\"]"
   ]
  },
  {
   "cell_type": "code",
   "execution_count": 24,
   "metadata": {},
   "outputs": [
    {
     "data": {
      "image/svg+xml": [
       "<?xml version=\"1.0\" encoding=\"UTF-8\" standalone=\"no\"?>\n",
       "<!DOCTYPE svg PUBLIC \"-//W3C//DTD SVG 1.1//EN\"\n",
       " \"http://www.w3.org/Graphics/SVG/1.1/DTD/svg11.dtd\">\n",
       "<!-- Generated by graphviz version 2.43.0 (0)\n",
       " -->\n",
       "<!-- Title: G Pages: 1 -->\n",
       "<svg width=\"1217pt\" height=\"566pt\"\n",
       " viewBox=\"0.00 0.00 1217.00 566.00\" xmlns=\"http://www.w3.org/2000/svg\" xmlns:xlink=\"http://www.w3.org/1999/xlink\">\n",
       "<g id=\"graph0\" class=\"graph\" transform=\"scale(1 1) rotate(0) translate(4 562)\">\n",
       "<title>G</title>\n",
       "<polygon fill=\"white\" stroke=\"transparent\" points=\"-4,4 -4,-562 1213,-562 1213,4 -4,4\"/>\n",
       "<!-- 0 -->\n",
       "<g id=\"node1\" class=\"node\">\n",
       "<title>0</title>\n",
       "<text text-anchor=\"middle\" x=\"529\" y=\"-536.3\" font-family=\"Times,serif\" font-size=\"14.00\">0 (None)</text>\n",
       "</g>\n",
       "<!-- 14 -->\n",
       "<g id=\"node2\" class=\"node\">\n",
       "<title>14</title>\n",
       "<text text-anchor=\"middle\" x=\"529\" y=\"-449.3\" font-family=\"Times,serif\" font-size=\"14.00\">14 (ulazi)</text>\n",
       "</g>\n",
       "<!-- 0&#45;&gt;14 -->\n",
       "<g id=\"edge1\" class=\"edge\">\n",
       "<title>0&#45;&gt;14</title>\n",
       "<path fill=\"none\" stroke=\"black\" d=\"M529,-521.8C529,-510.16 529,-494.55 529,-481.24\"/>\n",
       "<polygon fill=\"black\" stroke=\"black\" points=\"532.5,-481.18 529,-471.18 525.5,-481.18 532.5,-481.18\"/>\n",
       "<text text-anchor=\"middle\" x=\"544\" y=\"-492.8\" font-family=\"Times,serif\" font-size=\"14.00\">root</text>\n",
       "</g>\n",
       "<!-- 1 -->\n",
       "<g id=\"node3\" class=\"node\">\n",
       "<title>1</title>\n",
       "<text text-anchor=\"middle\" x=\"258\" y=\"-362.3\" font-family=\"Times,serif\" font-size=\"14.00\">1 (Otpad)</text>\n",
       "</g>\n",
       "<!-- 14&#45;&gt;1 -->\n",
       "<g id=\"edge14\" class=\"edge\">\n",
       "<title>14&#45;&gt;1</title>\n",
       "<path fill=\"none\" stroke=\"black\" d=\"M487.39,-439.18C466.04,-432.58 439.62,-424.39 416,-417 380.57,-405.91 340.72,-393.29 309.9,-383.51\"/>\n",
       "<polygon fill=\"black\" stroke=\"black\" points=\"310.82,-380.13 300.23,-380.44 308.7,-386.8 310.82,-380.13\"/>\n",
       "<text text-anchor=\"middle\" x=\"436\" y=\"-405.8\" font-family=\"Times,serif\" font-size=\"14.00\">nsubj</text>\n",
       "</g>\n",
       "<!-- 16 -->\n",
       "<g id=\"node16\" class=\"node\">\n",
       "<title>16</title>\n",
       "<text text-anchor=\"middle\" x=\"405\" y=\"-362.3\" font-family=\"Times,serif\" font-size=\"14.00\">16 (more)</text>\n",
       "</g>\n",
       "<!-- 14&#45;&gt;16 -->\n",
       "<g id=\"edge15\" class=\"edge\">\n",
       "<title>14&#45;&gt;16</title>\n",
       "<path fill=\"none\" stroke=\"black\" d=\"M503.91,-434.8C485.08,-421.9 459.12,-404.1 438.52,-389.98\"/>\n",
       "<polygon fill=\"black\" stroke=\"black\" points=\"440.28,-386.94 430.06,-384.18 436.33,-392.72 440.28,-386.94\"/>\n",
       "<text text-anchor=\"middle\" x=\"486\" y=\"-405.8\" font-family=\"Times,serif\" font-size=\"14.00\">obl</text>\n",
       "</g>\n",
       "<!-- 19 -->\n",
       "<g id=\"node17\" class=\"node\">\n",
       "<title>19</title>\n",
       "<text text-anchor=\"middle\" x=\"529\" y=\"-362.3\" font-family=\"Times,serif\" font-size=\"14.00\">19 (reka)</text>\n",
       "</g>\n",
       "<!-- 14&#45;&gt;19 -->\n",
       "<g id=\"edge16\" class=\"edge\">\n",
       "<title>14&#45;&gt;19</title>\n",
       "<path fill=\"none\" stroke=\"black\" d=\"M529,-434.8C529,-423.16 529,-407.55 529,-394.24\"/>\n",
       "<polygon fill=\"black\" stroke=\"black\" points=\"532.5,-394.18 529,-384.18 525.5,-394.18 532.5,-394.18\"/>\n",
       "<text text-anchor=\"middle\" x=\"540\" y=\"-405.8\" font-family=\"Times,serif\" font-size=\"14.00\">obl</text>\n",
       "</g>\n",
       "<!-- 25 -->\n",
       "<g id=\"node18\" class=\"node\">\n",
       "<title>25</title>\n",
       "<text text-anchor=\"middle\" x=\"763\" y=\"-362.3\" font-family=\"Times,serif\" font-size=\"14.00\">25 (baca)</text>\n",
       "</g>\n",
       "<!-- 14&#45;&gt;25 -->\n",
       "<g id=\"edge17\" class=\"edge\">\n",
       "<title>14&#45;&gt;25</title>\n",
       "<path fill=\"none\" stroke=\"black\" d=\"M570.56,-436.9C610.04,-422.56 669.49,-400.97 711.86,-385.58\"/>\n",
       "<polygon fill=\"black\" stroke=\"black\" points=\"713.22,-388.8 721.43,-382.1 710.83,-382.23 713.22,-388.8\"/>\n",
       "<text text-anchor=\"middle\" x=\"676\" y=\"-405.8\" font-family=\"Times,serif\" font-size=\"14.00\">conj</text>\n",
       "</g>\n",
       "<!-- 28 -->\n",
       "<g id=\"node19\" class=\"node\">\n",
       "<title>28</title>\n",
       "<text text-anchor=\"middle\" x=\"850\" y=\"-362.3\" font-family=\"Times,serif\" font-size=\"14.00\">28 (.)</text>\n",
       "</g>\n",
       "<!-- 14&#45;&gt;28 -->\n",
       "<g id=\"edge18\" class=\"edge\">\n",
       "<title>14&#45;&gt;28</title>\n",
       "<path fill=\"none\" stroke=\"black\" d=\"M570.81,-445.15C626.99,-435.24 729.47,-414.65 813,-384 813.1,-383.96 813.2,-383.93 813.3,-383.89\"/>\n",
       "<polygon fill=\"black\" stroke=\"black\" points=\"814.74,-387.08 822.72,-380.12 812.14,-380.58 814.74,-387.08\"/>\n",
       "<text text-anchor=\"middle\" x=\"773.5\" y=\"-405.8\" font-family=\"Times,serif\" font-size=\"14.00\">punct</text>\n",
       "</g>\n",
       "<!-- 5 -->\n",
       "<g id=\"node4\" class=\"node\">\n",
       "<title>5</title>\n",
       "<text text-anchor=\"middle\" x=\"223\" y=\"-275.3\" font-family=\"Times,serif\" font-size=\"14.00\">5 (zemalja)</text>\n",
       "</g>\n",
       "<!-- 1&#45;&gt;5 -->\n",
       "<g id=\"edge2\" class=\"edge\">\n",
       "<title>1&#45;&gt;5</title>\n",
       "<path fill=\"none\" stroke=\"black\" d=\"M250.92,-347.8C246.03,-335.93 239.44,-319.93 233.89,-306.45\"/>\n",
       "<polygon fill=\"black\" stroke=\"black\" points=\"237.12,-305.09 230.07,-297.18 230.64,-307.75 237.12,-305.09\"/>\n",
       "<text text-anchor=\"middle\" x=\"263\" y=\"-318.8\" font-family=\"Times,serif\" font-size=\"14.00\">nmod</text>\n",
       "</g>\n",
       "<!-- 2 -->\n",
       "<g id=\"node5\" class=\"node\">\n",
       "<title>2</title>\n",
       "<text text-anchor=\"middle\" x=\"27\" y=\"-188.3\" font-family=\"Times,serif\" font-size=\"14.00\">2 (iz)</text>\n",
       "</g>\n",
       "<!-- 5&#45;&gt;2 -->\n",
       "<g id=\"edge3\" class=\"edge\">\n",
       "<title>5&#45;&gt;2</title>\n",
       "<path fill=\"none\" stroke=\"black\" d=\"M175.38,-272.61C146.45,-267.86 109.53,-259.06 80,-243 68.19,-236.58 57.06,-226.87 48.07,-217.72\"/>\n",
       "<polygon fill=\"black\" stroke=\"black\" points=\"50.45,-215.14 41.06,-210.24 45.34,-219.93 50.45,-215.14\"/>\n",
       "<text text-anchor=\"middle\" x=\"96\" y=\"-231.8\" font-family=\"Times,serif\" font-size=\"14.00\">case</text>\n",
       "</g>\n",
       "<!-- 3 -->\n",
       "<g id=\"node6\" class=\"node\">\n",
       "<title>3</title>\n",
       "<text text-anchor=\"middle\" x=\"107\" y=\"-188.3\" font-family=\"Times,serif\" font-size=\"14.00\">3 (šest)</text>\n",
       "</g>\n",
       "<!-- 5&#45;&gt;3 -->\n",
       "<g id=\"edge4\" class=\"edge\">\n",
       "<title>5&#45;&gt;3</title>\n",
       "<path fill=\"none\" stroke=\"black\" d=\"M175.46,-269.96C157.69,-264.85 138.56,-256.52 125,-243 118.78,-236.79 114.69,-228.28 112.02,-220.04\"/>\n",
       "<polygon fill=\"black\" stroke=\"black\" points=\"115.38,-219.05 109.4,-210.29 108.61,-220.86 115.38,-219.05\"/>\n",
       "<text text-anchor=\"middle\" x=\"171.5\" y=\"-231.8\" font-family=\"Times,serif\" font-size=\"14.00\">nummod:gov</text>\n",
       "</g>\n",
       "<!-- 4 -->\n",
       "<g id=\"node7\" class=\"node\">\n",
       "<title>4</title>\n",
       "<text text-anchor=\"middle\" x=\"220\" y=\"-188.3\" font-family=\"Times,serif\" font-size=\"14.00\">4 (priobalnih)</text>\n",
       "</g>\n",
       "<!-- 5&#45;&gt;4 -->\n",
       "<g id=\"edge5\" class=\"edge\">\n",
       "<title>5&#45;&gt;4</title>\n",
       "<path fill=\"none\" stroke=\"black\" d=\"M222.39,-260.8C221.98,-249.16 221.43,-233.55 220.96,-220.24\"/>\n",
       "<polygon fill=\"black\" stroke=\"black\" points=\"224.46,-220.05 220.61,-210.18 217.46,-220.29 224.46,-220.05\"/>\n",
       "<text text-anchor=\"middle\" x=\"242\" y=\"-231.8\" font-family=\"Times,serif\" font-size=\"14.00\">amod</text>\n",
       "</g>\n",
       "<!-- 9 -->\n",
       "<g id=\"node8\" class=\"node\">\n",
       "<title>9</title>\n",
       "<text text-anchor=\"middle\" x=\"339\" y=\"-188.3\" font-family=\"Times,serif\" font-size=\"14.00\">9 (država)</text>\n",
       "</g>\n",
       "<!-- 5&#45;&gt;9 -->\n",
       "<g id=\"edge6\" class=\"edge\">\n",
       "<title>5&#45;&gt;9</title>\n",
       "<path fill=\"none\" stroke=\"black\" d=\"M246.47,-260.8C264.01,-247.95 288.15,-230.26 307.38,-216.17\"/>\n",
       "<polygon fill=\"black\" stroke=\"black\" points=\"309.56,-218.91 315.56,-210.18 305.43,-213.26 309.56,-218.91\"/>\n",
       "<text text-anchor=\"middle\" x=\"303\" y=\"-231.8\" font-family=\"Times,serif\" font-size=\"14.00\">conj</text>\n",
       "</g>\n",
       "<!-- 13 -->\n",
       "<g id=\"node9\" class=\"node\">\n",
       "<title>13</title>\n",
       "<text text-anchor=\"middle\" x=\"429\" y=\"-188.3\" font-family=\"Times,serif\" font-size=\"14.00\">13 (,)</text>\n",
       "</g>\n",
       "<!-- 5&#45;&gt;13 -->\n",
       "<g id=\"edge7\" class=\"edge\">\n",
       "<title>5&#45;&gt;13</title>\n",
       "<path fill=\"none\" stroke=\"black\" d=\"M270.69,-262.19C287.08,-256.48 305.47,-249.77 322,-243 345.86,-233.23 372.1,-221 392.62,-211.08\"/>\n",
       "<polygon fill=\"black\" stroke=\"black\" points=\"394.16,-214.22 401.61,-206.7 391.09,-207.93 394.16,-214.22\"/>\n",
       "<text text-anchor=\"middle\" x=\"375.5\" y=\"-231.8\" font-family=\"Times,serif\" font-size=\"14.00\">punct</text>\n",
       "</g>\n",
       "<!-- 6 -->\n",
       "<g id=\"node10\" class=\"node\">\n",
       "<title>6</title>\n",
       "<text text-anchor=\"middle\" x=\"261\" y=\"-101.3\" font-family=\"Times,serif\" font-size=\"14.00\">6 (,)</text>\n",
       "</g>\n",
       "<!-- 9&#45;&gt;6 -->\n",
       "<g id=\"edge9\" class=\"edge\">\n",
       "<title>9&#45;&gt;6</title>\n",
       "<path fill=\"none\" stroke=\"black\" d=\"M313.94,-173.82C307.08,-168.53 299.91,-162.39 294,-156 287.26,-148.71 280.95,-139.91 275.7,-131.73\"/>\n",
       "<polygon fill=\"black\" stroke=\"black\" points=\"278.67,-129.87 270.44,-123.2 272.71,-133.55 278.67,-129.87\"/>\n",
       "<text text-anchor=\"middle\" x=\"314.5\" y=\"-144.8\" font-family=\"Times,serif\" font-size=\"14.00\">punct</text>\n",
       "</g>\n",
       "<!-- 7 -->\n",
       "<g id=\"node11\" class=\"node\">\n",
       "<title>7</title>\n",
       "<text text-anchor=\"middle\" x=\"339\" y=\"-101.3\" font-family=\"Times,serif\" font-size=\"14.00\">7 (kao)</text>\n",
       "</g>\n",
       "<!-- 9&#45;&gt;7 -->\n",
       "<g id=\"edge10\" class=\"edge\">\n",
       "<title>9&#45;&gt;7</title>\n",
       "<path fill=\"none\" stroke=\"black\" d=\"M339,-173.8C339,-162.16 339,-146.55 339,-133.24\"/>\n",
       "<polygon fill=\"black\" stroke=\"black\" points=\"342.5,-133.18 339,-123.18 335.5,-133.18 342.5,-133.18\"/>\n",
       "<text text-anchor=\"middle\" x=\"347\" y=\"-144.8\" font-family=\"Times,serif\" font-size=\"14.00\">cc</text>\n",
       "</g>\n",
       "<!-- 12 -->\n",
       "<g id=\"node13\" class=\"node\">\n",
       "<title>12</title>\n",
       "<text text-anchor=\"middle\" x=\"431\" y=\"-101.3\" font-family=\"Times,serif\" font-size=\"14.00\">12 (slivu)</text>\n",
       "</g>\n",
       "<!-- 9&#45;&gt;12 -->\n",
       "<g id=\"edge11\" class=\"edge\">\n",
       "<title>9&#45;&gt;12</title>\n",
       "<path fill=\"none\" stroke=\"black\" d=\"M357.62,-173.8C371.21,-161.24 389.82,-144.05 404.89,-130.12\"/>\n",
       "<polygon fill=\"black\" stroke=\"black\" points=\"407.44,-132.53 412.41,-123.18 402.69,-127.39 407.44,-132.53\"/>\n",
       "<text text-anchor=\"middle\" x=\"411\" y=\"-144.8\" font-family=\"Times,serif\" font-size=\"14.00\">nmod</text>\n",
       "</g>\n",
       "<!-- 8 -->\n",
       "<g id=\"node12\" class=\"node\">\n",
       "<title>8</title>\n",
       "<text text-anchor=\"middle\" x=\"339\" y=\"-14.3\" font-family=\"Times,serif\" font-size=\"14.00\">8 (i)</text>\n",
       "</g>\n",
       "<!-- 7&#45;&gt;8 -->\n",
       "<g id=\"edge8\" class=\"edge\">\n",
       "<title>7&#45;&gt;8</title>\n",
       "<path fill=\"none\" stroke=\"black\" d=\"M339,-86.8C339,-75.16 339,-59.55 339,-46.24\"/>\n",
       "<polygon fill=\"black\" stroke=\"black\" points=\"342.5,-46.18 339,-36.18 335.5,-46.18 342.5,-46.18\"/>\n",
       "<text text-anchor=\"middle\" x=\"356.5\" y=\"-57.8\" font-family=\"Times,serif\" font-size=\"14.00\">fixed</text>\n",
       "</g>\n",
       "<!-- 10 -->\n",
       "<g id=\"node14\" class=\"node\">\n",
       "<title>10</title>\n",
       "<text text-anchor=\"middle\" x=\"422\" y=\"-14.3\" font-family=\"Times,serif\" font-size=\"14.00\">10 (u)</text>\n",
       "</g>\n",
       "<!-- 12&#45;&gt;10 -->\n",
       "<g id=\"edge12\" class=\"edge\">\n",
       "<title>12&#45;&gt;10</title>\n",
       "<path fill=\"none\" stroke=\"black\" d=\"M429.18,-86.8C427.95,-75.16 426.29,-59.55 424.88,-46.24\"/>\n",
       "<polygon fill=\"black\" stroke=\"black\" points=\"428.35,-45.75 423.82,-36.18 421.39,-46.49 428.35,-45.75\"/>\n",
       "<text text-anchor=\"middle\" x=\"444\" y=\"-57.8\" font-family=\"Times,serif\" font-size=\"14.00\">case</text>\n",
       "</g>\n",
       "<!-- 11 -->\n",
       "<g id=\"node15\" class=\"node\">\n",
       "<title>11</title>\n",
       "<text text-anchor=\"middle\" x=\"529\" y=\"-14.3\" font-family=\"Times,serif\" font-size=\"14.00\">11 (njegovom)</text>\n",
       "</g>\n",
       "<!-- 12&#45;&gt;11 -->\n",
       "<g id=\"edge13\" class=\"edge\">\n",
       "<title>12&#45;&gt;11</title>\n",
       "<path fill=\"none\" stroke=\"black\" d=\"M450.83,-86.8C465.44,-74.13 485.5,-56.73 501.63,-42.74\"/>\n",
       "<polygon fill=\"black\" stroke=\"black\" points=\"503.94,-45.37 509.2,-36.18 499.35,-40.08 503.94,-45.37\"/>\n",
       "<text text-anchor=\"middle\" x=\"498\" y=\"-57.8\" font-family=\"Times,serif\" font-size=\"14.00\">det</text>\n",
       "</g>\n",
       "<!-- 15 -->\n",
       "<g id=\"node20\" class=\"node\">\n",
       "<title>15</title>\n",
       "<text text-anchor=\"middle\" x=\"318\" y=\"-275.3\" font-family=\"Times,serif\" font-size=\"14.00\">15 (u)</text>\n",
       "</g>\n",
       "<!-- 16&#45;&gt;15 -->\n",
       "<g id=\"edge19\" class=\"edge\">\n",
       "<title>16&#45;&gt;15</title>\n",
       "<path fill=\"none\" stroke=\"black\" d=\"M387.39,-347.8C374.66,-335.36 357.27,-318.36 343.08,-304.5\"/>\n",
       "<polygon fill=\"black\" stroke=\"black\" points=\"345.18,-301.66 335.58,-297.18 340.29,-306.67 345.18,-301.66\"/>\n",
       "<text text-anchor=\"middle\" x=\"383\" y=\"-318.8\" font-family=\"Times,serif\" font-size=\"14.00\">case</text>\n",
       "</g>\n",
       "<!-- 17 -->\n",
       "<g id=\"node21\" class=\"node\">\n",
       "<title>17</title>\n",
       "<text text-anchor=\"middle\" x=\"425\" y=\"-275.3\" font-family=\"Times,serif\" font-size=\"14.00\">17 (uglavnom)</text>\n",
       "</g>\n",
       "<!-- 19&#45;&gt;17 -->\n",
       "<g id=\"edge20\" class=\"edge\">\n",
       "<title>19&#45;&gt;17</title>\n",
       "<path fill=\"none\" stroke=\"black\" d=\"M501.64,-347.88C493.5,-342.44 484.71,-336.22 477,-330 467.35,-322.21 457.39,-312.97 448.8,-304.56\"/>\n",
       "<polygon fill=\"black\" stroke=\"black\" points=\"451.2,-302.02 441.64,-297.45 446.27,-306.98 451.2,-302.02\"/>\n",
       "<text text-anchor=\"middle\" x=\"505.5\" y=\"-318.8\" font-family=\"Times,serif\" font-size=\"14.00\">advmod</text>\n",
       "</g>\n",
       "<!-- 18 -->\n",
       "<g id=\"node22\" class=\"node\">\n",
       "<title>18</title>\n",
       "<text text-anchor=\"middle\" x=\"548\" y=\"-275.3\" font-family=\"Times,serif\" font-size=\"14.00\">18 (preko)</text>\n",
       "</g>\n",
       "<!-- 19&#45;&gt;18 -->\n",
       "<g id=\"edge21\" class=\"edge\">\n",
       "<title>19&#45;&gt;18</title>\n",
       "<path fill=\"none\" stroke=\"black\" d=\"M532.84,-347.8C535.45,-336.16 538.94,-320.55 541.91,-307.24\"/>\n",
       "<polygon fill=\"black\" stroke=\"black\" points=\"545.39,-307.7 544.16,-297.18 538.56,-306.17 545.39,-307.7\"/>\n",
       "<text text-anchor=\"middle\" x=\"556\" y=\"-318.8\" font-family=\"Times,serif\" font-size=\"14.00\">case</text>\n",
       "</g>\n",
       "<!-- 20 -->\n",
       "<g id=\"node23\" class=\"node\">\n",
       "<title>20</title>\n",
       "<text text-anchor=\"middle\" x=\"638\" y=\"-275.3\" font-family=\"Times,serif\" font-size=\"14.00\">20 (,)</text>\n",
       "</g>\n",
       "<!-- 25&#45;&gt;20 -->\n",
       "<g id=\"edge22\" class=\"edge\">\n",
       "<title>25&#45;&gt;20</title>\n",
       "<path fill=\"none\" stroke=\"black\" d=\"M721.56,-347.94C710.9,-342.81 699.7,-336.73 690,-330 679.49,-322.71 669.1,-313.29 660.39,-304.58\"/>\n",
       "<polygon fill=\"black\" stroke=\"black\" points=\"662.7,-301.93 653.22,-297.2 657.68,-306.81 662.7,-301.93\"/>\n",
       "<text text-anchor=\"middle\" x=\"710.5\" y=\"-318.8\" font-family=\"Times,serif\" font-size=\"14.00\">punct</text>\n",
       "</g>\n",
       "<!-- 21 -->\n",
       "<g id=\"node24\" class=\"node\">\n",
       "<title>21</title>\n",
       "<text text-anchor=\"middle\" x=\"712\" y=\"-275.3\" font-family=\"Times,serif\" font-size=\"14.00\">21 (a)</text>\n",
       "</g>\n",
       "<!-- 25&#45;&gt;21 -->\n",
       "<g id=\"edge23\" class=\"edge\">\n",
       "<title>25&#45;&gt;21</title>\n",
       "<path fill=\"none\" stroke=\"black\" d=\"M752.68,-347.8C745.49,-335.82 735.77,-319.62 727.63,-306.06\"/>\n",
       "<polygon fill=\"black\" stroke=\"black\" points=\"730.45,-303.95 722.31,-297.18 724.45,-307.55 730.45,-303.95\"/>\n",
       "<text text-anchor=\"middle\" x=\"749\" y=\"-318.8\" font-family=\"Times,serif\" font-size=\"14.00\">cc</text>\n",
       "</g>\n",
       "<!-- 22 -->\n",
       "<g id=\"node25\" class=\"node\">\n",
       "<title>22</title>\n",
       "<text text-anchor=\"middle\" x=\"814\" y=\"-275.3\" font-family=\"Times,serif\" font-size=\"14.00\">22 (ponekad)</text>\n",
       "</g>\n",
       "<!-- 25&#45;&gt;22 -->\n",
       "<g id=\"edge24\" class=\"edge\">\n",
       "<title>25&#45;&gt;22</title>\n",
       "<path fill=\"none\" stroke=\"black\" d=\"M773.32,-347.8C780.51,-335.82 790.23,-319.62 798.37,-306.06\"/>\n",
       "<polygon fill=\"black\" stroke=\"black\" points=\"801.55,-307.55 803.69,-297.18 795.55,-303.95 801.55,-307.55\"/>\n",
       "<text text-anchor=\"middle\" x=\"820.5\" y=\"-318.8\" font-family=\"Times,serif\" font-size=\"14.00\">advmod</text>\n",
       "</g>\n",
       "<!-- 23 -->\n",
       "<g id=\"node26\" class=\"node\">\n",
       "<title>23</title>\n",
       "<text text-anchor=\"middle\" x=\"920\" y=\"-275.3\" font-family=\"Times,serif\" font-size=\"14.00\">23 (se)</text>\n",
       "</g>\n",
       "<!-- 25&#45;&gt;23 -->\n",
       "<g id=\"edge26\" class=\"edge\">\n",
       "<title>25&#45;&gt;23</title>\n",
       "<path fill=\"none\" stroke=\"black\" d=\"M804.83,-351.41C820.38,-345.67 837.9,-338.37 853,-330 866.59,-322.47 880.52,-312.5 892.14,-303.44\"/>\n",
       "<polygon fill=\"black\" stroke=\"black\" points=\"894.52,-306.03 900.16,-297.06 890.15,-300.55 894.52,-306.03\"/>\n",
       "<text text-anchor=\"middle\" x=\"892.5\" y=\"-318.8\" font-family=\"Times,serif\" font-size=\"14.00\">expl</text>\n",
       "</g>\n",
       "<!-- 24 -->\n",
       "<g id=\"node27\" class=\"node\">\n",
       "<title>24</title>\n",
       "<text text-anchor=\"middle\" x=\"1039\" y=\"-275.3\" font-family=\"Times,serif\" font-size=\"14.00\">24 (jednostavno)</text>\n",
       "</g>\n",
       "<!-- 25&#45;&gt;24 -->\n",
       "<g id=\"edge25\" class=\"edge\">\n",
       "<title>25&#45;&gt;24</title>\n",
       "<path fill=\"none\" stroke=\"black\" d=\"M804.61,-350.6C807.77,-349.67 810.93,-348.79 814,-348 856.89,-336.97 869.42,-342.17 912,-330 939.03,-322.27 968.29,-310.97 991.9,-301.06\"/>\n",
       "<polygon fill=\"black\" stroke=\"black\" points=\"993.48,-304.19 1001.32,-297.06 990.75,-297.75 993.48,-304.19\"/>\n",
       "<text text-anchor=\"middle\" x=\"983.5\" y=\"-318.8\" font-family=\"Times,serif\" font-size=\"14.00\">advmod</text>\n",
       "</g>\n",
       "<!-- 27 -->\n",
       "<g id=\"node28\" class=\"node\">\n",
       "<title>27</title>\n",
       "<text text-anchor=\"middle\" x=\"1167\" y=\"-275.3\" font-family=\"Times,serif\" font-size=\"14.00\">27 (vodu)</text>\n",
       "</g>\n",
       "<!-- 25&#45;&gt;27 -->\n",
       "<g id=\"edge27\" class=\"edge\">\n",
       "<title>25&#45;&gt;27</title>\n",
       "<path fill=\"none\" stroke=\"black\" d=\"M804.53,-350.28C807.71,-349.42 810.89,-348.65 814,-348 902.24,-329.62 927.73,-348.24 1016,-330 1058.97,-321.12 1070.22,-312.84 1115.46,-297.24\"/>\n",
       "<polygon fill=\"black\" stroke=\"black\" points=\"1116.63,-300.54 1124.98,-294.02 1114.38,-293.91 1116.63,-300.54\"/>\n",
       "<text text-anchor=\"middle\" x=\"1077\" y=\"-318.8\" font-family=\"Times,serif\" font-size=\"14.00\">obl</text>\n",
       "</g>\n",
       "<!-- 26 -->\n",
       "<g id=\"node29\" class=\"node\">\n",
       "<title>26</title>\n",
       "<text text-anchor=\"middle\" x=\"1167\" y=\"-188.3\" font-family=\"Times,serif\" font-size=\"14.00\">26 (u)</text>\n",
       "</g>\n",
       "<!-- 27&#45;&gt;26 -->\n",
       "<g id=\"edge28\" class=\"edge\">\n",
       "<title>27&#45;&gt;26</title>\n",
       "<path fill=\"none\" stroke=\"black\" d=\"M1167,-260.8C1167,-249.16 1167,-233.55 1167,-220.24\"/>\n",
       "<polygon fill=\"black\" stroke=\"black\" points=\"1170.5,-220.18 1167,-210.18 1163.5,-220.18 1170.5,-220.18\"/>\n",
       "<text text-anchor=\"middle\" x=\"1183\" y=\"-231.8\" font-family=\"Times,serif\" font-size=\"14.00\">case</text>\n",
       "</g>\n",
       "</g>\n",
       "</svg>\n"
      ],
      "text/plain": [
       "<DependencyGraph with 29 nodes>"
      ]
     },
     "execution_count": 24,
     "metadata": {},
     "output_type": "execute_result"
    }
   ],
   "source": [
    "test_entry[\"tree\"]"
   ]
  },
  {
   "cell_type": "markdown",
   "metadata": {},
   "source": [
    "#### Из датасета удалены все случаи, где одна и та же форма глагола встречается в тексте несколько раз. Поэтому мы можем позволить себе искать ноду, в которой тусуется слово, только по форме собственно слова."
   ]
  },
  {
   "cell_type": "code",
   "execution_count": 25,
   "metadata": {},
   "outputs": [],
   "source": [
    "from tools.utils import get_verb_node\n",
    "from tools.utils import get_all_grammar"
   ]
  },
  {
   "cell_type": "code",
   "execution_count": 26,
   "metadata": {},
   "outputs": [
    {
     "data": {
      "text/plain": [
       "{'address': 25,\n",
       " 'word': 'baca',\n",
       " 'lemma': 'bacati',\n",
       " 'ctag': 'VERB',\n",
       " 'tag': 'Vmr3s',\n",
       " 'feats': 'Mood=Ind|Number=Sing|Person=3|Tense=Pres|VerbForm=Fin',\n",
       " 'head': 14,\n",
       " 'deps': defaultdict(list,\n",
       "             {'punct': [20],\n",
       "              'cc': [21],\n",
       "              'advmod': [22, 24],\n",
       "              'expl': [23],\n",
       "              'obl': [27]}),\n",
       " 'rel': 'conj'}"
      ]
     },
     "execution_count": 26,
     "metadata": {},
     "output_type": "execute_result"
    }
   ],
   "source": [
    "test_node = get_verb_node(\n",
    "    test_row[\"word\"],\n",
    "    test_entry\n",
    ")\n",
    "test_node"
   ]
  },
  {
   "cell_type": "code",
   "execution_count": 27,
   "metadata": {},
   "outputs": [
    {
     "data": {
      "text/plain": [
       "{'Mood': 'Ind',\n",
       " 'Number': 'Sing',\n",
       " 'Person': '3',\n",
       " 'Tense': 'Pres',\n",
       " 'VerbForm': 'Fin',\n",
       " 'POS': 'VERB'}"
      ]
     },
     "execution_count": 27,
     "metadata": {},
     "output_type": "execute_result"
    }
   ],
   "source": [
    "get_all_grammar(test_node)"
   ]
  },
  {
   "cell_type": "code",
   "execution_count": 28,
   "metadata": {},
   "outputs": [
    {
     "data": {
      "text/plain": [
       "{'address': 3,\n",
       " 'word': 'može',\n",
       " 'lemma': 'moći',\n",
       " 'ctag': 'VERB',\n",
       " 'tag': 'Vmr3s',\n",
       " 'feats': 'Mood=Ind|Number=Sing|Person=3|Tense=Pres|VerbForm=Fin',\n",
       " 'head': 0,\n",
       " 'deps': defaultdict(list,\n",
       "             {'nsubj': [1],\n",
       "              'advmod': [2],\n",
       "              'xcomp': [6],\n",
       "              'conj': [12],\n",
       "              'punct': [15, 26],\n",
       "              'parataxis': [17]}),\n",
       " 'rel': 'root'}"
      ]
     },
     "execution_count": 28,
     "metadata": {},
     "output_type": "execute_result"
    }
   ],
   "source": [
    "test_node = get_verb_node(\n",
    "    \"može\",\n",
    "    CONLLU_DB[\"set-s119\"]\n",
    ")\n",
    "test_node"
   ]
  },
  {
   "cell_type": "code",
   "execution_count": 29,
   "metadata": {},
   "outputs": [
    {
     "data": {
      "text/plain": [
       "{'address': 2,\n",
       " 'word': 'ne',\n",
       " 'lemma': 'ne',\n",
       " 'ctag': 'PART',\n",
       " 'tag': 'Qz',\n",
       " 'feats': 'Polarity=Neg',\n",
       " 'head': 3,\n",
       " 'deps': defaultdict(list, {}),\n",
       " 'rel': 'advmod'}"
      ]
     },
     "execution_count": 29,
     "metadata": {},
     "output_type": "execute_result"
    }
   ],
   "source": [
    "CONLLU_DB[\"set-s119\"][\"tree\"].nodes[2]"
   ]
  },
  {
   "cell_type": "markdown",
   "metadata": {},
   "source": [
    "#### Код ниже создает большую таблицу"
   ]
  },
  {
   "cell_type": "code",
   "execution_count": 77,
   "metadata": {},
   "outputs": [
    {
     "data": {
      "text/html": [
       "<div>\n",
       "<style scoped>\n",
       "    .dataframe tbody tr th:only-of-type {\n",
       "        vertical-align: middle;\n",
       "    }\n",
       "\n",
       "    .dataframe tbody tr th {\n",
       "        vertical-align: top;\n",
       "    }\n",
       "\n",
       "    .dataframe thead th {\n",
       "        text-align: right;\n",
       "    }\n",
       "</style>\n",
       "<table border=\"1\" class=\"dataframe\">\n",
       "  <thead>\n",
       "    <tr style=\"text-align: right;\">\n",
       "      <th></th>\n",
       "      <th>lemma</th>\n",
       "      <th>word</th>\n",
       "      <th>aspect</th>\n",
       "      <th>disambig</th>\n",
       "      <th>db_id</th>\n",
       "      <th>text</th>\n",
       "    </tr>\n",
       "  </thead>\n",
       "  <tbody>\n",
       "    <tr>\n",
       "      <th>0</th>\n",
       "      <td>bacati</td>\n",
       "      <td>baca</td>\n",
       "      <td>imp</td>\n",
       "      <td>imp</td>\n",
       "      <td>set-s2762</td>\n",
       "      <td>Otpad iz šest priobalnih zemalja, kao i država...</td>\n",
       "    </tr>\n",
       "    <tr>\n",
       "      <th>1</th>\n",
       "      <td>bacati</td>\n",
       "      <td>bacaju</td>\n",
       "      <td>imp</td>\n",
       "      <td>imp</td>\n",
       "      <td>set-s693</td>\n",
       "      <td>Kosovski Srbi bacaju kamenje na vojnike KFOR-a...</td>\n",
       "    </tr>\n",
       "    <tr>\n",
       "      <th>2</th>\n",
       "      <td>bacati</td>\n",
       "      <td>bacaju</td>\n",
       "      <td>imp</td>\n",
       "      <td>imp</td>\n",
       "      <td>set-s2765</td>\n",
       "      <td>\"Umesto da bacaju mulj 25-30 km prema pučini, ...</td>\n",
       "    </tr>\n",
       "    <tr>\n",
       "      <th>3</th>\n",
       "      <td>bacati</td>\n",
       "      <td>bacaju</td>\n",
       "      <td>imp</td>\n",
       "      <td>imp</td>\n",
       "      <td>set-s3624</td>\n",
       "      <td>Blokirani razgovori sa MMF bacaju senku na nek...</td>\n",
       "    </tr>\n",
       "    <tr>\n",
       "      <th>4</th>\n",
       "      <td>bacati</td>\n",
       "      <td>bacala</td>\n",
       "      <td>imp</td>\n",
       "      <td>imp</td>\n",
       "      <td>set-s2360</td>\n",
       "      <td>Prve večeri, publika je bacala flaše na bosans...</td>\n",
       "    </tr>\n",
       "    <tr>\n",
       "      <th>...</th>\n",
       "      <td>...</td>\n",
       "      <td>...</td>\n",
       "      <td>...</td>\n",
       "      <td>...</td>\n",
       "      <td>...</td>\n",
       "      <td>...</td>\n",
       "    </tr>\n",
       "    <tr>\n",
       "      <th>4954</th>\n",
       "      <td>živeti</td>\n",
       "      <td>živimo</td>\n",
       "      <td>imp</td>\n",
       "      <td>imp</td>\n",
       "      <td>set-s1415</td>\n",
       "      <td>Ne možemo više da živimo sa njima\".</td>\n",
       "    </tr>\n",
       "    <tr>\n",
       "      <th>4955</th>\n",
       "      <td>živeti</td>\n",
       "      <td>živimo</td>\n",
       "      <td>imp</td>\n",
       "      <td>imp</td>\n",
       "      <td>set-s3726</td>\n",
       "      <td>Stranke uvek obećavaju i svaki put nas iznever...</td>\n",
       "    </tr>\n",
       "    <tr>\n",
       "      <th>4956</th>\n",
       "      <td>živeti</td>\n",
       "      <td>živimo</td>\n",
       "      <td>imp</td>\n",
       "      <td>imp</td>\n",
       "      <td>news-s165</td>\n",
       "      <td>Revolucije u tehnologiji doprinele su da potpu...</td>\n",
       "    </tr>\n",
       "    <tr>\n",
       "      <th>4957</th>\n",
       "      <td>živeti</td>\n",
       "      <td>živimo</td>\n",
       "      <td>imp</td>\n",
       "      <td>imp</td>\n",
       "      <td>news-s192</td>\n",
       "      <td>Postavlja se nezaobilazno pitanje, kako se izv...</td>\n",
       "    </tr>\n",
       "    <tr>\n",
       "      <th>4958</th>\n",
       "      <td>živeti</td>\n",
       "      <td>živimo</td>\n",
       "      <td>imp</td>\n",
       "      <td>imp</td>\n",
       "      <td>news-s232</td>\n",
       "      <td>Naime, u ovoj vrsti romana ne odgoneta se samo...</td>\n",
       "    </tr>\n",
       "  </tbody>\n",
       "</table>\n",
       "<p>4959 rows × 6 columns</p>\n",
       "</div>"
      ],
      "text/plain": [
       "       lemma    word aspect disambig      db_id  \\\n",
       "0     bacati    baca    imp      imp  set-s2762   \n",
       "1     bacati  bacaju    imp      imp   set-s693   \n",
       "2     bacati  bacaju    imp      imp  set-s2765   \n",
       "3     bacati  bacaju    imp      imp  set-s3624   \n",
       "4     bacati  bacala    imp      imp  set-s2360   \n",
       "...      ...     ...    ...      ...        ...   \n",
       "4954  živeti  živimo    imp      imp  set-s1415   \n",
       "4955  živeti  živimo    imp      imp  set-s3726   \n",
       "4956  živeti  živimo    imp      imp  news-s165   \n",
       "4957  živeti  živimo    imp      imp  news-s192   \n",
       "4958  živeti  živimo    imp      imp  news-s232   \n",
       "\n",
       "                                                   text  \n",
       "0     Otpad iz šest priobalnih zemalja, kao i država...  \n",
       "1     Kosovski Srbi bacaju kamenje na vojnike KFOR-a...  \n",
       "2     \"Umesto da bacaju mulj 25-30 km prema pučini, ...  \n",
       "3     Blokirani razgovori sa MMF bacaju senku na nek...  \n",
       "4     Prve večeri, publika je bacala flaše na bosans...  \n",
       "...                                                 ...  \n",
       "4954                Ne možemo više da živimo sa njima\".  \n",
       "4955  Stranke uvek obećavaju i svaki put nas iznever...  \n",
       "4956  Revolucije u tehnologiji doprinele su da potpu...  \n",
       "4957  Postavlja se nezaobilazno pitanje, kako se izv...  \n",
       "4958  Naime, u ovoj vrsti romana ne odgoneta se samo...  \n",
       "\n",
       "[4959 rows x 6 columns]"
      ]
     },
     "execution_count": 77,
     "metadata": {},
     "output_type": "execute_result"
    }
   ],
   "source": [
    "df_for_analysis = df[[\"lemma\", \"word\", \"aspect\", \"disambig\", \"db_id\"]]\n",
    "df_for_analysis[\"text\"] = df[\"db_id\"].apply(lambda elem: CONLLU_DB[elem][\"text\"])\n",
    "df_for_analysis"
   ]
  },
  {
   "cell_type": "markdown",
   "metadata": {},
   "source": [
    "#### Добавим всю глагольную грамматику"
   ]
  },
  {
   "cell_type": "code",
   "execution_count": null,
   "metadata": {},
   "outputs": [
    {
     "data": {
      "text/plain": [
       "['Gender', 'Mood', 'Number', 'POS', 'Person', 'Tense', 'VerbForm', 'Voice']"
      ]
     },
     "execution_count": 82,
     "metadata": {},
     "output_type": "execute_result"
    }
   ],
   "source": [
    "tags = set()\n",
    "\n",
    "for _, row in df.iterrows():\n",
    "    node = get_verb_node(\n",
    "        row[\"word\"],\n",
    "        CONLLU_DB[row[\"db_id\"]]\n",
    "    )\n",
    "\n",
    "    tags.update(\n",
    "        get_all_grammar(\n",
    "            node\n",
    "        )\n",
    "    )\n",
    "tags = sorted(tags)\n",
    "tags"
   ]
  },
  {
   "cell_type": "code",
   "execution_count": null,
   "metadata": {},
   "outputs": [
    {
     "data": {
      "text/html": [
       "<div>\n",
       "<style scoped>\n",
       "    .dataframe tbody tr th:only-of-type {\n",
       "        vertical-align: middle;\n",
       "    }\n",
       "\n",
       "    .dataframe tbody tr th {\n",
       "        vertical-align: top;\n",
       "    }\n",
       "\n",
       "    .dataframe thead th {\n",
       "        text-align: right;\n",
       "    }\n",
       "</style>\n",
       "<table border=\"1\" class=\"dataframe\">\n",
       "  <thead>\n",
       "    <tr style=\"text-align: right;\">\n",
       "      <th></th>\n",
       "      <th>lemma</th>\n",
       "      <th>word</th>\n",
       "      <th>aspect</th>\n",
       "      <th>disambig</th>\n",
       "      <th>db_id</th>\n",
       "      <th>text</th>\n",
       "      <th>Gender</th>\n",
       "      <th>Mood</th>\n",
       "      <th>Number</th>\n",
       "      <th>POS</th>\n",
       "      <th>Person</th>\n",
       "      <th>Tense</th>\n",
       "      <th>VerbForm</th>\n",
       "      <th>Voice</th>\n",
       "    </tr>\n",
       "  </thead>\n",
       "  <tbody>\n",
       "    <tr>\n",
       "      <th>0</th>\n",
       "      <td>bacati</td>\n",
       "      <td>baca</td>\n",
       "      <td>imp</td>\n",
       "      <td>imp</td>\n",
       "      <td>set-s2762</td>\n",
       "      <td>Otpad iz šest priobalnih zemalja, kao i država...</td>\n",
       "      <td>None</td>\n",
       "      <td>Ind</td>\n",
       "      <td>Sing</td>\n",
       "      <td>VERB</td>\n",
       "      <td>3</td>\n",
       "      <td>Pres</td>\n",
       "      <td>Fin</td>\n",
       "      <td>None</td>\n",
       "    </tr>\n",
       "    <tr>\n",
       "      <th>1</th>\n",
       "      <td>bacati</td>\n",
       "      <td>bacaju</td>\n",
       "      <td>imp</td>\n",
       "      <td>imp</td>\n",
       "      <td>set-s693</td>\n",
       "      <td>Kosovski Srbi bacaju kamenje na vojnike KFOR-a...</td>\n",
       "      <td>None</td>\n",
       "      <td>Ind</td>\n",
       "      <td>Plur</td>\n",
       "      <td>VERB</td>\n",
       "      <td>3</td>\n",
       "      <td>Pres</td>\n",
       "      <td>Fin</td>\n",
       "      <td>None</td>\n",
       "    </tr>\n",
       "    <tr>\n",
       "      <th>2</th>\n",
       "      <td>bacati</td>\n",
       "      <td>bacaju</td>\n",
       "      <td>imp</td>\n",
       "      <td>imp</td>\n",
       "      <td>set-s2765</td>\n",
       "      <td>\"Umesto da bacaju mulj 25-30 km prema pučini, ...</td>\n",
       "      <td>None</td>\n",
       "      <td>Ind</td>\n",
       "      <td>Plur</td>\n",
       "      <td>VERB</td>\n",
       "      <td>3</td>\n",
       "      <td>Pres</td>\n",
       "      <td>Fin</td>\n",
       "      <td>None</td>\n",
       "    </tr>\n",
       "    <tr>\n",
       "      <th>3</th>\n",
       "      <td>bacati</td>\n",
       "      <td>bacaju</td>\n",
       "      <td>imp</td>\n",
       "      <td>imp</td>\n",
       "      <td>set-s3624</td>\n",
       "      <td>Blokirani razgovori sa MMF bacaju senku na nek...</td>\n",
       "      <td>None</td>\n",
       "      <td>Ind</td>\n",
       "      <td>Plur</td>\n",
       "      <td>VERB</td>\n",
       "      <td>3</td>\n",
       "      <td>Pres</td>\n",
       "      <td>Fin</td>\n",
       "      <td>None</td>\n",
       "    </tr>\n",
       "    <tr>\n",
       "      <th>4</th>\n",
       "      <td>bacati</td>\n",
       "      <td>bacala</td>\n",
       "      <td>imp</td>\n",
       "      <td>imp</td>\n",
       "      <td>set-s2360</td>\n",
       "      <td>Prve večeri, publika je bacala flaše na bosans...</td>\n",
       "      <td>Fem</td>\n",
       "      <td>None</td>\n",
       "      <td>Sing</td>\n",
       "      <td>VERB</td>\n",
       "      <td>None</td>\n",
       "      <td>Past</td>\n",
       "      <td>Part</td>\n",
       "      <td>Act</td>\n",
       "    </tr>\n",
       "  </tbody>\n",
       "</table>\n",
       "</div>"
      ],
      "text/plain": [
       "    lemma    word aspect disambig      db_id  \\\n",
       "0  bacati    baca    imp      imp  set-s2762   \n",
       "1  bacati  bacaju    imp      imp   set-s693   \n",
       "2  bacati  bacaju    imp      imp  set-s2765   \n",
       "3  bacati  bacaju    imp      imp  set-s3624   \n",
       "4  bacati  bacala    imp      imp  set-s2360   \n",
       "\n",
       "                                                text Gender  Mood Number  \\\n",
       "0  Otpad iz šest priobalnih zemalja, kao i država...   None   Ind   Sing   \n",
       "1  Kosovski Srbi bacaju kamenje na vojnike KFOR-a...   None   Ind   Plur   \n",
       "2  \"Umesto da bacaju mulj 25-30 km prema pučini, ...   None   Ind   Plur   \n",
       "3  Blokirani razgovori sa MMF bacaju senku na nek...   None   Ind   Plur   \n",
       "4  Prve večeri, publika je bacala flaše na bosans...    Fem  None   Sing   \n",
       "\n",
       "    POS Person Tense VerbForm Voice  \n",
       "0  VERB      3  Pres      Fin  None  \n",
       "1  VERB      3  Pres      Fin  None  \n",
       "2  VERB      3  Pres      Fin  None  \n",
       "3  VERB      3  Pres      Fin  None  \n",
       "4  VERB   None  Past     Part   Act  "
      ]
     },
     "execution_count": 84,
     "metadata": {},
     "output_type": "execute_result"
    }
   ],
   "source": [
    "for tag in tags:\n",
    "    df_for_analysis[tag] = None\n",
    "\n",
    "for i, row in df_for_analysis.copy().iterrows():\n",
    "    node = get_verb_node(row[\"word\"], CONLLU_DB[row[\"db_id\"]])\n",
    "    grammar = get_all_grammar(node)\n",
    "\n",
    "    for tag in tags:\n",
    "        val = grammar.get(tag, None)\n",
    "        df_for_analysis.loc[i, tag] = val\n",
    "        row[tag] = val\n",
    "\n",
    "df_for_analysis.head()"
   ]
  },
  {
   "cell_type": "markdown",
   "metadata": {},
   "source": [
    "#### Добавим окна по 3 токена с каждой стороны"
   ]
  },
  {
   "cell_type": "code",
   "execution_count": 86,
   "metadata": {},
   "outputs": [],
   "source": [
    "from nltk import RegexpTokenizer"
   ]
  },
  {
   "cell_type": "code",
   "execution_count": 87,
   "metadata": {},
   "outputs": [],
   "source": [
    "tokenizer = RegexpTokenizer(r\"\\w+\")"
   ]
  },
  {
   "cell_type": "code",
   "execution_count": 113,
   "metadata": {},
   "outputs": [],
   "source": [
    "def get_window(text, target, tokenizer, len_=4):\n",
    "    left = len_ // 2\n",
    "    right = len_ // 2\n",
    "\n",
    "    tokens:list[str] = tokenizer.tokenize(text)\n",
    "    target_id = tokens.index(target)\n",
    "\n",
    "    left_id = max(target_id-left, 0)\n",
    "    left_part =  tokens[left_id:target_id]\n",
    "\n",
    "    right_id = min(target_id+right+1, len(tokens))\n",
    "    right_part = tokens[target_id+1:right_id]\n",
    "\n",
    "    while len(left_part) < left:\n",
    "        left_part = [\"[PAD]\"] + left_part\n",
    "\n",
    "    while len(right_part) < right:\n",
    "        right_part = right_part + [\"[PAD]\"]\n",
    "\n",
    "    return left_part + right_part\n"
   ]
  },
  {
   "cell_type": "code",
   "execution_count": 114,
   "metadata": {},
   "outputs": [
    {
     "data": {
      "text/plain": [
       "'Otpad iz šest priobalnih zemalja, kao i država u njegovom slivu, ulazi u more uglavnom preko reka, a ponekad se jednostavno baca u vodu.'"
      ]
     },
     "execution_count": 114,
     "metadata": {},
     "output_type": "execute_result"
    }
   ],
   "source": [
    "df_for_analysis.iloc[0][\"text\"]"
   ]
  },
  {
   "cell_type": "code",
   "execution_count": 115,
   "metadata": {},
   "outputs": [
    {
     "data": {
      "text/plain": [
       "['ponekad', 'se', 'jednostavno', 'u', 'vodu', '[PAD]']"
      ]
     },
     "execution_count": 115,
     "metadata": {},
     "output_type": "execute_result"
    }
   ],
   "source": [
    "get_window(df_for_analysis.iloc[0][\"text\"], df_for_analysis.iloc[0][\"word\"], tokenizer, 6)"
   ]
  },
  {
   "cell_type": "code",
   "execution_count": 116,
   "metadata": {},
   "outputs": [
    {
     "data": {
      "text/plain": [
       "['[PAD]', '[PAD]', 'Otpad', 'šest', 'priobalnih', 'zemalja']"
      ]
     },
     "execution_count": 116,
     "metadata": {},
     "output_type": "execute_result"
    }
   ],
   "source": [
    "get_window(df_for_analysis.iloc[0][\"text\"], \"iz\", tokenizer, 6)"
   ]
  },
  {
   "cell_type": "code",
   "execution_count": 117,
   "metadata": {},
   "outputs": [
    {
     "data": {
      "text/html": [
       "<div>\n",
       "<style scoped>\n",
       "    .dataframe tbody tr th:only-of-type {\n",
       "        vertical-align: middle;\n",
       "    }\n",
       "\n",
       "    .dataframe tbody tr th {\n",
       "        vertical-align: top;\n",
       "    }\n",
       "\n",
       "    .dataframe thead th {\n",
       "        text-align: right;\n",
       "    }\n",
       "</style>\n",
       "<table border=\"1\" class=\"dataframe\">\n",
       "  <thead>\n",
       "    <tr style=\"text-align: right;\">\n",
       "      <th></th>\n",
       "      <th>lemma</th>\n",
       "      <th>word</th>\n",
       "      <th>aspect</th>\n",
       "      <th>disambig</th>\n",
       "      <th>db_id</th>\n",
       "      <th>text</th>\n",
       "      <th>Gender</th>\n",
       "      <th>Mood</th>\n",
       "      <th>Number</th>\n",
       "      <th>POS</th>\n",
       "      <th>Person</th>\n",
       "      <th>Tense</th>\n",
       "      <th>VerbForm</th>\n",
       "      <th>Voice</th>\n",
       "      <th>l_tok_3</th>\n",
       "      <th>l_tok_2</th>\n",
       "      <th>l_tok_1</th>\n",
       "      <th>r_tok_1</th>\n",
       "      <th>r_tok_2</th>\n",
       "      <th>r_tok_3</th>\n",
       "    </tr>\n",
       "  </thead>\n",
       "  <tbody>\n",
       "    <tr>\n",
       "      <th>0</th>\n",
       "      <td>bacati</td>\n",
       "      <td>baca</td>\n",
       "      <td>imp</td>\n",
       "      <td>imp</td>\n",
       "      <td>set-s2762</td>\n",
       "      <td>Otpad iz šest priobalnih zemalja, kao i država...</td>\n",
       "      <td>None</td>\n",
       "      <td>Ind</td>\n",
       "      <td>Sing</td>\n",
       "      <td>VERB</td>\n",
       "      <td>3</td>\n",
       "      <td>Pres</td>\n",
       "      <td>Fin</td>\n",
       "      <td>None</td>\n",
       "      <td>ponekad</td>\n",
       "      <td>se</td>\n",
       "      <td>jednostavno</td>\n",
       "      <td>u</td>\n",
       "      <td>vodu</td>\n",
       "      <td>[PAD]</td>\n",
       "    </tr>\n",
       "    <tr>\n",
       "      <th>1</th>\n",
       "      <td>bacati</td>\n",
       "      <td>bacaju</td>\n",
       "      <td>imp</td>\n",
       "      <td>imp</td>\n",
       "      <td>set-s693</td>\n",
       "      <td>Kosovski Srbi bacaju kamenje na vojnike KFOR-a...</td>\n",
       "      <td>None</td>\n",
       "      <td>Ind</td>\n",
       "      <td>Plur</td>\n",
       "      <td>VERB</td>\n",
       "      <td>3</td>\n",
       "      <td>Pres</td>\n",
       "      <td>Fin</td>\n",
       "      <td>None</td>\n",
       "      <td>[PAD]</td>\n",
       "      <td>Kosovski</td>\n",
       "      <td>Srbi</td>\n",
       "      <td>kamenje</td>\n",
       "      <td>na</td>\n",
       "      <td>vojnike</td>\n",
       "    </tr>\n",
       "    <tr>\n",
       "      <th>2</th>\n",
       "      <td>bacati</td>\n",
       "      <td>bacaju</td>\n",
       "      <td>imp</td>\n",
       "      <td>imp</td>\n",
       "      <td>set-s2765</td>\n",
       "      <td>\"Umesto da bacaju mulj 25-30 km prema pučini, ...</td>\n",
       "      <td>None</td>\n",
       "      <td>Ind</td>\n",
       "      <td>Plur</td>\n",
       "      <td>VERB</td>\n",
       "      <td>3</td>\n",
       "      <td>Pres</td>\n",
       "      <td>Fin</td>\n",
       "      <td>None</td>\n",
       "      <td>[PAD]</td>\n",
       "      <td>Umesto</td>\n",
       "      <td>da</td>\n",
       "      <td>mulj</td>\n",
       "      <td>25</td>\n",
       "      <td>30</td>\n",
       "    </tr>\n",
       "    <tr>\n",
       "      <th>3</th>\n",
       "      <td>bacati</td>\n",
       "      <td>bacaju</td>\n",
       "      <td>imp</td>\n",
       "      <td>imp</td>\n",
       "      <td>set-s3624</td>\n",
       "      <td>Blokirani razgovori sa MMF bacaju senku na nek...</td>\n",
       "      <td>None</td>\n",
       "      <td>Ind</td>\n",
       "      <td>Plur</td>\n",
       "      <td>VERB</td>\n",
       "      <td>3</td>\n",
       "      <td>Pres</td>\n",
       "      <td>Fin</td>\n",
       "      <td>None</td>\n",
       "      <td>razgovori</td>\n",
       "      <td>sa</td>\n",
       "      <td>MMF</td>\n",
       "      <td>senku</td>\n",
       "      <td>na</td>\n",
       "      <td>nekada</td>\n",
       "    </tr>\n",
       "    <tr>\n",
       "      <th>4</th>\n",
       "      <td>bacati</td>\n",
       "      <td>bacala</td>\n",
       "      <td>imp</td>\n",
       "      <td>imp</td>\n",
       "      <td>set-s2360</td>\n",
       "      <td>Prve večeri, publika je bacala flaše na bosans...</td>\n",
       "      <td>Fem</td>\n",
       "      <td>None</td>\n",
       "      <td>Sing</td>\n",
       "      <td>VERB</td>\n",
       "      <td>None</td>\n",
       "      <td>Past</td>\n",
       "      <td>Part</td>\n",
       "      <td>Act</td>\n",
       "      <td>večeri</td>\n",
       "      <td>publika</td>\n",
       "      <td>je</td>\n",
       "      <td>flaše</td>\n",
       "      <td>na</td>\n",
       "      <td>bosanski</td>\n",
       "    </tr>\n",
       "  </tbody>\n",
       "</table>\n",
       "</div>"
      ],
      "text/plain": [
       "    lemma    word aspect disambig      db_id  \\\n",
       "0  bacati    baca    imp      imp  set-s2762   \n",
       "1  bacati  bacaju    imp      imp   set-s693   \n",
       "2  bacati  bacaju    imp      imp  set-s2765   \n",
       "3  bacati  bacaju    imp      imp  set-s3624   \n",
       "4  bacati  bacala    imp      imp  set-s2360   \n",
       "\n",
       "                                                text Gender  Mood Number  \\\n",
       "0  Otpad iz šest priobalnih zemalja, kao i država...   None   Ind   Sing   \n",
       "1  Kosovski Srbi bacaju kamenje na vojnike KFOR-a...   None   Ind   Plur   \n",
       "2  \"Umesto da bacaju mulj 25-30 km prema pučini, ...   None   Ind   Plur   \n",
       "3  Blokirani razgovori sa MMF bacaju senku na nek...   None   Ind   Plur   \n",
       "4  Prve večeri, publika je bacala flaše na bosans...    Fem  None   Sing   \n",
       "\n",
       "    POS Person Tense VerbForm Voice    l_tok_3   l_tok_2      l_tok_1  \\\n",
       "0  VERB      3  Pres      Fin  None    ponekad        se  jednostavno   \n",
       "1  VERB      3  Pres      Fin  None      [PAD]  Kosovski         Srbi   \n",
       "2  VERB      3  Pres      Fin  None      [PAD]    Umesto           da   \n",
       "3  VERB      3  Pres      Fin  None  razgovori        sa          MMF   \n",
       "4  VERB   None  Past     Part   Act     večeri   publika           je   \n",
       "\n",
       "   r_tok_1 r_tok_2   r_tok_3  \n",
       "0        u    vodu     [PAD]  \n",
       "1  kamenje      na   vojnike  \n",
       "2     mulj      25        30  \n",
       "3    senku      na    nekada  \n",
       "4    flaše      na  bosanski  "
      ]
     },
     "execution_count": 117,
     "metadata": {},
     "output_type": "execute_result"
    }
   ],
   "source": [
    "col_names = [\"l_tok_3\", \"l_tok_2\", \"l_tok_1\", \"r_tok_1\", \"r_tok_2\", \"r_tok_3\"]\n",
    "\n",
    "for name in col_names:\n",
    "    df_for_analysis[name] = None\n",
    "\n",
    "for i, row in df_for_analysis.copy().iterrows():\n",
    "\n",
    "    window = get_window(row[\"text\"], row[\"word\"], tokenizer, 6)\n",
    "    for j, name in enumerate(col_names):\n",
    "        df_for_analysis.loc[i, name] = window[j]\n",
    "\n",
    "df_for_analysis.head()"
   ]
  },
  {
   "cell_type": "markdown",
   "metadata": {},
   "source": [
    "#### Добавим графемы по 3 с каждой стороны"
   ]
  },
  {
   "cell_type": "code",
   "execution_count": 126,
   "metadata": {},
   "outputs": [],
   "source": [
    "def get_graphemes(word: str, num=3) -> list[str]:\n",
    "\n",
    "    left_side = []\n",
    "    right_side = []\n",
    "    for i in range(min(num, len(word))):\n",
    "        left_side.append(word[i])\n",
    "        right_side.append(word[::-1][i])\n",
    "\n",
    "    while len(left_side) != num:\n",
    "        left_side = left_side + [\"[PAD]\"]\n",
    "        right_side = right_side+ [\"[PAD]\"]\n",
    "\n",
    "    return left_side + right_side"
   ]
  },
  {
   "cell_type": "code",
   "execution_count": 127,
   "metadata": {},
   "outputs": [
    {
     "data": {
      "text/plain": [
       "['a', 'b', 'c', 'e', 'd', 'c']"
      ]
     },
     "execution_count": 127,
     "metadata": {},
     "output_type": "execute_result"
    }
   ],
   "source": [
    "get_graphemes(\"abcde\")"
   ]
  },
  {
   "cell_type": "code",
   "execution_count": 128,
   "metadata": {},
   "outputs": [
    {
     "data": {
      "text/plain": [
       "['a', 'b', 'c', 'c', 'b', 'a']"
      ]
     },
     "execution_count": 128,
     "metadata": {},
     "output_type": "execute_result"
    }
   ],
   "source": [
    "get_graphemes(\"abc\")"
   ]
  },
  {
   "cell_type": "code",
   "execution_count": 129,
   "metadata": {},
   "outputs": [
    {
     "data": {
      "text/plain": [
       "['a', 'b', '[PAD]', 'b', 'a', '[PAD]']"
      ]
     },
     "execution_count": 129,
     "metadata": {},
     "output_type": "execute_result"
    }
   ],
   "source": [
    "get_graphemes(\"ab\")"
   ]
  },
  {
   "cell_type": "code",
   "execution_count": 130,
   "metadata": {},
   "outputs": [
    {
     "data": {
      "text/html": [
       "<div>\n",
       "<style scoped>\n",
       "    .dataframe tbody tr th:only-of-type {\n",
       "        vertical-align: middle;\n",
       "    }\n",
       "\n",
       "    .dataframe tbody tr th {\n",
       "        vertical-align: top;\n",
       "    }\n",
       "\n",
       "    .dataframe thead th {\n",
       "        text-align: right;\n",
       "    }\n",
       "</style>\n",
       "<table border=\"1\" class=\"dataframe\">\n",
       "  <thead>\n",
       "    <tr style=\"text-align: right;\">\n",
       "      <th></th>\n",
       "      <th>lemma</th>\n",
       "      <th>word</th>\n",
       "      <th>aspect</th>\n",
       "      <th>disambig</th>\n",
       "      <th>db_id</th>\n",
       "      <th>text</th>\n",
       "      <th>Gender</th>\n",
       "      <th>Mood</th>\n",
       "      <th>Number</th>\n",
       "      <th>POS</th>\n",
       "      <th>...</th>\n",
       "      <th>l_tok_1</th>\n",
       "      <th>r_tok_1</th>\n",
       "      <th>r_tok_2</th>\n",
       "      <th>r_tok_3</th>\n",
       "      <th>l_gr_1</th>\n",
       "      <th>l_gr_2</th>\n",
       "      <th>l_gr_3</th>\n",
       "      <th>r_gr_1</th>\n",
       "      <th>r_gr_2</th>\n",
       "      <th>r_gr_3</th>\n",
       "    </tr>\n",
       "  </thead>\n",
       "  <tbody>\n",
       "    <tr>\n",
       "      <th>0</th>\n",
       "      <td>bacati</td>\n",
       "      <td>baca</td>\n",
       "      <td>imp</td>\n",
       "      <td>imp</td>\n",
       "      <td>set-s2762</td>\n",
       "      <td>Otpad iz šest priobalnih zemalja, kao i država...</td>\n",
       "      <td>None</td>\n",
       "      <td>Ind</td>\n",
       "      <td>Sing</td>\n",
       "      <td>VERB</td>\n",
       "      <td>...</td>\n",
       "      <td>jednostavno</td>\n",
       "      <td>u</td>\n",
       "      <td>vodu</td>\n",
       "      <td>[PAD]</td>\n",
       "      <td>b</td>\n",
       "      <td>a</td>\n",
       "      <td>c</td>\n",
       "      <td>a</td>\n",
       "      <td>c</td>\n",
       "      <td>a</td>\n",
       "    </tr>\n",
       "    <tr>\n",
       "      <th>1</th>\n",
       "      <td>bacati</td>\n",
       "      <td>bacaju</td>\n",
       "      <td>imp</td>\n",
       "      <td>imp</td>\n",
       "      <td>set-s693</td>\n",
       "      <td>Kosovski Srbi bacaju kamenje na vojnike KFOR-a...</td>\n",
       "      <td>None</td>\n",
       "      <td>Ind</td>\n",
       "      <td>Plur</td>\n",
       "      <td>VERB</td>\n",
       "      <td>...</td>\n",
       "      <td>Srbi</td>\n",
       "      <td>kamenje</td>\n",
       "      <td>na</td>\n",
       "      <td>vojnike</td>\n",
       "      <td>b</td>\n",
       "      <td>a</td>\n",
       "      <td>c</td>\n",
       "      <td>u</td>\n",
       "      <td>j</td>\n",
       "      <td>a</td>\n",
       "    </tr>\n",
       "    <tr>\n",
       "      <th>2</th>\n",
       "      <td>bacati</td>\n",
       "      <td>bacaju</td>\n",
       "      <td>imp</td>\n",
       "      <td>imp</td>\n",
       "      <td>set-s2765</td>\n",
       "      <td>\"Umesto da bacaju mulj 25-30 km prema pučini, ...</td>\n",
       "      <td>None</td>\n",
       "      <td>Ind</td>\n",
       "      <td>Plur</td>\n",
       "      <td>VERB</td>\n",
       "      <td>...</td>\n",
       "      <td>da</td>\n",
       "      <td>mulj</td>\n",
       "      <td>25</td>\n",
       "      <td>30</td>\n",
       "      <td>b</td>\n",
       "      <td>a</td>\n",
       "      <td>c</td>\n",
       "      <td>u</td>\n",
       "      <td>j</td>\n",
       "      <td>a</td>\n",
       "    </tr>\n",
       "    <tr>\n",
       "      <th>3</th>\n",
       "      <td>bacati</td>\n",
       "      <td>bacaju</td>\n",
       "      <td>imp</td>\n",
       "      <td>imp</td>\n",
       "      <td>set-s3624</td>\n",
       "      <td>Blokirani razgovori sa MMF bacaju senku na nek...</td>\n",
       "      <td>None</td>\n",
       "      <td>Ind</td>\n",
       "      <td>Plur</td>\n",
       "      <td>VERB</td>\n",
       "      <td>...</td>\n",
       "      <td>MMF</td>\n",
       "      <td>senku</td>\n",
       "      <td>na</td>\n",
       "      <td>nekada</td>\n",
       "      <td>b</td>\n",
       "      <td>a</td>\n",
       "      <td>c</td>\n",
       "      <td>u</td>\n",
       "      <td>j</td>\n",
       "      <td>a</td>\n",
       "    </tr>\n",
       "    <tr>\n",
       "      <th>4</th>\n",
       "      <td>bacati</td>\n",
       "      <td>bacala</td>\n",
       "      <td>imp</td>\n",
       "      <td>imp</td>\n",
       "      <td>set-s2360</td>\n",
       "      <td>Prve večeri, publika je bacala flaše na bosans...</td>\n",
       "      <td>Fem</td>\n",
       "      <td>None</td>\n",
       "      <td>Sing</td>\n",
       "      <td>VERB</td>\n",
       "      <td>...</td>\n",
       "      <td>je</td>\n",
       "      <td>flaše</td>\n",
       "      <td>na</td>\n",
       "      <td>bosanski</td>\n",
       "      <td>b</td>\n",
       "      <td>a</td>\n",
       "      <td>c</td>\n",
       "      <td>a</td>\n",
       "      <td>l</td>\n",
       "      <td>a</td>\n",
       "    </tr>\n",
       "  </tbody>\n",
       "</table>\n",
       "<p>5 rows × 26 columns</p>\n",
       "</div>"
      ],
      "text/plain": [
       "    lemma    word aspect disambig      db_id  \\\n",
       "0  bacati    baca    imp      imp  set-s2762   \n",
       "1  bacati  bacaju    imp      imp   set-s693   \n",
       "2  bacati  bacaju    imp      imp  set-s2765   \n",
       "3  bacati  bacaju    imp      imp  set-s3624   \n",
       "4  bacati  bacala    imp      imp  set-s2360   \n",
       "\n",
       "                                                text Gender  Mood Number  \\\n",
       "0  Otpad iz šest priobalnih zemalja, kao i država...   None   Ind   Sing   \n",
       "1  Kosovski Srbi bacaju kamenje na vojnike KFOR-a...   None   Ind   Plur   \n",
       "2  \"Umesto da bacaju mulj 25-30 km prema pučini, ...   None   Ind   Plur   \n",
       "3  Blokirani razgovori sa MMF bacaju senku na nek...   None   Ind   Plur   \n",
       "4  Prve večeri, publika je bacala flaše na bosans...    Fem  None   Sing   \n",
       "\n",
       "    POS  ...      l_tok_1  r_tok_1 r_tok_2   r_tok_3 l_gr_1 l_gr_2 l_gr_3  \\\n",
       "0  VERB  ...  jednostavno        u    vodu     [PAD]      b      a      c   \n",
       "1  VERB  ...         Srbi  kamenje      na   vojnike      b      a      c   \n",
       "2  VERB  ...           da     mulj      25        30      b      a      c   \n",
       "3  VERB  ...          MMF    senku      na    nekada      b      a      c   \n",
       "4  VERB  ...           je    flaše      na  bosanski      b      a      c   \n",
       "\n",
       "  r_gr_1 r_gr_2 r_gr_3  \n",
       "0      a      c      a  \n",
       "1      u      j      a  \n",
       "2      u      j      a  \n",
       "3      u      j      a  \n",
       "4      a      l      a  \n",
       "\n",
       "[5 rows x 26 columns]"
      ]
     },
     "execution_count": 130,
     "metadata": {},
     "output_type": "execute_result"
    }
   ],
   "source": [
    "col_names = [\"l_gr_1\", \"l_gr_2\", \"l_gr_3\", \"r_gr_1\", \"r_gr_2\", \"r_gr_3\"]\n",
    "\n",
    "for name in col_names:\n",
    "    df_for_analysis[name] = None\n",
    "\n",
    "for i, row in df_for_analysis.copy().iterrows():\n",
    "\n",
    "    graphemes = get_graphemes(row[\"word\"].lower())\n",
    "    for j, name in enumerate(col_names):\n",
    "        df_for_analysis.loc[i, name] = graphemes[j]\n",
    "\n",
    "df_for_analysis.head()"
   ]
  },
  {
   "cell_type": "code",
   "execution_count": null,
   "metadata": {},
   "outputs": [],
   "source": []
  },
  {
   "cell_type": "code",
   "execution_count": null,
   "metadata": {},
   "outputs": [],
   "source": []
  },
  {
   "cell_type": "code",
   "execution_count": null,
   "metadata": {},
   "outputs": [],
   "source": [
    "\n",
    "\n",
    "    "
   ]
  },
  {
   "cell_type": "code",
   "execution_count": null,
   "metadata": {},
   "outputs": [
    {
     "data": {
      "text/plain": [
       "'Otpad iz šest priobalnih zemalja, kao i država u njegovom slivu, ulazi u more uglavnom preko reka, a ponekad se jednostavno baca u vodu.'"
      ]
     },
     "execution_count": 72,
     "metadata": {},
     "output_type": "execute_result"
    }
   ],
   "source": []
  },
  {
   "cell_type": "code",
   "execution_count": null,
   "metadata": {},
   "outputs": [
    {
     "data": {
      "text/plain": [
       "['ponekad', 'se', 'jednostavno', 'u', 'vodu', None]"
      ]
     },
     "execution_count": 73,
     "metadata": {},
     "output_type": "execute_result"
    }
   ],
   "source": []
  },
  {
   "cell_type": "code",
   "execution_count": null,
   "metadata": {},
   "outputs": [],
   "source": []
  },
  {
   "cell_type": "code",
   "execution_count": null,
   "metadata": {},
   "outputs": [],
   "source": []
  },
  {
   "cell_type": "code",
   "execution_count": null,
   "metadata": {},
   "outputs": [],
   "source": []
  },
  {
   "cell_type": "code",
   "execution_count": null,
   "metadata": {},
   "outputs": [
    {
     "data": {
      "text/plain": [
       "[None, None, None, 'šest', 'priobalnih', 'zemalja']"
      ]
     },
     "execution_count": 74,
     "metadata": {},
     "output_type": "execute_result"
    }
   ],
   "source": []
  },
  {
   "cell_type": "code",
   "execution_count": null,
   "metadata": {},
   "outputs": [],
   "source": []
  },
  {
   "cell_type": "code",
   "execution_count": null,
   "metadata": {},
   "outputs": [
    {
     "data": {
      "text/plain": [
       "['Gender', 'Mood', 'Number', 'POS', 'Person', 'Tense', 'VerbForm', 'Voice']"
      ]
     },
     "execution_count": 32,
     "metadata": {},
     "output_type": "execute_result"
    }
   ],
   "source": []
  },
  {
   "cell_type": "code",
   "execution_count": null,
   "metadata": {},
   "outputs": [],
   "source": []
  },
  {
   "cell_type": "code",
   "execution_count": null,
   "metadata": {},
   "outputs": [],
   "source": []
  },
  {
   "cell_type": "code",
   "execution_count": null,
   "metadata": {},
   "outputs": [],
   "source": []
  },
  {
   "cell_type": "code",
   "execution_count": null,
   "metadata": {},
   "outputs": [],
   "source": []
  },
  {
   "cell_type": "code",
   "execution_count": 31,
   "metadata": {},
   "outputs": [],
   "source": [
    "generated_df = pd.DataFrame()"
   ]
  }
 ],
 "metadata": {
  "kernelspec": {
   "display_name": ".venv",
   "language": "python",
   "name": "python3"
  },
  "language_info": {
   "codemirror_mode": {
    "name": "ipython",
    "version": 3
   },
   "file_extension": ".py",
   "mimetype": "text/x-python",
   "name": "python",
   "nbconvert_exporter": "python",
   "pygments_lexer": "ipython3",
   "version": "3.10.12"
  }
 },
 "nbformat": 4,
 "nbformat_minor": 2
}
