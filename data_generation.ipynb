{
 "cells": [
  {
   "cell_type": "markdown",
   "metadata": {},
   "source": [
    "#### Загрузка conllu датасета"
   ]
  },
  {
   "cell_type": "code",
   "execution_count": 4,
   "metadata": {},
   "outputs": [],
   "source": [
    "from pathlib import Path\n",
    "import requests"
   ]
  },
  {
   "cell_type": "code",
   "execution_count": 5,
   "metadata": {},
   "outputs": [],
   "source": [
    "data_dir = Path.cwd() / \"data\"\n",
    "serb_train = data_dir / \"sr_set-ud-train.conllu\"\n",
    "\n",
    "if not data_dir.exists():\n",
    "    data_dir.mkdir()\n",
    "\n",
    "if not serb_train.exists():\n",
    "\n",
    "    url = r\"https://raw.githubusercontent.com/UniversalDependencies/UD_Serbian-SET/refs/heads/master/sr_set-ud-train.conllu\"\n",
    "\n",
    "    try:\n",
    "        response = requests.get(url, timeout=15)\n",
    "        response.raise_for_status()\n",
    "\n",
    "    except requests.exceptions.RequestException as e:\n",
    "        print(f\"Download failed: {e}\")\n",
    "\n",
    "    else:\n",
    "        with open(serb_train, \"w\", encoding=\"utf-8\") as file:\n",
    "            file.write(response.text)\n"
   ]
  },
  {
   "cell_type": "markdown",
   "metadata": {},
   "source": [
    "### Подготовка данных\n",
    "#### Парсинг conllu"
   ]
  },
  {
   "cell_type": "code",
   "execution_count": 8,
   "metadata": {},
   "outputs": [],
   "source": [
    "from nltk.parse import DependencyGraph\n",
    "import warnings\n",
    "warnings.filterwarnings('ignore')\n",
    "\n",
    "from tools.custom_types import ConlluDbRow"
   ]
  },
  {
   "cell_type": "code",
   "execution_count": 9,
   "metadata": {},
   "outputs": [],
   "source": [
    "with open(serb_train, \"r\", encoding=\"utf-8\") as file:\n",
    "    data = file.read()"
   ]
  },
  {
   "cell_type": "code",
   "execution_count": 10,
   "metadata": {},
   "outputs": [],
   "source": [
    "sents = [sent for sent in data.split(\"\\n\\n\") if sent.strip()]"
   ]
  },
  {
   "cell_type": "code",
   "execution_count": 11,
   "metadata": {},
   "outputs": [
    {
     "data": {
      "text/plain": [
       "3328"
      ]
     },
     "execution_count": 11,
     "metadata": {},
     "output_type": "execute_result"
    }
   ],
   "source": [
    "len(sents)"
   ]
  },
  {
   "cell_type": "code",
   "execution_count": 12,
   "metadata": {},
   "outputs": [],
   "source": [
    "marker = \"# sent_id = \"\n",
    "ids = [\n",
    "    \"\\n\".join(\n",
    "        filter(\n",
    "            lambda line: line.strip().startswith(marker),\n",
    "            sent.split(\"\\n\")\n",
    "        )\n",
    "    )[len(marker):]\n",
    "    for sent\n",
    "    in sents\n",
    "]"
   ]
  },
  {
   "cell_type": "code",
   "execution_count": 13,
   "metadata": {},
   "outputs": [],
   "source": [
    "marker = \"# text = \"\n",
    "raw_texts = [\n",
    "    \"\\n\".join(\n",
    "        filter(\n",
    "            lambda line: line.strip().startswith(marker),\n",
    "            sent.split(\"\\n\")\n",
    "        )\n",
    "    )[len(marker):]\n",
    "    for sent\n",
    "    in sents\n",
    "]"
   ]
  },
  {
   "cell_type": "code",
   "execution_count": 14,
   "metadata": {},
   "outputs": [],
   "source": [
    "sents = [\n",
    "    \"\\n\".join(\n",
    "        filter(\n",
    "            lambda line: line.strip()[0] != \"#\",\n",
    "            sent.split(\"\\n\")\n",
    "        )\n",
    "    )\n",
    "    for sent\n",
    "    in sents\n",
    "]\n"
   ]
  },
  {
   "cell_type": "code",
   "execution_count": 15,
   "metadata": {},
   "outputs": [],
   "source": [
    "trees = [\n",
    "    DependencyGraph(sent)\n",
    "    for sent\n",
    "    in sents\n",
    "]"
   ]
  },
  {
   "cell_type": "code",
   "execution_count": 16,
   "metadata": {},
   "outputs": [
    {
     "data": {
      "text/plain": [
       "(3328, 3328, 3328)"
      ]
     },
     "execution_count": 16,
     "metadata": {},
     "output_type": "execute_result"
    }
   ],
   "source": [
    "len(raw_texts), len(ids), len(trees)"
   ]
  },
  {
   "cell_type": "code",
   "execution_count": 17,
   "metadata": {},
   "outputs": [],
   "source": [
    "#  На id отсюда мяпятся db_id из нашего датасета\n",
    "\n",
    "CONLLU_DB: dict[\n",
    "    str,\n",
    "    ConlluDbRow\n",
    "] = {\n",
    "    ids[i] : {\n",
    "        \"text\": raw_texts[i],\n",
    "        \"tree\": trees[i]\n",
    "    }\n",
    "    for i in range(len(ids))\n",
    "}"
   ]
  },
  {
   "cell_type": "markdown",
   "metadata": {},
   "source": [
    "#### Загрузка авторского датасета"
   ]
  },
  {
   "cell_type": "code",
   "execution_count": 18,
   "metadata": {},
   "outputs": [],
   "source": [
    "import pandas as pd\n",
    "import csv"
   ]
  },
  {
   "cell_type": "code",
   "execution_count": 19,
   "metadata": {},
   "outputs": [],
   "source": [
    "df = pd.read_csv(\"./data/forms2sents.csv\", sep=\"\\t\", quoting=csv.QUOTE_NONE, index_col=0)"
   ]
  },
  {
   "cell_type": "code",
   "execution_count": 20,
   "metadata": {},
   "outputs": [
    {
     "data": {
      "text/html": [
       "<div>\n",
       "<style scoped>\n",
       "    .dataframe tbody tr th:only-of-type {\n",
       "        vertical-align: middle;\n",
       "    }\n",
       "\n",
       "    .dataframe tbody tr th {\n",
       "        vertical-align: top;\n",
       "    }\n",
       "\n",
       "    .dataframe thead th {\n",
       "        text-align: right;\n",
       "    }\n",
       "</style>\n",
       "<table border=\"1\" class=\"dataframe\">\n",
       "  <thead>\n",
       "    <tr style=\"text-align: right;\">\n",
       "      <th></th>\n",
       "      <th>lemma</th>\n",
       "      <th>word</th>\n",
       "      <th>aspect</th>\n",
       "      <th>disambig</th>\n",
       "      <th>db_id</th>\n",
       "    </tr>\n",
       "  </thead>\n",
       "  <tbody>\n",
       "    <tr>\n",
       "      <th>0</th>\n",
       "      <td>bacati</td>\n",
       "      <td>baca</td>\n",
       "      <td>imp</td>\n",
       "      <td>imp</td>\n",
       "      <td>set-s2762</td>\n",
       "    </tr>\n",
       "    <tr>\n",
       "      <th>1</th>\n",
       "      <td>bacati</td>\n",
       "      <td>bacaju</td>\n",
       "      <td>imp</td>\n",
       "      <td>imp</td>\n",
       "      <td>set-s693</td>\n",
       "    </tr>\n",
       "    <tr>\n",
       "      <th>2</th>\n",
       "      <td>bacati</td>\n",
       "      <td>bacaju</td>\n",
       "      <td>imp</td>\n",
       "      <td>imp</td>\n",
       "      <td>set-s2765</td>\n",
       "    </tr>\n",
       "    <tr>\n",
       "      <th>3</th>\n",
       "      <td>bacati</td>\n",
       "      <td>bacaju</td>\n",
       "      <td>imp</td>\n",
       "      <td>imp</td>\n",
       "      <td>set-s3624</td>\n",
       "    </tr>\n",
       "    <tr>\n",
       "      <th>4</th>\n",
       "      <td>bacati</td>\n",
       "      <td>bacala</td>\n",
       "      <td>imp</td>\n",
       "      <td>imp</td>\n",
       "      <td>set-s2360</td>\n",
       "    </tr>\n",
       "  </tbody>\n",
       "</table>\n",
       "</div>"
      ],
      "text/plain": [
       "    lemma    word aspect disambig      db_id\n",
       "0  bacati    baca    imp      imp  set-s2762\n",
       "1  bacati  bacaju    imp      imp   set-s693\n",
       "2  bacati  bacaju    imp      imp  set-s2765\n",
       "3  bacati  bacaju    imp      imp  set-s3624\n",
       "4  bacati  bacala    imp      imp  set-s2360"
      ]
     },
     "execution_count": 20,
     "metadata": {},
     "output_type": "execute_result"
    }
   ],
   "source": [
    "df.head()"
   ]
  },
  {
   "cell_type": "code",
   "execution_count": 21,
   "metadata": {},
   "outputs": [
    {
     "data": {
      "text/plain": [
       "4959"
      ]
     },
     "execution_count": 21,
     "metadata": {},
     "output_type": "execute_result"
    }
   ],
   "source": [
    "# Всего записей\n",
    "len(df)"
   ]
  },
  {
   "cell_type": "code",
   "execution_count": 22,
   "metadata": {},
   "outputs": [
    {
     "data": {
      "text/plain": [
       "311"
      ]
     },
     "execution_count": 22,
     "metadata": {},
     "output_type": "execute_result"
    }
   ],
   "source": [
    "# Кол-во лемм\n",
    "len(set(df[\"lemma\"]))"
   ]
  },
  {
   "cell_type": "code",
   "execution_count": 23,
   "metadata": {},
   "outputs": [
    {
     "data": {
      "text/plain": [
       "1398"
      ]
     },
     "execution_count": 23,
     "metadata": {},
     "output_type": "execute_result"
    }
   ],
   "source": [
    "# Кол-во уникальных форм\n",
    "len(set(map(str.lower, df[\"word\"])))"
   ]
  },
  {
   "cell_type": "code",
   "execution_count": 24,
   "metadata": {},
   "outputs": [
    {
     "data": {
      "text/plain": [
       "2605"
      ]
     },
     "execution_count": 24,
     "metadata": {},
     "output_type": "execute_result"
    }
   ],
   "source": [
    "# Кол-во уникальных предложений.\n",
    "len(set(df[\"db_id\"]))"
   ]
  },
  {
   "cell_type": "code",
   "execution_count": 25,
   "metadata": {},
   "outputs": [
    {
     "data": {
      "text/plain": [
       "[('reći', 285),\n",
       " ('moći', 171),\n",
       " ('imati', 154),\n",
       " ('kazati', 143),\n",
       " ('trebati', 111),\n",
       " ('morati', 95),\n",
       " ('izjaviti', 90),\n",
       " ('dobiti', 61),\n",
       " ('postati', 61),\n",
       " ('želeti', 53)]"
      ]
     },
     "execution_count": 25,
     "metadata": {},
     "output_type": "execute_result"
    }
   ],
   "source": [
    "# Самые частотные леммы\n",
    "from collections import Counter\n",
    "Counter(df[\"lemma\"].values).most_common(10)"
   ]
  },
  {
   "cell_type": "code",
   "execution_count": 26,
   "metadata": {},
   "outputs": [
    {
     "data": {
      "text/plain": [
       "lemma          bacati\n",
       "word             baca\n",
       "aspect            imp\n",
       "disambig          imp\n",
       "db_id       set-s2762\n",
       "Name: 0, dtype: object"
      ]
     },
     "execution_count": 26,
     "metadata": {},
     "output_type": "execute_result"
    }
   ],
   "source": [
    "test_row = df.iloc[0]\n",
    "test_row"
   ]
  },
  {
   "cell_type": "code",
   "execution_count": 27,
   "metadata": {},
   "outputs": [],
   "source": [
    "test_entry = CONLLU_DB[test_row[\"db_id\"]]"
   ]
  },
  {
   "cell_type": "code",
   "execution_count": 28,
   "metadata": {},
   "outputs": [
    {
     "data": {
      "text/plain": [
       "'Otpad iz šest priobalnih zemalja, kao i država u njegovom slivu, ulazi u more uglavnom preko reka, a ponekad se jednostavno baca u vodu.'"
      ]
     },
     "execution_count": 28,
     "metadata": {},
     "output_type": "execute_result"
    }
   ],
   "source": [
    "test_entry[\"text\"]"
   ]
  },
  {
   "cell_type": "code",
   "execution_count": null,
   "metadata": {},
   "outputs": [],
   "source": [
    "test_entry[\"tree\"]"
   ]
  },
  {
   "cell_type": "markdown",
   "metadata": {},
   "source": [
    "#### Из датасета удалены все случаи, где одна и та же форма глагола встречается в тексте несколько раз. Поэтому мы можем позволить себе искать ноду, в которой тусуется слово, только по форме собственно слова."
   ]
  },
  {
   "cell_type": "code",
   "execution_count": 30,
   "metadata": {},
   "outputs": [],
   "source": [
    "from tools.utils import get_verb_node\n",
    "from tools.utils import get_all_grammar"
   ]
  },
  {
   "cell_type": "code",
   "execution_count": 31,
   "metadata": {},
   "outputs": [
    {
     "data": {
      "text/plain": [
       "{'address': 25,\n",
       " 'word': 'baca',\n",
       " 'lemma': 'bacati',\n",
       " 'ctag': 'VERB',\n",
       " 'tag': 'Vmr3s',\n",
       " 'feats': 'Mood=Ind|Number=Sing|Person=3|Tense=Pres|VerbForm=Fin',\n",
       " 'head': 14,\n",
       " 'deps': defaultdict(list,\n",
       "             {'punct': [20],\n",
       "              'cc': [21],\n",
       "              'advmod': [22, 24],\n",
       "              'expl': [23],\n",
       "              'obl': [27]}),\n",
       " 'rel': 'conj'}"
      ]
     },
     "execution_count": 31,
     "metadata": {},
     "output_type": "execute_result"
    }
   ],
   "source": [
    "test_node = get_verb_node(\n",
    "    test_row[\"word\"],\n",
    "    test_entry\n",
    ")\n",
    "test_node"
   ]
  },
  {
   "cell_type": "code",
   "execution_count": 32,
   "metadata": {},
   "outputs": [
    {
     "data": {
      "text/plain": [
       "{'Mood': 'Ind',\n",
       " 'Number': 'Sing',\n",
       " 'Person': '3',\n",
       " 'Tense': 'Pres',\n",
       " 'VerbForm': 'Fin',\n",
       " 'POS': 'VERB'}"
      ]
     },
     "execution_count": 32,
     "metadata": {},
     "output_type": "execute_result"
    }
   ],
   "source": [
    "get_all_grammar(test_node)"
   ]
  },
  {
   "cell_type": "code",
   "execution_count": 33,
   "metadata": {},
   "outputs": [
    {
     "data": {
      "text/plain": [
       "{'address': 3,\n",
       " 'word': 'može',\n",
       " 'lemma': 'moći',\n",
       " 'ctag': 'VERB',\n",
       " 'tag': 'Vmr3s',\n",
       " 'feats': 'Mood=Ind|Number=Sing|Person=3|Tense=Pres|VerbForm=Fin',\n",
       " 'head': 0,\n",
       " 'deps': defaultdict(list,\n",
       "             {'nsubj': [1],\n",
       "              'advmod': [2],\n",
       "              'xcomp': [6],\n",
       "              'conj': [12],\n",
       "              'punct': [15, 26],\n",
       "              'parataxis': [17]}),\n",
       " 'rel': 'root'}"
      ]
     },
     "execution_count": 33,
     "metadata": {},
     "output_type": "execute_result"
    }
   ],
   "source": [
    "test_node = get_verb_node(\n",
    "    \"može\",\n",
    "    CONLLU_DB[\"set-s119\"]\n",
    ")\n",
    "test_node"
   ]
  },
  {
   "cell_type": "code",
   "execution_count": 34,
   "metadata": {},
   "outputs": [
    {
     "data": {
      "text/plain": [
       "{'address': 2,\n",
       " 'word': 'ne',\n",
       " 'lemma': 'ne',\n",
       " 'ctag': 'PART',\n",
       " 'tag': 'Qz',\n",
       " 'feats': 'Polarity=Neg',\n",
       " 'head': 3,\n",
       " 'deps': defaultdict(list, {}),\n",
       " 'rel': 'advmod'}"
      ]
     },
     "execution_count": 34,
     "metadata": {},
     "output_type": "execute_result"
    }
   ],
   "source": [
    "CONLLU_DB[\"set-s119\"][\"tree\"].nodes[2]"
   ]
  },
  {
   "cell_type": "markdown",
   "metadata": {},
   "source": [
    "#### Код ниже создает большую таблицу"
   ]
  },
  {
   "cell_type": "code",
   "execution_count": null,
   "metadata": {},
   "outputs": [
    {
     "data": {
      "text/html": [
       "<div>\n",
       "<style scoped>\n",
       "    .dataframe tbody tr th:only-of-type {\n",
       "        vertical-align: middle;\n",
       "    }\n",
       "\n",
       "    .dataframe tbody tr th {\n",
       "        vertical-align: top;\n",
       "    }\n",
       "\n",
       "    .dataframe thead th {\n",
       "        text-align: right;\n",
       "    }\n",
       "</style>\n",
       "<table border=\"1\" class=\"dataframe\">\n",
       "  <thead>\n",
       "    <tr style=\"text-align: right;\">\n",
       "      <th></th>\n",
       "      <th>lemma</th>\n",
       "      <th>word</th>\n",
       "      <th>aspect</th>\n",
       "      <th>disambig</th>\n",
       "      <th>db_id</th>\n",
       "      <th>text</th>\n",
       "    </tr>\n",
       "  </thead>\n",
       "  <tbody>\n",
       "    <tr>\n",
       "      <th>0</th>\n",
       "      <td>bacati</td>\n",
       "      <td>baca</td>\n",
       "      <td>imp</td>\n",
       "      <td>imp</td>\n",
       "      <td>set-s2762</td>\n",
       "      <td>Otpad iz šest priobalnih zemalja, kao i država...</td>\n",
       "    </tr>\n",
       "    <tr>\n",
       "      <th>1</th>\n",
       "      <td>bacati</td>\n",
       "      <td>bacaju</td>\n",
       "      <td>imp</td>\n",
       "      <td>imp</td>\n",
       "      <td>set-s693</td>\n",
       "      <td>Kosovski Srbi bacaju kamenje na vojnike KFOR-a...</td>\n",
       "    </tr>\n",
       "    <tr>\n",
       "      <th>2</th>\n",
       "      <td>bacati</td>\n",
       "      <td>bacaju</td>\n",
       "      <td>imp</td>\n",
       "      <td>imp</td>\n",
       "      <td>set-s2765</td>\n",
       "      <td>\"Umesto da bacaju mulj 25-30 km prema pučini, ...</td>\n",
       "    </tr>\n",
       "    <tr>\n",
       "      <th>3</th>\n",
       "      <td>bacati</td>\n",
       "      <td>bacaju</td>\n",
       "      <td>imp</td>\n",
       "      <td>imp</td>\n",
       "      <td>set-s3624</td>\n",
       "      <td>Blokirani razgovori sa MMF bacaju senku na nek...</td>\n",
       "    </tr>\n",
       "    <tr>\n",
       "      <th>4</th>\n",
       "      <td>bacati</td>\n",
       "      <td>bacala</td>\n",
       "      <td>imp</td>\n",
       "      <td>imp</td>\n",
       "      <td>set-s2360</td>\n",
       "      <td>Prve večeri, publika je bacala flaše na bosans...</td>\n",
       "    </tr>\n",
       "    <tr>\n",
       "      <th>...</th>\n",
       "      <td>...</td>\n",
       "      <td>...</td>\n",
       "      <td>...</td>\n",
       "      <td>...</td>\n",
       "      <td>...</td>\n",
       "      <td>...</td>\n",
       "    </tr>\n",
       "    <tr>\n",
       "      <th>4954</th>\n",
       "      <td>živeti</td>\n",
       "      <td>živimo</td>\n",
       "      <td>imp</td>\n",
       "      <td>imp</td>\n",
       "      <td>set-s1415</td>\n",
       "      <td>Ne možemo više da živimo sa njima\".</td>\n",
       "    </tr>\n",
       "    <tr>\n",
       "      <th>4955</th>\n",
       "      <td>živeti</td>\n",
       "      <td>živimo</td>\n",
       "      <td>imp</td>\n",
       "      <td>imp</td>\n",
       "      <td>set-s3726</td>\n",
       "      <td>Stranke uvek obećavaju i svaki put nas iznever...</td>\n",
       "    </tr>\n",
       "    <tr>\n",
       "      <th>4956</th>\n",
       "      <td>živeti</td>\n",
       "      <td>živimo</td>\n",
       "      <td>imp</td>\n",
       "      <td>imp</td>\n",
       "      <td>news-s165</td>\n",
       "      <td>Revolucije u tehnologiji doprinele su da potpu...</td>\n",
       "    </tr>\n",
       "    <tr>\n",
       "      <th>4957</th>\n",
       "      <td>živeti</td>\n",
       "      <td>živimo</td>\n",
       "      <td>imp</td>\n",
       "      <td>imp</td>\n",
       "      <td>news-s192</td>\n",
       "      <td>Postavlja se nezaobilazno pitanje, kako se izv...</td>\n",
       "    </tr>\n",
       "    <tr>\n",
       "      <th>4958</th>\n",
       "      <td>živeti</td>\n",
       "      <td>živimo</td>\n",
       "      <td>imp</td>\n",
       "      <td>imp</td>\n",
       "      <td>news-s232</td>\n",
       "      <td>Naime, u ovoj vrsti romana ne odgoneta se samo...</td>\n",
       "    </tr>\n",
       "  </tbody>\n",
       "</table>\n",
       "<p>4959 rows × 6 columns</p>\n",
       "</div>"
      ],
      "text/plain": [
       "       lemma    word aspect disambig      db_id  \\\n",
       "0     bacati    baca    imp      imp  set-s2762   \n",
       "1     bacati  bacaju    imp      imp   set-s693   \n",
       "2     bacati  bacaju    imp      imp  set-s2765   \n",
       "3     bacati  bacaju    imp      imp  set-s3624   \n",
       "4     bacati  bacala    imp      imp  set-s2360   \n",
       "...      ...     ...    ...      ...        ...   \n",
       "4954  živeti  živimo    imp      imp  set-s1415   \n",
       "4955  živeti  živimo    imp      imp  set-s3726   \n",
       "4956  živeti  živimo    imp      imp  news-s165   \n",
       "4957  živeti  živimo    imp      imp  news-s192   \n",
       "4958  živeti  živimo    imp      imp  news-s232   \n",
       "\n",
       "                                                   text  \n",
       "0     Otpad iz šest priobalnih zemalja, kao i država...  \n",
       "1     Kosovski Srbi bacaju kamenje na vojnike KFOR-a...  \n",
       "2     \"Umesto da bacaju mulj 25-30 km prema pučini, ...  \n",
       "3     Blokirani razgovori sa MMF bacaju senku na nek...  \n",
       "4     Prve večeri, publika je bacala flaše na bosans...  \n",
       "...                                                 ...  \n",
       "4954                Ne možemo više da živimo sa njima\".  \n",
       "4955  Stranke uvek obećavaju i svaki put nas iznever...  \n",
       "4956  Revolucije u tehnologiji doprinele su da potpu...  \n",
       "4957  Postavlja se nezaobilazno pitanje, kako se izv...  \n",
       "4958  Naime, u ovoj vrsti romana ne odgoneta se samo...  \n",
       "\n",
       "[4959 rows x 6 columns]"
      ]
     },
     "execution_count": 35,
     "metadata": {},
     "output_type": "execute_result"
    }
   ],
   "source": [
    "df_for_analysis = df[[\"lemma\", \"word\", \"aspect\", \"disambig\", \"db_id\"]]\n",
    "df_for_analysis[\"text\"] = df[\"db_id\"].apply(lambda elem: CONLLU_DB[elem][\"text\"])\n",
    "df_for_analysis"
   ]
  },
  {
   "cell_type": "markdown",
   "metadata": {},
   "source": [
    "#### Добавим всю глагольную грамматику"
   ]
  },
  {
   "cell_type": "code",
   "execution_count": 36,
   "metadata": {},
   "outputs": [
    {
     "data": {
      "text/plain": [
       "['Gender', 'Mood', 'Number', 'POS', 'Person', 'Tense', 'VerbForm', 'Voice']"
      ]
     },
     "execution_count": 36,
     "metadata": {},
     "output_type": "execute_result"
    }
   ],
   "source": [
    "tags = set()\n",
    "\n",
    "for _, row in df.iterrows():\n",
    "    node = get_verb_node(\n",
    "        row[\"word\"],\n",
    "        CONLLU_DB[row[\"db_id\"]]\n",
    "    )\n",
    "\n",
    "    tags.update(\n",
    "        get_all_grammar(\n",
    "            node\n",
    "        )\n",
    "    )\n",
    "tags = sorted(tags)\n",
    "tags"
   ]
  },
  {
   "cell_type": "code",
   "execution_count": 37,
   "metadata": {},
   "outputs": [
    {
     "data": {
      "text/html": [
       "<div>\n",
       "<style scoped>\n",
       "    .dataframe tbody tr th:only-of-type {\n",
       "        vertical-align: middle;\n",
       "    }\n",
       "\n",
       "    .dataframe tbody tr th {\n",
       "        vertical-align: top;\n",
       "    }\n",
       "\n",
       "    .dataframe thead th {\n",
       "        text-align: right;\n",
       "    }\n",
       "</style>\n",
       "<table border=\"1\" class=\"dataframe\">\n",
       "  <thead>\n",
       "    <tr style=\"text-align: right;\">\n",
       "      <th></th>\n",
       "      <th>lemma</th>\n",
       "      <th>word</th>\n",
       "      <th>aspect</th>\n",
       "      <th>disambig</th>\n",
       "      <th>db_id</th>\n",
       "      <th>text</th>\n",
       "      <th>Gender</th>\n",
       "      <th>Mood</th>\n",
       "      <th>Number</th>\n",
       "      <th>POS</th>\n",
       "      <th>Person</th>\n",
       "      <th>Tense</th>\n",
       "      <th>VerbForm</th>\n",
       "      <th>Voice</th>\n",
       "    </tr>\n",
       "  </thead>\n",
       "  <tbody>\n",
       "    <tr>\n",
       "      <th>0</th>\n",
       "      <td>bacati</td>\n",
       "      <td>baca</td>\n",
       "      <td>imp</td>\n",
       "      <td>imp</td>\n",
       "      <td>set-s2762</td>\n",
       "      <td>Otpad iz šest priobalnih zemalja, kao i država...</td>\n",
       "      <td>None</td>\n",
       "      <td>Ind</td>\n",
       "      <td>Sing</td>\n",
       "      <td>VERB</td>\n",
       "      <td>3</td>\n",
       "      <td>Pres</td>\n",
       "      <td>Fin</td>\n",
       "      <td>None</td>\n",
       "    </tr>\n",
       "    <tr>\n",
       "      <th>1</th>\n",
       "      <td>bacati</td>\n",
       "      <td>bacaju</td>\n",
       "      <td>imp</td>\n",
       "      <td>imp</td>\n",
       "      <td>set-s693</td>\n",
       "      <td>Kosovski Srbi bacaju kamenje na vojnike KFOR-a...</td>\n",
       "      <td>None</td>\n",
       "      <td>Ind</td>\n",
       "      <td>Plur</td>\n",
       "      <td>VERB</td>\n",
       "      <td>3</td>\n",
       "      <td>Pres</td>\n",
       "      <td>Fin</td>\n",
       "      <td>None</td>\n",
       "    </tr>\n",
       "    <tr>\n",
       "      <th>2</th>\n",
       "      <td>bacati</td>\n",
       "      <td>bacaju</td>\n",
       "      <td>imp</td>\n",
       "      <td>imp</td>\n",
       "      <td>set-s2765</td>\n",
       "      <td>\"Umesto da bacaju mulj 25-30 km prema pučini, ...</td>\n",
       "      <td>None</td>\n",
       "      <td>Ind</td>\n",
       "      <td>Plur</td>\n",
       "      <td>VERB</td>\n",
       "      <td>3</td>\n",
       "      <td>Pres</td>\n",
       "      <td>Fin</td>\n",
       "      <td>None</td>\n",
       "    </tr>\n",
       "    <tr>\n",
       "      <th>3</th>\n",
       "      <td>bacati</td>\n",
       "      <td>bacaju</td>\n",
       "      <td>imp</td>\n",
       "      <td>imp</td>\n",
       "      <td>set-s3624</td>\n",
       "      <td>Blokirani razgovori sa MMF bacaju senku na nek...</td>\n",
       "      <td>None</td>\n",
       "      <td>Ind</td>\n",
       "      <td>Plur</td>\n",
       "      <td>VERB</td>\n",
       "      <td>3</td>\n",
       "      <td>Pres</td>\n",
       "      <td>Fin</td>\n",
       "      <td>None</td>\n",
       "    </tr>\n",
       "    <tr>\n",
       "      <th>4</th>\n",
       "      <td>bacati</td>\n",
       "      <td>bacala</td>\n",
       "      <td>imp</td>\n",
       "      <td>imp</td>\n",
       "      <td>set-s2360</td>\n",
       "      <td>Prve večeri, publika je bacala flaše na bosans...</td>\n",
       "      <td>Fem</td>\n",
       "      <td>None</td>\n",
       "      <td>Sing</td>\n",
       "      <td>VERB</td>\n",
       "      <td>None</td>\n",
       "      <td>Past</td>\n",
       "      <td>Part</td>\n",
       "      <td>Act</td>\n",
       "    </tr>\n",
       "  </tbody>\n",
       "</table>\n",
       "</div>"
      ],
      "text/plain": [
       "    lemma    word aspect disambig      db_id  \\\n",
       "0  bacati    baca    imp      imp  set-s2762   \n",
       "1  bacati  bacaju    imp      imp   set-s693   \n",
       "2  bacati  bacaju    imp      imp  set-s2765   \n",
       "3  bacati  bacaju    imp      imp  set-s3624   \n",
       "4  bacati  bacala    imp      imp  set-s2360   \n",
       "\n",
       "                                                text Gender  Mood Number  \\\n",
       "0  Otpad iz šest priobalnih zemalja, kao i država...   None   Ind   Sing   \n",
       "1  Kosovski Srbi bacaju kamenje na vojnike KFOR-a...   None   Ind   Plur   \n",
       "2  \"Umesto da bacaju mulj 25-30 km prema pučini, ...   None   Ind   Plur   \n",
       "3  Blokirani razgovori sa MMF bacaju senku na nek...   None   Ind   Plur   \n",
       "4  Prve večeri, publika je bacala flaše na bosans...    Fem  None   Sing   \n",
       "\n",
       "    POS Person Tense VerbForm Voice  \n",
       "0  VERB      3  Pres      Fin  None  \n",
       "1  VERB      3  Pres      Fin  None  \n",
       "2  VERB      3  Pres      Fin  None  \n",
       "3  VERB      3  Pres      Fin  None  \n",
       "4  VERB   None  Past     Part   Act  "
      ]
     },
     "execution_count": 37,
     "metadata": {},
     "output_type": "execute_result"
    }
   ],
   "source": [
    "for tag in tags:\n",
    "    df_for_analysis[tag] = None\n",
    "\n",
    "for i, row in df_for_analysis.copy().iterrows():\n",
    "    node = get_verb_node(row[\"word\"], CONLLU_DB[row[\"db_id\"]])\n",
    "    grammar = get_all_grammar(node)\n",
    "\n",
    "    for tag in tags:\n",
    "        val = grammar.get(tag, None)\n",
    "        df_for_analysis.loc[i, tag] = val\n",
    "        row[tag] = val\n",
    "\n",
    "df_for_analysis.head()"
   ]
  },
  {
   "cell_type": "markdown",
   "metadata": {},
   "source": [
    "#### Добавим окна по 3 токена с каждой стороны"
   ]
  },
  {
   "cell_type": "code",
   "execution_count": 38,
   "metadata": {},
   "outputs": [],
   "source": [
    "from nltk import RegexpTokenizer"
   ]
  },
  {
   "cell_type": "code",
   "execution_count": 39,
   "metadata": {},
   "outputs": [],
   "source": [
    "tokenizer = RegexpTokenizer(r\"\\w+\")"
   ]
  },
  {
   "cell_type": "code",
   "execution_count": 40,
   "metadata": {},
   "outputs": [],
   "source": [
    "def get_window(text, target, tokenizer, len_=4):\n",
    "    left = len_ // 2\n",
    "    right = len_ // 2\n",
    "\n",
    "    tokens:list[str] = tokenizer.tokenize(text)\n",
    "    target_id = tokens.index(target)\n",
    "\n",
    "    left_id = max(target_id-left, 0)\n",
    "    left_part =  tokens[left_id:target_id]\n",
    "\n",
    "    right_id = min(target_id+right+1, len(tokens))\n",
    "    right_part = tokens[target_id+1:right_id]\n",
    "\n",
    "    while len(left_part) < left:\n",
    "        left_part = [\"[PAD]\"] + left_part\n",
    "\n",
    "    while len(right_part) < right:\n",
    "        right_part = right_part + [\"[PAD]\"]\n",
    "\n",
    "    return left_part + right_part\n"
   ]
  },
  {
   "cell_type": "code",
   "execution_count": 41,
   "metadata": {},
   "outputs": [
    {
     "data": {
      "text/plain": [
       "'Otpad iz šest priobalnih zemalja, kao i država u njegovom slivu, ulazi u more uglavnom preko reka, a ponekad se jednostavno baca u vodu.'"
      ]
     },
     "execution_count": 41,
     "metadata": {},
     "output_type": "execute_result"
    }
   ],
   "source": [
    "df_for_analysis.iloc[0][\"text\"]"
   ]
  },
  {
   "cell_type": "code",
   "execution_count": 42,
   "metadata": {},
   "outputs": [
    {
     "data": {
      "text/plain": [
       "['ponekad', 'se', 'jednostavno', 'u', 'vodu', '[PAD]']"
      ]
     },
     "execution_count": 42,
     "metadata": {},
     "output_type": "execute_result"
    }
   ],
   "source": [
    "get_window(df_for_analysis.iloc[0][\"text\"], df_for_analysis.iloc[0][\"word\"], tokenizer, 6)"
   ]
  },
  {
   "cell_type": "code",
   "execution_count": 43,
   "metadata": {},
   "outputs": [
    {
     "data": {
      "text/plain": [
       "['[PAD]', '[PAD]', 'Otpad', 'šest', 'priobalnih', 'zemalja']"
      ]
     },
     "execution_count": 43,
     "metadata": {},
     "output_type": "execute_result"
    }
   ],
   "source": [
    "get_window(df_for_analysis.iloc[0][\"text\"], \"iz\", tokenizer, 6)"
   ]
  },
  {
   "cell_type": "code",
   "execution_count": 44,
   "metadata": {},
   "outputs": [
    {
     "data": {
      "text/html": [
       "<div>\n",
       "<style scoped>\n",
       "    .dataframe tbody tr th:only-of-type {\n",
       "        vertical-align: middle;\n",
       "    }\n",
       "\n",
       "    .dataframe tbody tr th {\n",
       "        vertical-align: top;\n",
       "    }\n",
       "\n",
       "    .dataframe thead th {\n",
       "        text-align: right;\n",
       "    }\n",
       "</style>\n",
       "<table border=\"1\" class=\"dataframe\">\n",
       "  <thead>\n",
       "    <tr style=\"text-align: right;\">\n",
       "      <th></th>\n",
       "      <th>lemma</th>\n",
       "      <th>word</th>\n",
       "      <th>aspect</th>\n",
       "      <th>disambig</th>\n",
       "      <th>db_id</th>\n",
       "      <th>text</th>\n",
       "      <th>Gender</th>\n",
       "      <th>Mood</th>\n",
       "      <th>Number</th>\n",
       "      <th>POS</th>\n",
       "      <th>Person</th>\n",
       "      <th>Tense</th>\n",
       "      <th>VerbForm</th>\n",
       "      <th>Voice</th>\n",
       "      <th>l_tok_3</th>\n",
       "      <th>l_tok_2</th>\n",
       "      <th>l_tok_1</th>\n",
       "      <th>r_tok_1</th>\n",
       "      <th>r_tok_2</th>\n",
       "      <th>r_tok_3</th>\n",
       "    </tr>\n",
       "  </thead>\n",
       "  <tbody>\n",
       "    <tr>\n",
       "      <th>0</th>\n",
       "      <td>bacati</td>\n",
       "      <td>baca</td>\n",
       "      <td>imp</td>\n",
       "      <td>imp</td>\n",
       "      <td>set-s2762</td>\n",
       "      <td>Otpad iz šest priobalnih zemalja, kao i država...</td>\n",
       "      <td>None</td>\n",
       "      <td>Ind</td>\n",
       "      <td>Sing</td>\n",
       "      <td>VERB</td>\n",
       "      <td>3</td>\n",
       "      <td>Pres</td>\n",
       "      <td>Fin</td>\n",
       "      <td>None</td>\n",
       "      <td>ponekad</td>\n",
       "      <td>se</td>\n",
       "      <td>jednostavno</td>\n",
       "      <td>u</td>\n",
       "      <td>vodu</td>\n",
       "      <td>[PAD]</td>\n",
       "    </tr>\n",
       "    <tr>\n",
       "      <th>1</th>\n",
       "      <td>bacati</td>\n",
       "      <td>bacaju</td>\n",
       "      <td>imp</td>\n",
       "      <td>imp</td>\n",
       "      <td>set-s693</td>\n",
       "      <td>Kosovski Srbi bacaju kamenje na vojnike KFOR-a...</td>\n",
       "      <td>None</td>\n",
       "      <td>Ind</td>\n",
       "      <td>Plur</td>\n",
       "      <td>VERB</td>\n",
       "      <td>3</td>\n",
       "      <td>Pres</td>\n",
       "      <td>Fin</td>\n",
       "      <td>None</td>\n",
       "      <td>[PAD]</td>\n",
       "      <td>Kosovski</td>\n",
       "      <td>Srbi</td>\n",
       "      <td>kamenje</td>\n",
       "      <td>na</td>\n",
       "      <td>vojnike</td>\n",
       "    </tr>\n",
       "    <tr>\n",
       "      <th>2</th>\n",
       "      <td>bacati</td>\n",
       "      <td>bacaju</td>\n",
       "      <td>imp</td>\n",
       "      <td>imp</td>\n",
       "      <td>set-s2765</td>\n",
       "      <td>\"Umesto da bacaju mulj 25-30 km prema pučini, ...</td>\n",
       "      <td>None</td>\n",
       "      <td>Ind</td>\n",
       "      <td>Plur</td>\n",
       "      <td>VERB</td>\n",
       "      <td>3</td>\n",
       "      <td>Pres</td>\n",
       "      <td>Fin</td>\n",
       "      <td>None</td>\n",
       "      <td>[PAD]</td>\n",
       "      <td>Umesto</td>\n",
       "      <td>da</td>\n",
       "      <td>mulj</td>\n",
       "      <td>25</td>\n",
       "      <td>30</td>\n",
       "    </tr>\n",
       "    <tr>\n",
       "      <th>3</th>\n",
       "      <td>bacati</td>\n",
       "      <td>bacaju</td>\n",
       "      <td>imp</td>\n",
       "      <td>imp</td>\n",
       "      <td>set-s3624</td>\n",
       "      <td>Blokirani razgovori sa MMF bacaju senku na nek...</td>\n",
       "      <td>None</td>\n",
       "      <td>Ind</td>\n",
       "      <td>Plur</td>\n",
       "      <td>VERB</td>\n",
       "      <td>3</td>\n",
       "      <td>Pres</td>\n",
       "      <td>Fin</td>\n",
       "      <td>None</td>\n",
       "      <td>razgovori</td>\n",
       "      <td>sa</td>\n",
       "      <td>MMF</td>\n",
       "      <td>senku</td>\n",
       "      <td>na</td>\n",
       "      <td>nekada</td>\n",
       "    </tr>\n",
       "    <tr>\n",
       "      <th>4</th>\n",
       "      <td>bacati</td>\n",
       "      <td>bacala</td>\n",
       "      <td>imp</td>\n",
       "      <td>imp</td>\n",
       "      <td>set-s2360</td>\n",
       "      <td>Prve večeri, publika je bacala flaše na bosans...</td>\n",
       "      <td>Fem</td>\n",
       "      <td>None</td>\n",
       "      <td>Sing</td>\n",
       "      <td>VERB</td>\n",
       "      <td>None</td>\n",
       "      <td>Past</td>\n",
       "      <td>Part</td>\n",
       "      <td>Act</td>\n",
       "      <td>večeri</td>\n",
       "      <td>publika</td>\n",
       "      <td>je</td>\n",
       "      <td>flaše</td>\n",
       "      <td>na</td>\n",
       "      <td>bosanski</td>\n",
       "    </tr>\n",
       "  </tbody>\n",
       "</table>\n",
       "</div>"
      ],
      "text/plain": [
       "    lemma    word aspect disambig      db_id  \\\n",
       "0  bacati    baca    imp      imp  set-s2762   \n",
       "1  bacati  bacaju    imp      imp   set-s693   \n",
       "2  bacati  bacaju    imp      imp  set-s2765   \n",
       "3  bacati  bacaju    imp      imp  set-s3624   \n",
       "4  bacati  bacala    imp      imp  set-s2360   \n",
       "\n",
       "                                                text Gender  Mood Number  \\\n",
       "0  Otpad iz šest priobalnih zemalja, kao i država...   None   Ind   Sing   \n",
       "1  Kosovski Srbi bacaju kamenje na vojnike KFOR-a...   None   Ind   Plur   \n",
       "2  \"Umesto da bacaju mulj 25-30 km prema pučini, ...   None   Ind   Plur   \n",
       "3  Blokirani razgovori sa MMF bacaju senku na nek...   None   Ind   Plur   \n",
       "4  Prve večeri, publika je bacala flaše na bosans...    Fem  None   Sing   \n",
       "\n",
       "    POS Person Tense VerbForm Voice    l_tok_3   l_tok_2      l_tok_1  \\\n",
       "0  VERB      3  Pres      Fin  None    ponekad        se  jednostavno   \n",
       "1  VERB      3  Pres      Fin  None      [PAD]  Kosovski         Srbi   \n",
       "2  VERB      3  Pres      Fin  None      [PAD]    Umesto           da   \n",
       "3  VERB      3  Pres      Fin  None  razgovori        sa          MMF   \n",
       "4  VERB   None  Past     Part   Act     večeri   publika           je   \n",
       "\n",
       "   r_tok_1 r_tok_2   r_tok_3  \n",
       "0        u    vodu     [PAD]  \n",
       "1  kamenje      na   vojnike  \n",
       "2     mulj      25        30  \n",
       "3    senku      na    nekada  \n",
       "4    flaše      na  bosanski  "
      ]
     },
     "execution_count": 44,
     "metadata": {},
     "output_type": "execute_result"
    }
   ],
   "source": [
    "col_names = [\"l_tok_3\", \"l_tok_2\", \"l_tok_1\", \"r_tok_1\", \"r_tok_2\", \"r_tok_3\"]\n",
    "\n",
    "for name in col_names:\n",
    "    df_for_analysis[name] = None\n",
    "\n",
    "for i, row in df_for_analysis.copy().iterrows():\n",
    "\n",
    "    window = get_window(row[\"text\"], row[\"word\"], tokenizer, 6)\n",
    "    for j, name in enumerate(col_names):\n",
    "        df_for_analysis.loc[i, name] = window[j]\n",
    "\n",
    "df_for_analysis.head()"
   ]
  },
  {
   "cell_type": "markdown",
   "metadata": {},
   "source": [
    "#### Добавим графемы по 3 с каждой стороны"
   ]
  },
  {
   "cell_type": "code",
   "execution_count": 45,
   "metadata": {},
   "outputs": [],
   "source": [
    "def get_graphemes(word: str, num=3) -> list[str]:\n",
    "\n",
    "    left_side = []\n",
    "    right_side = []\n",
    "    for i in range(min(num, len(word))):\n",
    "        left_side.append(word[i])\n",
    "        right_side.append(word[::-1][i])\n",
    "\n",
    "    while len(left_side) != num:\n",
    "        left_side = left_side + [\"[PAD]\"]\n",
    "        right_side = right_side+ [\"[PAD]\"]\n",
    "\n",
    "    return left_side + right_side"
   ]
  },
  {
   "cell_type": "code",
   "execution_count": 46,
   "metadata": {},
   "outputs": [
    {
     "data": {
      "text/plain": [
       "['a', 'b', 'c', 'e', 'd', 'c']"
      ]
     },
     "execution_count": 46,
     "metadata": {},
     "output_type": "execute_result"
    }
   ],
   "source": [
    "get_graphemes(\"abcde\")"
   ]
  },
  {
   "cell_type": "code",
   "execution_count": 48,
   "metadata": {},
   "outputs": [
    {
     "data": {
      "text/plain": [
       "['a', 'b', 'c', 'c', 'b', 'a']"
      ]
     },
     "execution_count": 48,
     "metadata": {},
     "output_type": "execute_result"
    }
   ],
   "source": [
    "get_graphemes(\"abc\")"
   ]
  },
  {
   "cell_type": "code",
   "execution_count": 49,
   "metadata": {},
   "outputs": [
    {
     "data": {
      "text/plain": [
       "['a', 'b', '[PAD]', 'b', 'a', '[PAD]']"
      ]
     },
     "execution_count": 49,
     "metadata": {},
     "output_type": "execute_result"
    }
   ],
   "source": [
    "get_graphemes(\"ab\")"
   ]
  },
  {
   "cell_type": "code",
   "execution_count": 50,
   "metadata": {},
   "outputs": [
    {
     "data": {
      "text/html": [
       "<div>\n",
       "<style scoped>\n",
       "    .dataframe tbody tr th:only-of-type {\n",
       "        vertical-align: middle;\n",
       "    }\n",
       "\n",
       "    .dataframe tbody tr th {\n",
       "        vertical-align: top;\n",
       "    }\n",
       "\n",
       "    .dataframe thead th {\n",
       "        text-align: right;\n",
       "    }\n",
       "</style>\n",
       "<table border=\"1\" class=\"dataframe\">\n",
       "  <thead>\n",
       "    <tr style=\"text-align: right;\">\n",
       "      <th></th>\n",
       "      <th>lemma</th>\n",
       "      <th>word</th>\n",
       "      <th>aspect</th>\n",
       "      <th>disambig</th>\n",
       "      <th>db_id</th>\n",
       "      <th>text</th>\n",
       "      <th>Gender</th>\n",
       "      <th>Mood</th>\n",
       "      <th>Number</th>\n",
       "      <th>POS</th>\n",
       "      <th>...</th>\n",
       "      <th>l_tok_1</th>\n",
       "      <th>r_tok_1</th>\n",
       "      <th>r_tok_2</th>\n",
       "      <th>r_tok_3</th>\n",
       "      <th>l_gr_1</th>\n",
       "      <th>l_gr_2</th>\n",
       "      <th>l_gr_3</th>\n",
       "      <th>r_gr_1</th>\n",
       "      <th>r_gr_2</th>\n",
       "      <th>r_gr_3</th>\n",
       "    </tr>\n",
       "  </thead>\n",
       "  <tbody>\n",
       "    <tr>\n",
       "      <th>0</th>\n",
       "      <td>bacati</td>\n",
       "      <td>baca</td>\n",
       "      <td>imp</td>\n",
       "      <td>imp</td>\n",
       "      <td>set-s2762</td>\n",
       "      <td>Otpad iz šest priobalnih zemalja, kao i država...</td>\n",
       "      <td>None</td>\n",
       "      <td>Ind</td>\n",
       "      <td>Sing</td>\n",
       "      <td>VERB</td>\n",
       "      <td>...</td>\n",
       "      <td>jednostavno</td>\n",
       "      <td>u</td>\n",
       "      <td>vodu</td>\n",
       "      <td>[PAD]</td>\n",
       "      <td>b</td>\n",
       "      <td>a</td>\n",
       "      <td>c</td>\n",
       "      <td>a</td>\n",
       "      <td>c</td>\n",
       "      <td>a</td>\n",
       "    </tr>\n",
       "    <tr>\n",
       "      <th>1</th>\n",
       "      <td>bacati</td>\n",
       "      <td>bacaju</td>\n",
       "      <td>imp</td>\n",
       "      <td>imp</td>\n",
       "      <td>set-s693</td>\n",
       "      <td>Kosovski Srbi bacaju kamenje na vojnike KFOR-a...</td>\n",
       "      <td>None</td>\n",
       "      <td>Ind</td>\n",
       "      <td>Plur</td>\n",
       "      <td>VERB</td>\n",
       "      <td>...</td>\n",
       "      <td>Srbi</td>\n",
       "      <td>kamenje</td>\n",
       "      <td>na</td>\n",
       "      <td>vojnike</td>\n",
       "      <td>b</td>\n",
       "      <td>a</td>\n",
       "      <td>c</td>\n",
       "      <td>u</td>\n",
       "      <td>j</td>\n",
       "      <td>a</td>\n",
       "    </tr>\n",
       "    <tr>\n",
       "      <th>2</th>\n",
       "      <td>bacati</td>\n",
       "      <td>bacaju</td>\n",
       "      <td>imp</td>\n",
       "      <td>imp</td>\n",
       "      <td>set-s2765</td>\n",
       "      <td>\"Umesto da bacaju mulj 25-30 km prema pučini, ...</td>\n",
       "      <td>None</td>\n",
       "      <td>Ind</td>\n",
       "      <td>Plur</td>\n",
       "      <td>VERB</td>\n",
       "      <td>...</td>\n",
       "      <td>da</td>\n",
       "      <td>mulj</td>\n",
       "      <td>25</td>\n",
       "      <td>30</td>\n",
       "      <td>b</td>\n",
       "      <td>a</td>\n",
       "      <td>c</td>\n",
       "      <td>u</td>\n",
       "      <td>j</td>\n",
       "      <td>a</td>\n",
       "    </tr>\n",
       "    <tr>\n",
       "      <th>3</th>\n",
       "      <td>bacati</td>\n",
       "      <td>bacaju</td>\n",
       "      <td>imp</td>\n",
       "      <td>imp</td>\n",
       "      <td>set-s3624</td>\n",
       "      <td>Blokirani razgovori sa MMF bacaju senku na nek...</td>\n",
       "      <td>None</td>\n",
       "      <td>Ind</td>\n",
       "      <td>Plur</td>\n",
       "      <td>VERB</td>\n",
       "      <td>...</td>\n",
       "      <td>MMF</td>\n",
       "      <td>senku</td>\n",
       "      <td>na</td>\n",
       "      <td>nekada</td>\n",
       "      <td>b</td>\n",
       "      <td>a</td>\n",
       "      <td>c</td>\n",
       "      <td>u</td>\n",
       "      <td>j</td>\n",
       "      <td>a</td>\n",
       "    </tr>\n",
       "    <tr>\n",
       "      <th>4</th>\n",
       "      <td>bacati</td>\n",
       "      <td>bacala</td>\n",
       "      <td>imp</td>\n",
       "      <td>imp</td>\n",
       "      <td>set-s2360</td>\n",
       "      <td>Prve večeri, publika je bacala flaše na bosans...</td>\n",
       "      <td>Fem</td>\n",
       "      <td>None</td>\n",
       "      <td>Sing</td>\n",
       "      <td>VERB</td>\n",
       "      <td>...</td>\n",
       "      <td>je</td>\n",
       "      <td>flaše</td>\n",
       "      <td>na</td>\n",
       "      <td>bosanski</td>\n",
       "      <td>b</td>\n",
       "      <td>a</td>\n",
       "      <td>c</td>\n",
       "      <td>a</td>\n",
       "      <td>l</td>\n",
       "      <td>a</td>\n",
       "    </tr>\n",
       "  </tbody>\n",
       "</table>\n",
       "<p>5 rows × 26 columns</p>\n",
       "</div>"
      ],
      "text/plain": [
       "    lemma    word aspect disambig      db_id  \\\n",
       "0  bacati    baca    imp      imp  set-s2762   \n",
       "1  bacati  bacaju    imp      imp   set-s693   \n",
       "2  bacati  bacaju    imp      imp  set-s2765   \n",
       "3  bacati  bacaju    imp      imp  set-s3624   \n",
       "4  bacati  bacala    imp      imp  set-s2360   \n",
       "\n",
       "                                                text Gender  Mood Number  \\\n",
       "0  Otpad iz šest priobalnih zemalja, kao i država...   None   Ind   Sing   \n",
       "1  Kosovski Srbi bacaju kamenje na vojnike KFOR-a...   None   Ind   Plur   \n",
       "2  \"Umesto da bacaju mulj 25-30 km prema pučini, ...   None   Ind   Plur   \n",
       "3  Blokirani razgovori sa MMF bacaju senku na nek...   None   Ind   Plur   \n",
       "4  Prve večeri, publika je bacala flaše na bosans...    Fem  None   Sing   \n",
       "\n",
       "    POS  ...      l_tok_1  r_tok_1 r_tok_2   r_tok_3 l_gr_1 l_gr_2 l_gr_3  \\\n",
       "0  VERB  ...  jednostavno        u    vodu     [PAD]      b      a      c   \n",
       "1  VERB  ...         Srbi  kamenje      na   vojnike      b      a      c   \n",
       "2  VERB  ...           da     mulj      25        30      b      a      c   \n",
       "3  VERB  ...          MMF    senku      na    nekada      b      a      c   \n",
       "4  VERB  ...           je    flaše      na  bosanski      b      a      c   \n",
       "\n",
       "  r_gr_1 r_gr_2 r_gr_3  \n",
       "0      a      c      a  \n",
       "1      u      j      a  \n",
       "2      u      j      a  \n",
       "3      u      j      a  \n",
       "4      a      l      a  \n",
       "\n",
       "[5 rows x 26 columns]"
      ]
     },
     "execution_count": 50,
     "metadata": {},
     "output_type": "execute_result"
    }
   ],
   "source": [
    "col_names = [\"l_gr_1\", \"l_gr_2\", \"l_gr_3\", \"r_gr_1\", \"r_gr_2\", \"r_gr_3\"]\n",
    "\n",
    "for name in col_names:\n",
    "    df_for_analysis[name] = None\n",
    "\n",
    "for i, row in df_for_analysis.copy().iterrows():\n",
    "\n",
    "    graphemes = get_graphemes(row[\"word\"].lower())\n",
    "    for j, name in enumerate(col_names):\n",
    "        df_for_analysis.loc[i, name] = graphemes[j]\n",
    "\n",
    "df_for_analysis.head()"
   ]
  },
  {
   "cell_type": "markdown",
   "metadata": {},
   "source": [
    "#### Теперь нужно обработать зависимые узлы: nsubj, obj, iobj, obl, advmod"
   ]
  },
  {
   "cell_type": "code",
   "execution_count": 57,
   "metadata": {},
   "outputs": [],
   "source": [
    "from collections import Counter"
   ]
  },
  {
   "cell_type": "code",
   "execution_count": 66,
   "metadata": {},
   "outputs": [],
   "source": [
    "deps_raw = {\n",
    "    \"nsubj\" : list(),\n",
    "    \"obj\"   : list(),\n",
    "    \"iobj\"  : list(),\n",
    "    \"obl\"   : list(),\n",
    "    \"advmod\": list(),\n",
    "    \"aux\": list(),\n",
    "}\n",
    "\n",
    "for i, row in df_for_analysis.copy().iterrows():\n",
    "\n",
    "    tree = CONLLU_DB[row[\"db_id\"]][\"tree\"]\n",
    "    node = get_verb_node(row[\"word\"], CONLLU_DB[row[\"db_id\"]])\n",
    "\n",
    "    for dep in deps_raw: \n",
    "        children = node[\"deps\"].get(dep, [])\n",
    "        children_words = [tree.nodes[j][\"word\"].lower() for j in children]\n",
    "        deps_raw[dep].extend(children_words)"
   ]
  },
  {
   "cell_type": "code",
   "execution_count": 68,
   "metadata": {},
   "outputs": [],
   "source": [
    "deps_counts = {dep: Counter(deps_raw[dep]) for dep in deps_raw}"
   ]
  },
  {
   "cell_type": "code",
   "execution_count": 69,
   "metadata": {},
   "outputs": [
    {
     "name": "stdout",
     "output_type": "stream",
     "text": [
      "nsubj\n",
      "3393\n",
      "[('koji', 184), ('on', 127), ('koja', 81), ('ministar', 61), ('premijer', 49), ('vlada', 49), ('koje', 47), ('predsednik', 46), ('to', 41), ('što', 37)]\n",
      "\n",
      "obj\n",
      "1842\n",
      "[('koje', 40), ('koju', 37), ('koji', 29), ('podršku', 26), ('ga', 25), ('to', 23), ('sporazum', 20), ('ostavku', 18), ('napredak', 15), ('evra', 12)]\n",
      "\n",
      "iobj\n",
      "1\n",
      "[('posetiocima', 1)]\n",
      "\n",
      "obl\n",
      "2756\n",
      "[('setimes', 70), ('godine', 55), ('ponedeljak', 38), ('utorak', 28), ('sredu', 27), ('četvrtak', 25), ('nedelje', 22), ('toga', 22), ('evra', 20), ('godina', 19)]\n",
      "\n",
      "advmod\n",
      "811\n",
      "[('ne', 153), ('takođe', 63), ('kada', 34), ('uvek', 23), ('gde', 22), ('više', 20), ('sada', 19), ('kako', 18), ('danas', 16), ('ponovo', 15)]\n",
      "\n",
      "aux\n",
      "2165\n",
      "[('je', 1206), ('su', 337), ('bi', 235), ('će', 224), ('nije', 41), ('neće', 27), ('smo', 22), ('nisu', 13), ('sam', 12), ('ćemo', 9)]\n",
      "\n"
     ]
    }
   ],
   "source": [
    "for dep in deps_counts:\n",
    "    print(dep)\n",
    "    print(deps_counts[dep].total())\n",
    "    print(deps_counts[dep].most_common(10))\n",
    "    print()"
   ]
  },
  {
   "cell_type": "markdown",
   "metadata": {},
   "source": [
    "#### iobj дальше не берем."
   ]
  },
  {
   "cell_type": "code",
   "execution_count": 70,
   "metadata": {},
   "outputs": [],
   "source": [
    "del deps_counts[\"iobj\"]"
   ]
  },
  {
   "cell_type": "markdown",
   "metadata": {},
   "source": [
    "#### Скорее всего, не все эти слова важны нам статистически.\n",
    "В датасет для анализа мы возьмем только частотные кейсы. Для этого нам нужно определить границу частотности.\n",
    "Помимо прочего мы хотим взять в датасет и отрицание. У частицы \"ne\" частотность хорошая, а вот у форм biti уже не очень. Поэтому раз уж мы здесь, границу частотности установим чуть меньше, чем у минимально встретившегося biti в форме с отрицанием."
   ]
  },
  {
   "cell_type": "code",
   "execution_count": 81,
   "metadata": {},
   "outputs": [
    {
     "name": "stdout",
     "output_type": "stream",
     "text": [
      "nisu 13\n",
      "nije 41\n",
      "neće 27\n",
      "nisam 3\n",
      "nismo 5\n",
      "nećemo 1\n",
      "neću 1\n"
     ]
    }
   ],
   "source": [
    "for word in deps_counts[\"aux\"]:\n",
    "    if word.startswith(\"ni\") or  word.startswith(\"ne\"):\n",
    "        print(word, deps_counts[\"aux\"][word])"
   ]
  },
  {
   "cell_type": "markdown",
   "metadata": {},
   "source": [
    "у нас очень мало таких штук( придется определять отрицание руками. А для частотностей определим границу 5."
   ]
  },
  {
   "cell_type": "code",
   "execution_count": 85,
   "metadata": {},
   "outputs": [],
   "source": [
    "del deps_counts[\"aux\"]"
   ]
  },
  {
   "cell_type": "code",
   "execution_count": 86,
   "metadata": {},
   "outputs": [],
   "source": [
    "filtered_deps = {\n",
    "    dep: set()\n",
    "    for dep\n",
    "    in deps_counts\n",
    "}\n",
    "\n",
    "for dep in deps_counts:\n",
    "    for word in deps_counts[dep]:\n",
    "        if deps_counts[dep][word] > 5:\n",
    "            filtered_deps[dep].add(word)"
   ]
  },
  {
   "cell_type": "code",
   "execution_count": 92,
   "metadata": {},
   "outputs": [
    {
     "name": "stdout",
     "output_type": "stream",
     "text": [
      "nsubj 90\n",
      "obj 53\n",
      "obl 75\n",
      "advmod 32\n"
     ]
    }
   ],
   "source": [
    "for dep in filtered_deps:\n",
    "    print(dep, len(filtered_deps[dep]))"
   ]
  },
  {
   "cell_type": "code",
   "execution_count": 95,
   "metadata": {},
   "outputs": [],
   "source": [
    "for dep in filtered_deps:\n",
    "    df_for_analysis[dep] = \"[PAD]\"\n",
    "    df_for_analysis[dep + \"_count\"] = 0\n",
    "\n",
    "for i, row in df_for_analysis.copy().iterrows():\n",
    "\n",
    "    tree = CONLLU_DB[row[\"db_id\"]][\"tree\"]\n",
    "    node = get_verb_node(row[\"word\"], CONLLU_DB[row[\"db_id\"]])\n",
    "\n",
    "    for dep in filtered_deps: \n",
    "        children = node[\"deps\"].get(dep, [])\n",
    "        children_words = [tree.nodes[j][\"word\"].lower() for j in children]\n",
    "        children_words = [word for word in children_words if word in filtered_deps[dep]]\n",
    "        \n",
    "        if children_words:\n",
    "            df_for_analysis.loc[i, dep] = \", \".join(children_words)\n",
    "            df_for_analysis.loc[i, dep + \"_count\"] = len(children_words)"
   ]
  },
  {
   "cell_type": "code",
   "execution_count": 96,
   "metadata": {},
   "outputs": [
    {
     "data": {
      "text/html": [
       "<div>\n",
       "<style scoped>\n",
       "    .dataframe tbody tr th:only-of-type {\n",
       "        vertical-align: middle;\n",
       "    }\n",
       "\n",
       "    .dataframe tbody tr th {\n",
       "        vertical-align: top;\n",
       "    }\n",
       "\n",
       "    .dataframe thead th {\n",
       "        text-align: right;\n",
       "    }\n",
       "</style>\n",
       "<table border=\"1\" class=\"dataframe\">\n",
       "  <thead>\n",
       "    <tr style=\"text-align: right;\">\n",
       "      <th></th>\n",
       "      <th>lemma</th>\n",
       "      <th>word</th>\n",
       "      <th>aspect</th>\n",
       "      <th>disambig</th>\n",
       "      <th>db_id</th>\n",
       "      <th>text</th>\n",
       "      <th>Gender</th>\n",
       "      <th>Mood</th>\n",
       "      <th>Number</th>\n",
       "      <th>POS</th>\n",
       "      <th>...</th>\n",
       "      <th>r_gr_2</th>\n",
       "      <th>r_gr_3</th>\n",
       "      <th>nsubj</th>\n",
       "      <th>nsubj_count</th>\n",
       "      <th>obj</th>\n",
       "      <th>obj_count</th>\n",
       "      <th>obl</th>\n",
       "      <th>obl_count</th>\n",
       "      <th>advmod</th>\n",
       "      <th>advmod_count</th>\n",
       "    </tr>\n",
       "  </thead>\n",
       "  <tbody>\n",
       "    <tr>\n",
       "      <th>0</th>\n",
       "      <td>bacati</td>\n",
       "      <td>baca</td>\n",
       "      <td>imp</td>\n",
       "      <td>imp</td>\n",
       "      <td>set-s2762</td>\n",
       "      <td>Otpad iz šest priobalnih zemalja, kao i država...</td>\n",
       "      <td>None</td>\n",
       "      <td>Ind</td>\n",
       "      <td>Sing</td>\n",
       "      <td>VERB</td>\n",
       "      <td>...</td>\n",
       "      <td>c</td>\n",
       "      <td>a</td>\n",
       "      <td>[PAD]</td>\n",
       "      <td>0</td>\n",
       "      <td>[PAD]</td>\n",
       "      <td>0</td>\n",
       "      <td>[PAD]</td>\n",
       "      <td>0</td>\n",
       "      <td>[PAD]</td>\n",
       "      <td>0</td>\n",
       "    </tr>\n",
       "    <tr>\n",
       "      <th>1</th>\n",
       "      <td>bacati</td>\n",
       "      <td>bacaju</td>\n",
       "      <td>imp</td>\n",
       "      <td>imp</td>\n",
       "      <td>set-s693</td>\n",
       "      <td>Kosovski Srbi bacaju kamenje na vojnike KFOR-a...</td>\n",
       "      <td>None</td>\n",
       "      <td>Ind</td>\n",
       "      <td>Plur</td>\n",
       "      <td>VERB</td>\n",
       "      <td>...</td>\n",
       "      <td>j</td>\n",
       "      <td>a</td>\n",
       "      <td>[PAD]</td>\n",
       "      <td>0</td>\n",
       "      <td>[PAD]</td>\n",
       "      <td>0</td>\n",
       "      <td>ponedeljak</td>\n",
       "      <td>1</td>\n",
       "      <td>[PAD]</td>\n",
       "      <td>0</td>\n",
       "    </tr>\n",
       "    <tr>\n",
       "      <th>2</th>\n",
       "      <td>bacati</td>\n",
       "      <td>bacaju</td>\n",
       "      <td>imp</td>\n",
       "      <td>imp</td>\n",
       "      <td>set-s2765</td>\n",
       "      <td>\"Umesto da bacaju mulj 25-30 km prema pučini, ...</td>\n",
       "      <td>None</td>\n",
       "      <td>Ind</td>\n",
       "      <td>Plur</td>\n",
       "      <td>VERB</td>\n",
       "      <td>...</td>\n",
       "      <td>j</td>\n",
       "      <td>a</td>\n",
       "      <td>[PAD]</td>\n",
       "      <td>0</td>\n",
       "      <td>[PAD]</td>\n",
       "      <td>0</td>\n",
       "      <td>[PAD]</td>\n",
       "      <td>0</td>\n",
       "      <td>[PAD]</td>\n",
       "      <td>0</td>\n",
       "    </tr>\n",
       "    <tr>\n",
       "      <th>3</th>\n",
       "      <td>bacati</td>\n",
       "      <td>bacaju</td>\n",
       "      <td>imp</td>\n",
       "      <td>imp</td>\n",
       "      <td>set-s3624</td>\n",
       "      <td>Blokirani razgovori sa MMF bacaju senku na nek...</td>\n",
       "      <td>None</td>\n",
       "      <td>Ind</td>\n",
       "      <td>Plur</td>\n",
       "      <td>VERB</td>\n",
       "      <td>...</td>\n",
       "      <td>j</td>\n",
       "      <td>a</td>\n",
       "      <td>razgovori</td>\n",
       "      <td>1</td>\n",
       "      <td>[PAD]</td>\n",
       "      <td>0</td>\n",
       "      <td>[PAD]</td>\n",
       "      <td>0</td>\n",
       "      <td>[PAD]</td>\n",
       "      <td>0</td>\n",
       "    </tr>\n",
       "    <tr>\n",
       "      <th>4</th>\n",
       "      <td>bacati</td>\n",
       "      <td>bacala</td>\n",
       "      <td>imp</td>\n",
       "      <td>imp</td>\n",
       "      <td>set-s2360</td>\n",
       "      <td>Prve večeri, publika je bacala flaše na bosans...</td>\n",
       "      <td>Fem</td>\n",
       "      <td>None</td>\n",
       "      <td>Sing</td>\n",
       "      <td>VERB</td>\n",
       "      <td>...</td>\n",
       "      <td>l</td>\n",
       "      <td>a</td>\n",
       "      <td>[PAD]</td>\n",
       "      <td>0</td>\n",
       "      <td>[PAD]</td>\n",
       "      <td>0</td>\n",
       "      <td>[PAD]</td>\n",
       "      <td>0</td>\n",
       "      <td>[PAD]</td>\n",
       "      <td>0</td>\n",
       "    </tr>\n",
       "  </tbody>\n",
       "</table>\n",
       "<p>5 rows × 34 columns</p>\n",
       "</div>"
      ],
      "text/plain": [
       "    lemma    word aspect disambig      db_id  \\\n",
       "0  bacati    baca    imp      imp  set-s2762   \n",
       "1  bacati  bacaju    imp      imp   set-s693   \n",
       "2  bacati  bacaju    imp      imp  set-s2765   \n",
       "3  bacati  bacaju    imp      imp  set-s3624   \n",
       "4  bacati  bacala    imp      imp  set-s2360   \n",
       "\n",
       "                                                text Gender  Mood Number  \\\n",
       "0  Otpad iz šest priobalnih zemalja, kao i država...   None   Ind   Sing   \n",
       "1  Kosovski Srbi bacaju kamenje na vojnike KFOR-a...   None   Ind   Plur   \n",
       "2  \"Umesto da bacaju mulj 25-30 km prema pučini, ...   None   Ind   Plur   \n",
       "3  Blokirani razgovori sa MMF bacaju senku na nek...   None   Ind   Plur   \n",
       "4  Prve večeri, publika je bacala flaše na bosans...    Fem  None   Sing   \n",
       "\n",
       "    POS  ... r_gr_2 r_gr_3      nsubj nsubj_count    obj obj_count  \\\n",
       "0  VERB  ...      c      a      [PAD]           0  [PAD]         0   \n",
       "1  VERB  ...      j      a      [PAD]           0  [PAD]         0   \n",
       "2  VERB  ...      j      a      [PAD]           0  [PAD]         0   \n",
       "3  VERB  ...      j      a  razgovori           1  [PAD]         0   \n",
       "4  VERB  ...      l      a      [PAD]           0  [PAD]         0   \n",
       "\n",
       "          obl obl_count advmod advmod_count  \n",
       "0       [PAD]         0  [PAD]            0  \n",
       "1  ponedeljak         1  [PAD]            0  \n",
       "2       [PAD]         0  [PAD]            0  \n",
       "3       [PAD]         0  [PAD]            0  \n",
       "4       [PAD]         0  [PAD]            0  \n",
       "\n",
       "[5 rows x 34 columns]"
      ]
     },
     "execution_count": 96,
     "metadata": {},
     "output_type": "execute_result"
    }
   ],
   "source": [
    "df_for_analysis.head()"
   ]
  },
  {
   "cell_type": "code",
   "execution_count": null,
   "metadata": {},
   "outputs": [],
   "source": [
    "df_for_analysis.to_csv(\"./data/datasetForAnalysis.csv\", sep=\"\\t\", quoting=csv.QUOTE_NONE)"
   ]
  },
  {
   "cell_type": "code",
   "execution_count": null,
   "metadata": {},
   "outputs": [],
   "source": []
  },
  {
   "cell_type": "code",
   "execution_count": null,
   "metadata": {},
   "outputs": [],
   "source": []
  },
  {
   "cell_type": "code",
   "execution_count": null,
   "metadata": {},
   "outputs": [],
   "source": []
  },
  {
   "cell_type": "code",
   "execution_count": 80,
   "metadata": {},
   "outputs": [],
   "source": [
    "biti_forms = [\n",
    "    \"nisam\",\n",
    "    \"nisi\",\n",
    "    \"nije\",\n",
    "    \"nismo\",\n",
    "    \"niste\",\n",
    "    \"nisu\",\n",
    "]\n",
    "\n",
    "hteti_forms = [\n",
    "    \"neću\",\n",
    "    \"nećeš\",\n",
    "    \"neće\",\n",
    "    \"nećemo\",\n",
    "    \"nećete\",\n",
    "    \"neću\",\n",
    "]\n",
    "\n",
    "all_neg_aux = set(biti_forms + hteti_forms)"
   ]
  }
 ],
 "metadata": {
  "kernelspec": {
   "display_name": ".venv",
   "language": "python",
   "name": "python3"
  },
  "language_info": {
   "codemirror_mode": {
    "name": "ipython",
    "version": 3
   },
   "file_extension": ".py",
   "mimetype": "text/x-python",
   "name": "python",
   "nbconvert_exporter": "python",
   "pygments_lexer": "ipython3",
   "version": "3.13.1"
  }
 },
 "nbformat": 4,
 "nbformat_minor": 2
}
