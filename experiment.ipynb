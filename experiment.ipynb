{
 "cells": [
  {
   "cell_type": "markdown",
   "metadata": {},
   "source": [
    "#### Загрузка данных"
   ]
  },
  {
   "cell_type": "code",
   "execution_count": 1,
   "metadata": {},
   "outputs": [],
   "source": [
    "from pathlib import Path\n",
    "import requests"
   ]
  },
  {
   "cell_type": "code",
   "execution_count": 3,
   "metadata": {},
   "outputs": [],
   "source": [
    "data_dir = Path.cwd() / \"data\"\n",
    "serb_train = data_dir / \"sr_set-ud-train.conllu\"\n",
    "\n",
    "if not data_dir.exists():\n",
    "    data_dir.mkdir()\n",
    "\n",
    "if not serb_train.exists():\n",
    "    \n",
    "    url = r\"https://raw.githubusercontent.com/UniversalDependencies/UD_Serbian-SET/refs/heads/master/sr_set-ud-train.conllu\"\n",
    "\n",
    "    try:\n",
    "        response = requests.get(url, timeout=15)\n",
    "        response.raise_for_status()\n",
    "\n",
    "    except requests.exceptions.RequestException as e:\n",
    "        print(f\"Download failed: {e}\")\n",
    "\n",
    "    else:\n",
    "        with open(serb_train, \"w\", encoding=\"utf-8\") as file:\n",
    "            file.write(response.text)\n"
   ]
  },
  {
   "cell_type": "markdown",
   "metadata": {},
   "source": [
    "### Подготовка данных"
   ]
  },
  {
   "cell_type": "code",
   "execution_count": 4,
   "metadata": {},
   "outputs": [],
   "source": [
    "from nltk.parse import DependencyGraph\n",
    "import warnings\n",
    "warnings.filterwarnings('ignore')"
   ]
  },
  {
   "cell_type": "code",
   "execution_count": 5,
   "metadata": {},
   "outputs": [],
   "source": [
    "with open(serb_train, \"r\", encoding=\"utf-8\") as file:\n",
    "    data = file.read()"
   ]
  },
  {
   "cell_type": "code",
   "execution_count": 6,
   "metadata": {},
   "outputs": [],
   "source": [
    "sents = [sent for sent in data.split(\"\\n\\n\") if sent.strip()]"
   ]
  },
  {
   "cell_type": "code",
   "execution_count": 7,
   "metadata": {},
   "outputs": [
    {
     "data": {
      "text/plain": [
       "3328"
      ]
     },
     "execution_count": 7,
     "metadata": {},
     "output_type": "execute_result"
    }
   ],
   "source": [
    "len(sents)"
   ]
  },
  {
   "cell_type": "code",
   "execution_count": 9,
   "metadata": {},
   "outputs": [],
   "source": [
    "sents = [\n",
    "    \"\\n\".join(\n",
    "        filter(\n",
    "            lambda line: line.strip()[0] != \"#\",\n",
    "            sent.split(\"\\n\")\n",
    "        )\n",
    "    )\n",
    "    for sent\n",
    "    in sents\n",
    "]\n"
   ]
  },
  {
   "cell_type": "code",
   "execution_count": 11,
   "metadata": {},
   "outputs": [],
   "source": [
    "trees = [\n",
    "    DependencyGraph(sent)\n",
    "    for sent\n",
    "    in sents\n",
    "]"
   ]
  },
  {
   "cell_type": "code",
   "execution_count": 13,
   "metadata": {},
   "outputs": [],
   "source": [
    "class Node:\n",
    "    def __init__(self, tree_id: int, node_id: int) -> None:\n",
    "        self.tree_id = tree_id\n",
    "        self.node_id = node_id\n",
    "\n",
    "    def __repr__(self) -> str:\n",
    "        return f\"{self.__class__.__name__}(tree={self.tree_id}, node={self.node_id})\"\n"
   ]
  },
  {
   "cell_type": "code",
   "execution_count": 14,
   "metadata": {},
   "outputs": [],
   "source": [
    "verbs: dict[\n",
    "    str,\n",
    "    dict[\n",
    "        str,\n",
    "        list[\n",
    "            dict[\n",
    "                str,\n",
    "                str\n",
    "            ]\n",
    "        ]\n",
    "    ]\n",
    "] = {}\n",
    "\n",
    "distinct_verbs: set[str] = set()\n",
    "\n",
    "for i, tree in enumerate(trees):\n",
    "    for key in tree.nodes:\n",
    "        node = tree.nodes[key]\n",
    "        ctag = node.get(\"ctag\", None)\n",
    "        if ctag == \"VERB\" :\n",
    "            lemma = node[\"lemma\"]\n",
    "            forms_dict =  verbs.get(lemma, dict())\n",
    "\n",
    "            word = node[\"word\"]\n",
    "            forms_dict[word] = forms_dict.get(word, list()) + [Node(i, key)]\n",
    "\n",
    "            verbs[lemma] = forms_dict\n",
    "\n",
    "            distinct_verbs.add(word)\n"
   ]
  },
  {
   "cell_type": "code",
   "execution_count": 15,
   "metadata": {},
   "outputs": [],
   "source": [
    "from collections import Counter"
   ]
  },
  {
   "cell_type": "code",
   "execution_count": 16,
   "metadata": {},
   "outputs": [],
   "source": [
    "verbs_counts = Counter(\n",
    "    {\n",
    "        lemma: sum(\n",
    "            [\n",
    "                len(verbs[lemma][form])\n",
    "                for\n",
    "                    form\n",
    "                in\n",
    "                    verbs[lemma]\n",
    "            ]\n",
    "        )\n",
    "        for\n",
    "            lemma\n",
    "        in\n",
    "            verbs\n",
    "    }\n",
    ")"
   ]
  },
  {
   "cell_type": "code",
   "execution_count": 19,
   "metadata": {},
   "outputs": [
    {
     "name": "stdout",
     "output_type": "stream",
     "text": [
      "\n",
      "    Кол-во лемм: 1151\n",
      "    Кол-во уникальных форм: 2624\n",
      "    Всего глаголов: 6406\n",
      "    \n"
     ]
    }
   ],
   "source": [
    "print(f\"\"\"\n",
    "    Кол-во лемм: {len(verbs)}\n",
    "    Кол-во уникальных форм: {len(distinct_verbs)}\n",
    "    Всего глаголов: {sum(verbs_counts.values())}\n",
    "    \"\"\"\n",
    ")"
   ]
  },
  {
   "cell_type": "code",
   "execution_count": 28,
   "metadata": {},
   "outputs": [],
   "source": [
    "def get_verb(trees: list[dict], verb: Node) -> dict:\n",
    "    return trees[verb.tree_id].nodes[verb.node_id]"
   ]
  },
  {
   "cell_type": "code",
   "execution_count": null,
   "metadata": {},
   "outputs": [],
   "source": [
    "## TODO:\n",
    "\n",
    "#\n",
    "#  + 1. собрать 150 глаголов сов в и 150 несов в ГОТОВО (verbs_data.csv)\n",
    "#  - 2. категоризовать актанты\n",
    "#  - 3. тип субъекта и объекта\n",
    "#  - 4. obl nsubj iboj\n",
    "#  - 5. наличие отрицания\n",
    "#  - 6. наречия\n",
    "#  - 7. все глагольные теги\n",
    "#  - 8. окна (по 4 слева-справа) или предложения целиком\n",
    "#  \n"
   ]
  }
 ],
 "metadata": {
  "kernelspec": {
   "display_name": ".venv",
   "language": "python",
   "name": "python3"
  },
  "language_info": {
   "codemirror_mode": {
    "name": "ipython",
    "version": 3
   },
   "file_extension": ".py",
   "mimetype": "text/x-python",
   "name": "python",
   "nbconvert_exporter": "python",
   "pygments_lexer": "ipython3",
   "version": "3.13.1"
  }
 },
 "nbformat": 4,
 "nbformat_minor": 2
}
